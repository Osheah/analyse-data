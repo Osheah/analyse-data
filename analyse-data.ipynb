{
 "cells": [
  {
   "cell_type": "markdown",
   "id": "manual-chrome",
   "metadata": {},
   "source": [
    "# Analyse Data from memory dump or another data set\n",
    "\n",
    "This assignment is to analyse data. For this I used Seamus's Dowling timeline file base-rd-01-supertimeline.csv which can be found in the Teams files for the course IDR (part of GMIT's certificate in Cybersecurity). I have not uploaded that file to github in this repo though you can find it [here](https://galwaymayoinstitute.sharepoint.com/sites/21-2253897--INCIDENTDETECTIONANDRESPONSE/_layouts/15/Doc.aspx?OR=teams&action=edit&sourcedoc={5AFDCBA0-B5CF-419E-B7AB-63497B65A71B}). You will have to login to GMIT to access it. The file is stored in the same directory that contains this notebook.  \n"
   ]
  },
  {
   "cell_type": "markdown",
   "id": "comfortable-shepherd",
   "metadata": {},
   "source": [
    "## import the packages"
   ]
  },
  {
   "cell_type": "code",
   "execution_count": 1,
   "id": "novel-relief",
   "metadata": {
    "scrolled": false
   },
   "outputs": [],
   "source": [
    "# imports\n",
    "import pandas as pd # main package for dataframes\n",
    "import numpy as np \n",
    "import matplotlib.pyplot as plt\n",
    "%matplotlib inline \n",
    "# magic function to show plots inline in the notebook\n",
    "import datetime as dt\n",
    "import matplotlib.ticker as ticker\n",
    "import seaborn as sns\n",
    "import re \n",
    "from collections import Counter"
   ]
  },
  {
   "cell_type": "markdown",
   "id": "saving-crawford",
   "metadata": {},
   "source": [
    "Firstly, read the file. I looked at the csv headers before loading it to pandas "
   ]
  },
  {
   "cell_type": "code",
   "execution_count": 2,
   "id": "passing-flooring",
   "metadata": {},
   "outputs": [
    {
     "data": {
      "text/html": [
       "<div>\n",
       "<style scoped>\n",
       "    .dataframe tbody tr th:only-of-type {\n",
       "        vertical-align: middle;\n",
       "    }\n",
       "\n",
       "    .dataframe tbody tr th {\n",
       "        vertical-align: top;\n",
       "    }\n",
       "\n",
       "    .dataframe thead th {\n",
       "        text-align: right;\n",
       "    }\n",
       "</style>\n",
       "<table border=\"1\" class=\"dataframe\">\n",
       "  <thead>\n",
       "    <tr style=\"text-align: right;\">\n",
       "      <th></th>\n",
       "      <th>date</th>\n",
       "      <th>time</th>\n",
       "      <th>timezone</th>\n",
       "      <th>MACB</th>\n",
       "      <th>source</th>\n",
       "      <th>sourcetype</th>\n",
       "      <th>type</th>\n",
       "      <th>user</th>\n",
       "      <th>host</th>\n",
       "      <th>short</th>\n",
       "      <th>desc</th>\n",
       "      <th>version</th>\n",
       "      <th>filename</th>\n",
       "      <th>inode</th>\n",
       "      <th>notes</th>\n",
       "      <th>format</th>\n",
       "      <th>extra</th>\n",
       "    </tr>\n",
       "  </thead>\n",
       "  <tbody>\n",
       "    <tr>\n",
       "      <th>0</th>\n",
       "      <td>08/23/2018</td>\n",
       "      <td>00:01:01</td>\n",
       "      <td>UTC</td>\n",
       "      <td>M...</td>\n",
       "      <td>EVT</td>\n",
       "      <td>WinEVTX</td>\n",
       "      <td>Content Modification Time</td>\n",
       "      <td>-</td>\n",
       "      <td>-</td>\n",
       "      <td>[107 / 0x006b] Strings: ['\\Microsoft\\Windows\\W...</td>\n",
       "      <td>[107 / 0x006b] Source Name: Microsoft-Windows-...</td>\n",
       "      <td>2</td>\n",
       "      <td>OS:E:\\C\\Windows\\system32\\winevt\\logs\\Microsoft...</td>\n",
       "      <td>0</td>\n",
       "      <td>-</td>\n",
       "      <td>winevtx</td>\n",
       "      <td>recovered: False; sha256_hash: cde410aa7b94ef1...</td>\n",
       "    </tr>\n",
       "    <tr>\n",
       "      <th>1</th>\n",
       "      <td>08/23/2018</td>\n",
       "      <td>00:01:01</td>\n",
       "      <td>UTC</td>\n",
       "      <td>M...</td>\n",
       "      <td>EVT</td>\n",
       "      <td>WinEVTX</td>\n",
       "      <td>Content Modification Time</td>\n",
       "      <td>-</td>\n",
       "      <td>-</td>\n",
       "      <td>[129 / 0x0081] Strings: ['\\Microsoft\\Windows\\W...</td>\n",
       "      <td>[129 / 0x0081] Source Name: Microsoft-Windows-...</td>\n",
       "      <td>2</td>\n",
       "      <td>OS:E:\\C\\Windows\\system32\\winevt\\logs\\Microsoft...</td>\n",
       "      <td>0</td>\n",
       "      <td>-</td>\n",
       "      <td>winevtx</td>\n",
       "      <td>recovered: False; sha256_hash: cde410aa7b94ef1...</td>\n",
       "    </tr>\n",
       "    <tr>\n",
       "      <th>2</th>\n",
       "      <td>08/23/2018</td>\n",
       "      <td>00:01:01</td>\n",
       "      <td>UTC</td>\n",
       "      <td>M...</td>\n",
       "      <td>EVT</td>\n",
       "      <td>WinEVTX</td>\n",
       "      <td>Content Modification Time</td>\n",
       "      <td>-</td>\n",
       "      <td>-</td>\n",
       "      <td>[100 / 0x0064] Strings: ['\\Microsoft\\Windows\\W...</td>\n",
       "      <td>[100 / 0x0064] Source Name: Microsoft-Windows-...</td>\n",
       "      <td>2</td>\n",
       "      <td>OS:E:\\C\\Windows\\system32\\winevt\\logs\\Microsoft...</td>\n",
       "      <td>0</td>\n",
       "      <td>-</td>\n",
       "      <td>winevtx</td>\n",
       "      <td>recovered: False; sha256_hash: cde410aa7b94ef1...</td>\n",
       "    </tr>\n",
       "    <tr>\n",
       "      <th>3</th>\n",
       "      <td>08/23/2018</td>\n",
       "      <td>00:01:01</td>\n",
       "      <td>UTC</td>\n",
       "      <td>M...</td>\n",
       "      <td>EVT</td>\n",
       "      <td>WinEVTX</td>\n",
       "      <td>Content Modification Time</td>\n",
       "      <td>-</td>\n",
       "      <td>-</td>\n",
       "      <td>[200 / 0x00c8] Strings: ['\\Microsoft\\Windows\\W...</td>\n",
       "      <td>[200 / 0x00c8] Source Name: Microsoft-Windows-...</td>\n",
       "      <td>2</td>\n",
       "      <td>OS:E:\\C\\Windows\\system32\\winevt\\logs\\Microsoft...</td>\n",
       "      <td>0</td>\n",
       "      <td>-</td>\n",
       "      <td>winevtx</td>\n",
       "      <td>recovered: False; sha256_hash: cde410aa7b94ef1...</td>\n",
       "    </tr>\n",
       "    <tr>\n",
       "      <th>4</th>\n",
       "      <td>08/23/2018</td>\n",
       "      <td>00:01:13</td>\n",
       "      <td>UTC</td>\n",
       "      <td>M...</td>\n",
       "      <td>EVT</td>\n",
       "      <td>WinEVTX</td>\n",
       "      <td>Content Modification Time</td>\n",
       "      <td>-</td>\n",
       "      <td>-</td>\n",
       "      <td>[140 / 0x008c] Strings: ['\\Microsoft\\Windows\\W...</td>\n",
       "      <td>[140 / 0x008c] Source Name: Microsoft-Windows-...</td>\n",
       "      <td>2</td>\n",
       "      <td>OS:E:\\C\\Windows\\system32\\winevt\\logs\\Microsoft...</td>\n",
       "      <td>0</td>\n",
       "      <td>-</td>\n",
       "      <td>winevtx</td>\n",
       "      <td>recovered: False; sha256_hash: cde410aa7b94ef1...</td>\n",
       "    </tr>\n",
       "    <tr>\n",
       "      <th>...</th>\n",
       "      <td>...</td>\n",
       "      <td>...</td>\n",
       "      <td>...</td>\n",
       "      <td>...</td>\n",
       "      <td>...</td>\n",
       "      <td>...</td>\n",
       "      <td>...</td>\n",
       "      <td>...</td>\n",
       "      <td>...</td>\n",
       "      <td>...</td>\n",
       "      <td>...</td>\n",
       "      <td>...</td>\n",
       "      <td>...</td>\n",
       "      <td>...</td>\n",
       "      <td>...</td>\n",
       "      <td>...</td>\n",
       "      <td>...</td>\n",
       "    </tr>\n",
       "    <tr>\n",
       "      <th>185161</th>\n",
       "      <td>09/06/2018</td>\n",
       "      <td>23:58:34</td>\n",
       "      <td>UTC</td>\n",
       "      <td>M...</td>\n",
       "      <td>EVT</td>\n",
       "      <td>WinEVTX</td>\n",
       "      <td>Content Modification Time</td>\n",
       "      <td>-</td>\n",
       "      <td>-</td>\n",
       "      <td>[1223 / 0x04c7] Strings: ['BND'  '3'  'CON\\QOS...</td>\n",
       "      <td>[1223 / 0x04c7] Source Name: Microsoft-Windows...</td>\n",
       "      <td>2</td>\n",
       "      <td>OS:E:\\C\\Windows\\system32\\winevt\\logs\\Microsoft...</td>\n",
       "      <td>0</td>\n",
       "      <td>-</td>\n",
       "      <td>winevtx</td>\n",
       "      <td>recovered: False; sha256_hash: a677ac5be58f722...</td>\n",
       "    </tr>\n",
       "    <tr>\n",
       "      <th>185162</th>\n",
       "      <td>09/06/2018</td>\n",
       "      <td>23:58:34</td>\n",
       "      <td>UTC</td>\n",
       "      <td>M...</td>\n",
       "      <td>EVT</td>\n",
       "      <td>WinEVTX</td>\n",
       "      <td>Content Modification Time</td>\n",
       "      <td>-</td>\n",
       "      <td>-</td>\n",
       "      <td>[1267 / 0x04f3] Strings: ['BND'  '3'  'CON\\QOS...</td>\n",
       "      <td>[1267 / 0x04f3] Source Name: Microsoft-Windows...</td>\n",
       "      <td>2</td>\n",
       "      <td>OS:E:\\C\\Windows\\system32\\winevt\\logs\\Microsoft...</td>\n",
       "      <td>0</td>\n",
       "      <td>-</td>\n",
       "      <td>winevtx</td>\n",
       "      <td>recovered: False; sha256_hash: a677ac5be58f722...</td>\n",
       "    </tr>\n",
       "    <tr>\n",
       "      <th>185163</th>\n",
       "      <td>09/06/2018</td>\n",
       "      <td>23:59:03</td>\n",
       "      <td>UTC</td>\n",
       "      <td>M...</td>\n",
       "      <td>EVT</td>\n",
       "      <td>WinEVTX</td>\n",
       "      <td>Content Modification Time</td>\n",
       "      <td>-</td>\n",
       "      <td>-</td>\n",
       "      <td>[145 / 0x0091] Strings: ['Enumeration'  'http:...</td>\n",
       "      <td>[145 / 0x0091] Source Name: Microsoft-Windows-...</td>\n",
       "      <td>2</td>\n",
       "      <td>OS:E:\\C\\Windows\\system32\\winevt\\logs\\Microsoft...</td>\n",
       "      <td>0</td>\n",
       "      <td>-</td>\n",
       "      <td>winevtx</td>\n",
       "      <td>recovered: False; sha256_hash: 6807dc60332085a...</td>\n",
       "    </tr>\n",
       "    <tr>\n",
       "      <th>185164</th>\n",
       "      <td>09/06/2018</td>\n",
       "      <td>23:59:03</td>\n",
       "      <td>UTC</td>\n",
       "      <td>M...</td>\n",
       "      <td>EVT</td>\n",
       "      <td>WinEVTX</td>\n",
       "      <td>Content Modification Time</td>\n",
       "      <td>-</td>\n",
       "      <td>-</td>\n",
       "      <td>[132 / 0x0084] Strings: ['Enumeration']</td>\n",
       "      <td>[132 / 0x0084] Source Name: Microsoft-Windows-...</td>\n",
       "      <td>2</td>\n",
       "      <td>OS:E:\\C\\Windows\\system32\\winevt\\logs\\Microsoft...</td>\n",
       "      <td>0</td>\n",
       "      <td>-</td>\n",
       "      <td>winevtx</td>\n",
       "      <td>recovered: False; sha256_hash: 6807dc60332085a...</td>\n",
       "    </tr>\n",
       "    <tr>\n",
       "      <th>185165</th>\n",
       "      <td>09/06/2018</td>\n",
       "      <td>23:59:15</td>\n",
       "      <td>UTC</td>\n",
       "      <td>M...</td>\n",
       "      <td>EVT</td>\n",
       "      <td>WinEVTX</td>\n",
       "      <td>Content Modification Time</td>\n",
       "      <td>-</td>\n",
       "      <td>-</td>\n",
       "      <td>[5857 / 0x16e1] Strings: ['WmiPerfInst'  '0x00...</td>\n",
       "      <td>[5857 / 0x16e1] Source Name: Microsoft-Windows...</td>\n",
       "      <td>2</td>\n",
       "      <td>OS:E:\\C\\Windows\\system32\\winevt\\logs\\Microsoft...</td>\n",
       "      <td>0</td>\n",
       "      <td>-</td>\n",
       "      <td>winevtx</td>\n",
       "      <td>recovered: False; sha256_hash: 14f3fb53ec0b7de...</td>\n",
       "    </tr>\n",
       "  </tbody>\n",
       "</table>\n",
       "<p>185166 rows × 17 columns</p>\n",
       "</div>"
      ],
      "text/plain": [
       "              date      time timezone  MACB source sourcetype  \\\n",
       "0       08/23/2018  00:01:01      UTC  M...    EVT    WinEVTX   \n",
       "1       08/23/2018  00:01:01      UTC  M...    EVT    WinEVTX   \n",
       "2       08/23/2018  00:01:01      UTC  M...    EVT    WinEVTX   \n",
       "3       08/23/2018  00:01:01      UTC  M...    EVT    WinEVTX   \n",
       "4       08/23/2018  00:01:13      UTC  M...    EVT    WinEVTX   \n",
       "...            ...       ...      ...   ...    ...        ...   \n",
       "185161  09/06/2018  23:58:34      UTC  M...    EVT    WinEVTX   \n",
       "185162  09/06/2018  23:58:34      UTC  M...    EVT    WinEVTX   \n",
       "185163  09/06/2018  23:59:03      UTC  M...    EVT    WinEVTX   \n",
       "185164  09/06/2018  23:59:03      UTC  M...    EVT    WinEVTX   \n",
       "185165  09/06/2018  23:59:15      UTC  M...    EVT    WinEVTX   \n",
       "\n",
       "                             type user host  \\\n",
       "0       Content Modification Time    -    -   \n",
       "1       Content Modification Time    -    -   \n",
       "2       Content Modification Time    -    -   \n",
       "3       Content Modification Time    -    -   \n",
       "4       Content Modification Time    -    -   \n",
       "...                           ...  ...  ...   \n",
       "185161  Content Modification Time    -    -   \n",
       "185162  Content Modification Time    -    -   \n",
       "185163  Content Modification Time    -    -   \n",
       "185164  Content Modification Time    -    -   \n",
       "185165  Content Modification Time    -    -   \n",
       "\n",
       "                                                    short  \\\n",
       "0       [107 / 0x006b] Strings: ['\\Microsoft\\Windows\\W...   \n",
       "1       [129 / 0x0081] Strings: ['\\Microsoft\\Windows\\W...   \n",
       "2       [100 / 0x0064] Strings: ['\\Microsoft\\Windows\\W...   \n",
       "3       [200 / 0x00c8] Strings: ['\\Microsoft\\Windows\\W...   \n",
       "4       [140 / 0x008c] Strings: ['\\Microsoft\\Windows\\W...   \n",
       "...                                                   ...   \n",
       "185161  [1223 / 0x04c7] Strings: ['BND'  '3'  'CON\\QOS...   \n",
       "185162  [1267 / 0x04f3] Strings: ['BND'  '3'  'CON\\QOS...   \n",
       "185163  [145 / 0x0091] Strings: ['Enumeration'  'http:...   \n",
       "185164            [132 / 0x0084] Strings: ['Enumeration']   \n",
       "185165  [5857 / 0x16e1] Strings: ['WmiPerfInst'  '0x00...   \n",
       "\n",
       "                                                     desc  version  \\\n",
       "0       [107 / 0x006b] Source Name: Microsoft-Windows-...        2   \n",
       "1       [129 / 0x0081] Source Name: Microsoft-Windows-...        2   \n",
       "2       [100 / 0x0064] Source Name: Microsoft-Windows-...        2   \n",
       "3       [200 / 0x00c8] Source Name: Microsoft-Windows-...        2   \n",
       "4       [140 / 0x008c] Source Name: Microsoft-Windows-...        2   \n",
       "...                                                   ...      ...   \n",
       "185161  [1223 / 0x04c7] Source Name: Microsoft-Windows...        2   \n",
       "185162  [1267 / 0x04f3] Source Name: Microsoft-Windows...        2   \n",
       "185163  [145 / 0x0091] Source Name: Microsoft-Windows-...        2   \n",
       "185164  [132 / 0x0084] Source Name: Microsoft-Windows-...        2   \n",
       "185165  [5857 / 0x16e1] Source Name: Microsoft-Windows...        2   \n",
       "\n",
       "                                                 filename  inode notes  \\\n",
       "0       OS:E:\\C\\Windows\\system32\\winevt\\logs\\Microsoft...      0     -   \n",
       "1       OS:E:\\C\\Windows\\system32\\winevt\\logs\\Microsoft...      0     -   \n",
       "2       OS:E:\\C\\Windows\\system32\\winevt\\logs\\Microsoft...      0     -   \n",
       "3       OS:E:\\C\\Windows\\system32\\winevt\\logs\\Microsoft...      0     -   \n",
       "4       OS:E:\\C\\Windows\\system32\\winevt\\logs\\Microsoft...      0     -   \n",
       "...                                                   ...    ...   ...   \n",
       "185161  OS:E:\\C\\Windows\\system32\\winevt\\logs\\Microsoft...      0     -   \n",
       "185162  OS:E:\\C\\Windows\\system32\\winevt\\logs\\Microsoft...      0     -   \n",
       "185163  OS:E:\\C\\Windows\\system32\\winevt\\logs\\Microsoft...      0     -   \n",
       "185164  OS:E:\\C\\Windows\\system32\\winevt\\logs\\Microsoft...      0     -   \n",
       "185165  OS:E:\\C\\Windows\\system32\\winevt\\logs\\Microsoft...      0     -   \n",
       "\n",
       "         format                                              extra  \n",
       "0       winevtx  recovered: False; sha256_hash: cde410aa7b94ef1...  \n",
       "1       winevtx  recovered: False; sha256_hash: cde410aa7b94ef1...  \n",
       "2       winevtx  recovered: False; sha256_hash: cde410aa7b94ef1...  \n",
       "3       winevtx  recovered: False; sha256_hash: cde410aa7b94ef1...  \n",
       "4       winevtx  recovered: False; sha256_hash: cde410aa7b94ef1...  \n",
       "...         ...                                                ...  \n",
       "185161  winevtx  recovered: False; sha256_hash: a677ac5be58f722...  \n",
       "185162  winevtx  recovered: False; sha256_hash: a677ac5be58f722...  \n",
       "185163  winevtx  recovered: False; sha256_hash: 6807dc60332085a...  \n",
       "185164  winevtx  recovered: False; sha256_hash: 6807dc60332085a...  \n",
       "185165  winevtx  recovered: False; sha256_hash: 14f3fb53ec0b7de...  \n",
       "\n",
       "[185166 rows x 17 columns]"
      ]
     },
     "execution_count": 2,
     "metadata": {},
     "output_type": "execute_result"
    }
   ],
   "source": [
    "# useful links https://github.com/jleaniz/misc/blob/master/timeilne_analysis.ipynb\n",
    "# cols are date,time,timezone,MACB,source,sourcetype,type,user,host,short,desc,version,filename,inode,notes,format,extra\n",
    "#filename = 'baserd01-filesystem-timeline.csv' # i was going to use this file but then went with the super timeline for more varied data\n",
    "filename = 'base-rd-01-supertimeline.csv'\n",
    "df = pd.read_csv(filename, sep=',')\n",
    "df"
   ]
  },
  {
   "cell_type": "markdown",
   "id": "academic-vertical",
   "metadata": {},
   "source": [
    "check the shape of the dataframe"
   ]
  },
  {
   "cell_type": "code",
   "execution_count": 3,
   "id": "noble-shirt",
   "metadata": {},
   "outputs": [
    {
     "data": {
      "text/plain": [
       "(185166, 17)"
      ]
     },
     "execution_count": 3,
     "metadata": {},
     "output_type": "execute_result"
    }
   ],
   "source": [
    "df.shape"
   ]
  },
  {
   "cell_type": "markdown",
   "id": "cooked-constant",
   "metadata": {},
   "source": [
    "This is a massive file. Hundreds of thousands of rows and 17 columns"
   ]
  },
  {
   "cell_type": "code",
   "execution_count": 4,
   "id": "maritime-investigator",
   "metadata": {},
   "outputs": [
    {
     "data": {
      "text/plain": [
       "pandas.core.frame.DataFrame"
      ]
     },
     "execution_count": 4,
     "metadata": {},
     "output_type": "execute_result"
    }
   ],
   "source": [
    "type(df) # its a dataframe"
   ]
  },
  {
   "cell_type": "code",
   "execution_count": 5,
   "id": "impaired-stage",
   "metadata": {},
   "outputs": [
    {
     "data": {
      "text/plain": [
       "date          object\n",
       "time          object\n",
       "timezone      object\n",
       "MACB          object\n",
       "source        object\n",
       "sourcetype    object\n",
       "type          object\n",
       "user          object\n",
       "host          object\n",
       "short         object\n",
       "desc          object\n",
       "version        int64\n",
       "filename      object\n",
       "inode          int64\n",
       "notes         object\n",
       "format        object\n",
       "extra         object\n",
       "dtype: object"
      ]
     },
     "execution_count": 5,
     "metadata": {},
     "output_type": "execute_result"
    }
   ],
   "source": [
    "df.dtypes # check the types of the columns in the dataframe"
   ]
  },
  {
   "cell_type": "markdown",
   "id": "global-number",
   "metadata": {},
   "source": [
    "Almost all the columns are not statistical including the date column "
   ]
  },
  {
   "cell_type": "markdown",
   "id": "stuck-democracy",
   "metadata": {},
   "source": [
    "check the first few values"
   ]
  },
  {
   "cell_type": "code",
   "execution_count": 6,
   "id": "involved-swing",
   "metadata": {
    "scrolled": false
   },
   "outputs": [
    {
     "data": {
      "text/html": [
       "<div>\n",
       "<style scoped>\n",
       "    .dataframe tbody tr th:only-of-type {\n",
       "        vertical-align: middle;\n",
       "    }\n",
       "\n",
       "    .dataframe tbody tr th {\n",
       "        vertical-align: top;\n",
       "    }\n",
       "\n",
       "    .dataframe thead th {\n",
       "        text-align: right;\n",
       "    }\n",
       "</style>\n",
       "<table border=\"1\" class=\"dataframe\">\n",
       "  <thead>\n",
       "    <tr style=\"text-align: right;\">\n",
       "      <th></th>\n",
       "      <th>date</th>\n",
       "      <th>time</th>\n",
       "      <th>timezone</th>\n",
       "      <th>MACB</th>\n",
       "      <th>source</th>\n",
       "      <th>sourcetype</th>\n",
       "      <th>type</th>\n",
       "      <th>user</th>\n",
       "      <th>host</th>\n",
       "      <th>short</th>\n",
       "      <th>desc</th>\n",
       "      <th>version</th>\n",
       "      <th>filename</th>\n",
       "      <th>inode</th>\n",
       "      <th>notes</th>\n",
       "      <th>format</th>\n",
       "      <th>extra</th>\n",
       "    </tr>\n",
       "  </thead>\n",
       "  <tbody>\n",
       "    <tr>\n",
       "      <th>0</th>\n",
       "      <td>08/23/2018</td>\n",
       "      <td>00:01:01</td>\n",
       "      <td>UTC</td>\n",
       "      <td>M...</td>\n",
       "      <td>EVT</td>\n",
       "      <td>WinEVTX</td>\n",
       "      <td>Content Modification Time</td>\n",
       "      <td>-</td>\n",
       "      <td>-</td>\n",
       "      <td>[107 / 0x006b] Strings: ['\\Microsoft\\Windows\\W...</td>\n",
       "      <td>[107 / 0x006b] Source Name: Microsoft-Windows-...</td>\n",
       "      <td>2</td>\n",
       "      <td>OS:E:\\C\\Windows\\system32\\winevt\\logs\\Microsoft...</td>\n",
       "      <td>0</td>\n",
       "      <td>-</td>\n",
       "      <td>winevtx</td>\n",
       "      <td>recovered: False; sha256_hash: cde410aa7b94ef1...</td>\n",
       "    </tr>\n",
       "    <tr>\n",
       "      <th>1</th>\n",
       "      <td>08/23/2018</td>\n",
       "      <td>00:01:01</td>\n",
       "      <td>UTC</td>\n",
       "      <td>M...</td>\n",
       "      <td>EVT</td>\n",
       "      <td>WinEVTX</td>\n",
       "      <td>Content Modification Time</td>\n",
       "      <td>-</td>\n",
       "      <td>-</td>\n",
       "      <td>[129 / 0x0081] Strings: ['\\Microsoft\\Windows\\W...</td>\n",
       "      <td>[129 / 0x0081] Source Name: Microsoft-Windows-...</td>\n",
       "      <td>2</td>\n",
       "      <td>OS:E:\\C\\Windows\\system32\\winevt\\logs\\Microsoft...</td>\n",
       "      <td>0</td>\n",
       "      <td>-</td>\n",
       "      <td>winevtx</td>\n",
       "      <td>recovered: False; sha256_hash: cde410aa7b94ef1...</td>\n",
       "    </tr>\n",
       "    <tr>\n",
       "      <th>2</th>\n",
       "      <td>08/23/2018</td>\n",
       "      <td>00:01:01</td>\n",
       "      <td>UTC</td>\n",
       "      <td>M...</td>\n",
       "      <td>EVT</td>\n",
       "      <td>WinEVTX</td>\n",
       "      <td>Content Modification Time</td>\n",
       "      <td>-</td>\n",
       "      <td>-</td>\n",
       "      <td>[100 / 0x0064] Strings: ['\\Microsoft\\Windows\\W...</td>\n",
       "      <td>[100 / 0x0064] Source Name: Microsoft-Windows-...</td>\n",
       "      <td>2</td>\n",
       "      <td>OS:E:\\C\\Windows\\system32\\winevt\\logs\\Microsoft...</td>\n",
       "      <td>0</td>\n",
       "      <td>-</td>\n",
       "      <td>winevtx</td>\n",
       "      <td>recovered: False; sha256_hash: cde410aa7b94ef1...</td>\n",
       "    </tr>\n",
       "    <tr>\n",
       "      <th>3</th>\n",
       "      <td>08/23/2018</td>\n",
       "      <td>00:01:01</td>\n",
       "      <td>UTC</td>\n",
       "      <td>M...</td>\n",
       "      <td>EVT</td>\n",
       "      <td>WinEVTX</td>\n",
       "      <td>Content Modification Time</td>\n",
       "      <td>-</td>\n",
       "      <td>-</td>\n",
       "      <td>[200 / 0x00c8] Strings: ['\\Microsoft\\Windows\\W...</td>\n",
       "      <td>[200 / 0x00c8] Source Name: Microsoft-Windows-...</td>\n",
       "      <td>2</td>\n",
       "      <td>OS:E:\\C\\Windows\\system32\\winevt\\logs\\Microsoft...</td>\n",
       "      <td>0</td>\n",
       "      <td>-</td>\n",
       "      <td>winevtx</td>\n",
       "      <td>recovered: False; sha256_hash: cde410aa7b94ef1...</td>\n",
       "    </tr>\n",
       "    <tr>\n",
       "      <th>4</th>\n",
       "      <td>08/23/2018</td>\n",
       "      <td>00:01:13</td>\n",
       "      <td>UTC</td>\n",
       "      <td>M...</td>\n",
       "      <td>EVT</td>\n",
       "      <td>WinEVTX</td>\n",
       "      <td>Content Modification Time</td>\n",
       "      <td>-</td>\n",
       "      <td>-</td>\n",
       "      <td>[140 / 0x008c] Strings: ['\\Microsoft\\Windows\\W...</td>\n",
       "      <td>[140 / 0x008c] Source Name: Microsoft-Windows-...</td>\n",
       "      <td>2</td>\n",
       "      <td>OS:E:\\C\\Windows\\system32\\winevt\\logs\\Microsoft...</td>\n",
       "      <td>0</td>\n",
       "      <td>-</td>\n",
       "      <td>winevtx</td>\n",
       "      <td>recovered: False; sha256_hash: cde410aa7b94ef1...</td>\n",
       "    </tr>\n",
       "  </tbody>\n",
       "</table>\n",
       "</div>"
      ],
      "text/plain": [
       "         date      time timezone  MACB source sourcetype  \\\n",
       "0  08/23/2018  00:01:01      UTC  M...    EVT    WinEVTX   \n",
       "1  08/23/2018  00:01:01      UTC  M...    EVT    WinEVTX   \n",
       "2  08/23/2018  00:01:01      UTC  M...    EVT    WinEVTX   \n",
       "3  08/23/2018  00:01:01      UTC  M...    EVT    WinEVTX   \n",
       "4  08/23/2018  00:01:13      UTC  M...    EVT    WinEVTX   \n",
       "\n",
       "                        type user host  \\\n",
       "0  Content Modification Time    -    -   \n",
       "1  Content Modification Time    -    -   \n",
       "2  Content Modification Time    -    -   \n",
       "3  Content Modification Time    -    -   \n",
       "4  Content Modification Time    -    -   \n",
       "\n",
       "                                               short  \\\n",
       "0  [107 / 0x006b] Strings: ['\\Microsoft\\Windows\\W...   \n",
       "1  [129 / 0x0081] Strings: ['\\Microsoft\\Windows\\W...   \n",
       "2  [100 / 0x0064] Strings: ['\\Microsoft\\Windows\\W...   \n",
       "3  [200 / 0x00c8] Strings: ['\\Microsoft\\Windows\\W...   \n",
       "4  [140 / 0x008c] Strings: ['\\Microsoft\\Windows\\W...   \n",
       "\n",
       "                                                desc  version  \\\n",
       "0  [107 / 0x006b] Source Name: Microsoft-Windows-...        2   \n",
       "1  [129 / 0x0081] Source Name: Microsoft-Windows-...        2   \n",
       "2  [100 / 0x0064] Source Name: Microsoft-Windows-...        2   \n",
       "3  [200 / 0x00c8] Source Name: Microsoft-Windows-...        2   \n",
       "4  [140 / 0x008c] Source Name: Microsoft-Windows-...        2   \n",
       "\n",
       "                                            filename  inode notes   format  \\\n",
       "0  OS:E:\\C\\Windows\\system32\\winevt\\logs\\Microsoft...      0     -  winevtx   \n",
       "1  OS:E:\\C\\Windows\\system32\\winevt\\logs\\Microsoft...      0     -  winevtx   \n",
       "2  OS:E:\\C\\Windows\\system32\\winevt\\logs\\Microsoft...      0     -  winevtx   \n",
       "3  OS:E:\\C\\Windows\\system32\\winevt\\logs\\Microsoft...      0     -  winevtx   \n",
       "4  OS:E:\\C\\Windows\\system32\\winevt\\logs\\Microsoft...      0     -  winevtx   \n",
       "\n",
       "                                               extra  \n",
       "0  recovered: False; sha256_hash: cde410aa7b94ef1...  \n",
       "1  recovered: False; sha256_hash: cde410aa7b94ef1...  \n",
       "2  recovered: False; sha256_hash: cde410aa7b94ef1...  \n",
       "3  recovered: False; sha256_hash: cde410aa7b94ef1...  \n",
       "4  recovered: False; sha256_hash: cde410aa7b94ef1...  "
      ]
     },
     "execution_count": 6,
     "metadata": {},
     "output_type": "execute_result"
    }
   ],
   "source": [
    "df.head()"
   ]
  },
  {
   "cell_type": "markdown",
   "id": "human-integration",
   "metadata": {},
   "source": [
    "check the last few values"
   ]
  },
  {
   "cell_type": "code",
   "execution_count": 7,
   "id": "pursuant-violin",
   "metadata": {
    "scrolled": true
   },
   "outputs": [
    {
     "data": {
      "text/html": [
       "<div>\n",
       "<style scoped>\n",
       "    .dataframe tbody tr th:only-of-type {\n",
       "        vertical-align: middle;\n",
       "    }\n",
       "\n",
       "    .dataframe tbody tr th {\n",
       "        vertical-align: top;\n",
       "    }\n",
       "\n",
       "    .dataframe thead th {\n",
       "        text-align: right;\n",
       "    }\n",
       "</style>\n",
       "<table border=\"1\" class=\"dataframe\">\n",
       "  <thead>\n",
       "    <tr style=\"text-align: right;\">\n",
       "      <th></th>\n",
       "      <th>date</th>\n",
       "      <th>time</th>\n",
       "      <th>timezone</th>\n",
       "      <th>MACB</th>\n",
       "      <th>source</th>\n",
       "      <th>sourcetype</th>\n",
       "      <th>type</th>\n",
       "      <th>user</th>\n",
       "      <th>host</th>\n",
       "      <th>short</th>\n",
       "      <th>desc</th>\n",
       "      <th>version</th>\n",
       "      <th>filename</th>\n",
       "      <th>inode</th>\n",
       "      <th>notes</th>\n",
       "      <th>format</th>\n",
       "      <th>extra</th>\n",
       "    </tr>\n",
       "  </thead>\n",
       "  <tbody>\n",
       "    <tr>\n",
       "      <th>185161</th>\n",
       "      <td>09/06/2018</td>\n",
       "      <td>23:58:34</td>\n",
       "      <td>UTC</td>\n",
       "      <td>M...</td>\n",
       "      <td>EVT</td>\n",
       "      <td>WinEVTX</td>\n",
       "      <td>Content Modification Time</td>\n",
       "      <td>-</td>\n",
       "      <td>-</td>\n",
       "      <td>[1223 / 0x04c7] Strings: ['BND'  '3'  'CON\\QOS...</td>\n",
       "      <td>[1223 / 0x04c7] Source Name: Microsoft-Windows...</td>\n",
       "      <td>2</td>\n",
       "      <td>OS:E:\\C\\Windows\\system32\\winevt\\logs\\Microsoft...</td>\n",
       "      <td>0</td>\n",
       "      <td>-</td>\n",
       "      <td>winevtx</td>\n",
       "      <td>recovered: False; sha256_hash: a677ac5be58f722...</td>\n",
       "    </tr>\n",
       "    <tr>\n",
       "      <th>185162</th>\n",
       "      <td>09/06/2018</td>\n",
       "      <td>23:58:34</td>\n",
       "      <td>UTC</td>\n",
       "      <td>M...</td>\n",
       "      <td>EVT</td>\n",
       "      <td>WinEVTX</td>\n",
       "      <td>Content Modification Time</td>\n",
       "      <td>-</td>\n",
       "      <td>-</td>\n",
       "      <td>[1267 / 0x04f3] Strings: ['BND'  '3'  'CON\\QOS...</td>\n",
       "      <td>[1267 / 0x04f3] Source Name: Microsoft-Windows...</td>\n",
       "      <td>2</td>\n",
       "      <td>OS:E:\\C\\Windows\\system32\\winevt\\logs\\Microsoft...</td>\n",
       "      <td>0</td>\n",
       "      <td>-</td>\n",
       "      <td>winevtx</td>\n",
       "      <td>recovered: False; sha256_hash: a677ac5be58f722...</td>\n",
       "    </tr>\n",
       "    <tr>\n",
       "      <th>185163</th>\n",
       "      <td>09/06/2018</td>\n",
       "      <td>23:59:03</td>\n",
       "      <td>UTC</td>\n",
       "      <td>M...</td>\n",
       "      <td>EVT</td>\n",
       "      <td>WinEVTX</td>\n",
       "      <td>Content Modification Time</td>\n",
       "      <td>-</td>\n",
       "      <td>-</td>\n",
       "      <td>[145 / 0x0091] Strings: ['Enumeration'  'http:...</td>\n",
       "      <td>[145 / 0x0091] Source Name: Microsoft-Windows-...</td>\n",
       "      <td>2</td>\n",
       "      <td>OS:E:\\C\\Windows\\system32\\winevt\\logs\\Microsoft...</td>\n",
       "      <td>0</td>\n",
       "      <td>-</td>\n",
       "      <td>winevtx</td>\n",
       "      <td>recovered: False; sha256_hash: 6807dc60332085a...</td>\n",
       "    </tr>\n",
       "    <tr>\n",
       "      <th>185164</th>\n",
       "      <td>09/06/2018</td>\n",
       "      <td>23:59:03</td>\n",
       "      <td>UTC</td>\n",
       "      <td>M...</td>\n",
       "      <td>EVT</td>\n",
       "      <td>WinEVTX</td>\n",
       "      <td>Content Modification Time</td>\n",
       "      <td>-</td>\n",
       "      <td>-</td>\n",
       "      <td>[132 / 0x0084] Strings: ['Enumeration']</td>\n",
       "      <td>[132 / 0x0084] Source Name: Microsoft-Windows-...</td>\n",
       "      <td>2</td>\n",
       "      <td>OS:E:\\C\\Windows\\system32\\winevt\\logs\\Microsoft...</td>\n",
       "      <td>0</td>\n",
       "      <td>-</td>\n",
       "      <td>winevtx</td>\n",
       "      <td>recovered: False; sha256_hash: 6807dc60332085a...</td>\n",
       "    </tr>\n",
       "    <tr>\n",
       "      <th>185165</th>\n",
       "      <td>09/06/2018</td>\n",
       "      <td>23:59:15</td>\n",
       "      <td>UTC</td>\n",
       "      <td>M...</td>\n",
       "      <td>EVT</td>\n",
       "      <td>WinEVTX</td>\n",
       "      <td>Content Modification Time</td>\n",
       "      <td>-</td>\n",
       "      <td>-</td>\n",
       "      <td>[5857 / 0x16e1] Strings: ['WmiPerfInst'  '0x00...</td>\n",
       "      <td>[5857 / 0x16e1] Source Name: Microsoft-Windows...</td>\n",
       "      <td>2</td>\n",
       "      <td>OS:E:\\C\\Windows\\system32\\winevt\\logs\\Microsoft...</td>\n",
       "      <td>0</td>\n",
       "      <td>-</td>\n",
       "      <td>winevtx</td>\n",
       "      <td>recovered: False; sha256_hash: 14f3fb53ec0b7de...</td>\n",
       "    </tr>\n",
       "  </tbody>\n",
       "</table>\n",
       "</div>"
      ],
      "text/plain": [
       "              date      time timezone  MACB source sourcetype  \\\n",
       "185161  09/06/2018  23:58:34      UTC  M...    EVT    WinEVTX   \n",
       "185162  09/06/2018  23:58:34      UTC  M...    EVT    WinEVTX   \n",
       "185163  09/06/2018  23:59:03      UTC  M...    EVT    WinEVTX   \n",
       "185164  09/06/2018  23:59:03      UTC  M...    EVT    WinEVTX   \n",
       "185165  09/06/2018  23:59:15      UTC  M...    EVT    WinEVTX   \n",
       "\n",
       "                             type user host  \\\n",
       "185161  Content Modification Time    -    -   \n",
       "185162  Content Modification Time    -    -   \n",
       "185163  Content Modification Time    -    -   \n",
       "185164  Content Modification Time    -    -   \n",
       "185165  Content Modification Time    -    -   \n",
       "\n",
       "                                                    short  \\\n",
       "185161  [1223 / 0x04c7] Strings: ['BND'  '3'  'CON\\QOS...   \n",
       "185162  [1267 / 0x04f3] Strings: ['BND'  '3'  'CON\\QOS...   \n",
       "185163  [145 / 0x0091] Strings: ['Enumeration'  'http:...   \n",
       "185164            [132 / 0x0084] Strings: ['Enumeration']   \n",
       "185165  [5857 / 0x16e1] Strings: ['WmiPerfInst'  '0x00...   \n",
       "\n",
       "                                                     desc  version  \\\n",
       "185161  [1223 / 0x04c7] Source Name: Microsoft-Windows...        2   \n",
       "185162  [1267 / 0x04f3] Source Name: Microsoft-Windows...        2   \n",
       "185163  [145 / 0x0091] Source Name: Microsoft-Windows-...        2   \n",
       "185164  [132 / 0x0084] Source Name: Microsoft-Windows-...        2   \n",
       "185165  [5857 / 0x16e1] Source Name: Microsoft-Windows...        2   \n",
       "\n",
       "                                                 filename  inode notes  \\\n",
       "185161  OS:E:\\C\\Windows\\system32\\winevt\\logs\\Microsoft...      0     -   \n",
       "185162  OS:E:\\C\\Windows\\system32\\winevt\\logs\\Microsoft...      0     -   \n",
       "185163  OS:E:\\C\\Windows\\system32\\winevt\\logs\\Microsoft...      0     -   \n",
       "185164  OS:E:\\C\\Windows\\system32\\winevt\\logs\\Microsoft...      0     -   \n",
       "185165  OS:E:\\C\\Windows\\system32\\winevt\\logs\\Microsoft...      0     -   \n",
       "\n",
       "         format                                              extra  \n",
       "185161  winevtx  recovered: False; sha256_hash: a677ac5be58f722...  \n",
       "185162  winevtx  recovered: False; sha256_hash: a677ac5be58f722...  \n",
       "185163  winevtx  recovered: False; sha256_hash: 6807dc60332085a...  \n",
       "185164  winevtx  recovered: False; sha256_hash: 6807dc60332085a...  \n",
       "185165  winevtx  recovered: False; sha256_hash: 14f3fb53ec0b7de...  "
      ]
     },
     "execution_count": 7,
     "metadata": {},
     "output_type": "execute_result"
    }
   ],
   "source": [
    "df.tail()"
   ]
  },
  {
   "cell_type": "markdown",
   "id": "virgin-denial",
   "metadata": {},
   "source": [
    "check the column names"
   ]
  },
  {
   "cell_type": "code",
   "execution_count": 8,
   "id": "danish-india",
   "metadata": {},
   "outputs": [
    {
     "data": {
      "text/plain": [
       "Index(['date', 'time', 'timezone', 'MACB', 'source', 'sourcetype', 'type',\n",
       "       'user', 'host', 'short', 'desc', 'version', 'filename', 'inode',\n",
       "       'notes', 'format', 'extra'],\n",
       "      dtype='object')"
      ]
     },
     "execution_count": 8,
     "metadata": {},
     "output_type": "execute_result"
    }
   ],
   "source": [
    "df.columns\n",
    "\n",
    "\n"
   ]
  },
  {
   "cell_type": "markdown",
   "id": "metric-voluntary",
   "metadata": {},
   "source": [
    "check the unique values in each column, to get a quick overview."
   ]
  },
  {
   "cell_type": "code",
   "execution_count": 9,
   "id": "arabic-smart",
   "metadata": {},
   "outputs": [
    {
     "name": "stdout",
     "output_type": "stream",
     "text": [
      "date has unique values\n",
      " ['08/23/2018' '08/24/2018' '08/25/2018' '08/26/2018' '08/27/2018'\n",
      " '08/28/2018' '08/29/2018' '08/30/2018' '08/31/2018' '09/01/2018'\n",
      " '09/02/2018' '09/03/2018' '09/04/2018' '09/05/2018' '09/06/2018'] \n",
      "\n",
      "date has  15  unique values\n",
      "\n",
      "time has unique values\n",
      " ['00:01:01' '00:01:13' '00:03:22' ... '23:58:32' '23:59:03' '23:59:15'] \n",
      "\n",
      "time has  34868  unique values\n",
      "\n",
      "timezone has unique values\n",
      " ['UTC'] \n",
      "\n",
      "timezone has  1  unique values\n",
      "\n",
      "MACB has unique values\n",
      " ['M...' '....' 'MACB' '.A..' '...B' 'MA.B' 'MAC.' '..CB' '.A.B' '.ACB'\n",
      " '..C.' '.AC.' 'MA..' 'M.C.' 'M..B'] \n",
      "\n",
      "MACB has  15  unique values\n",
      "\n",
      "source has unique values\n",
      " ['EVT' 'WEBHIST' 'LOG' 'FILE' 'REG' 'PE' 'LNK' 'OLECF' 'META' 'RECBIN'] \n",
      "\n",
      "source has  10  unique values\n",
      "\n",
      "sourcetype has unique values\n",
      " ['WinEVTX' 'Chrome Cookies' 'WinPrefetch' 'Mactime Bodyfile' 'UNKNOWN'\n",
      " 'AppCompatCache Registry Entry' 'Chrome Cache' 'PE Compilation time'\n",
      " 'Windows Shortcut' 'File entry shell item' 'Task Cache' 'System'\n",
      " 'Chrome History' 'UNKNOWN : BagMRU' nan 'Chrome Extensions Autoupdater'\n",
      " 'UNKNOWN : MRUListEx' 'OLECF Item' 'Chrome Extension Installation'\n",
      " 'Registry Key: UserAssist' 'Open XML Metadata' 'UNKNOWN : Network Drive'\n",
      " 'UNKNOWN : Typed URLs' 'UNKNOWN : Run Key' 'UNKNOWN : MRU List'\n",
      " 'UNKNOWN : RDP Connection' 'Recycle Bin' 'System: Network Connection'\n",
      " 'Registry Key Shutdown Entry' 'UNKNOWN : Winlogon'] \n",
      "\n",
      "sourcetype has  29  unique values\n",
      "\n",
      "type has unique values\n",
      " ['Content Modification Time' 'Expiration Time'\n",
      " 'Previous Last Time Executed'\n",
      " 'Content Modification Time; Creation Time; Last Access Time; Metadata Modification Time'\n",
      " 'File Last Modification Time' 'Last Visited Time' 'Creation Time'\n",
      " 'Content Modification Time; Creation Time; Last Access Time'\n",
      " 'Content Modification Time; Last Access Time; Metadata Modification Time'\n",
      " 'Creation Time; Metadata Modification Time'\n",
      " 'Creation Time; Last Access Time'\n",
      " 'Creation Time; Last Access Time; Metadata Modification Time'\n",
      " 'Metadata Modification Time'\n",
      " 'Last Access Time; Metadata Modification Time'\n",
      " 'Content Modification Time; Last Access Time'\n",
      " 'Content Modification Time; Metadata Modification Time'\n",
      " 'Last registered time' 'Last Access Time'\n",
      " 'Content Modification Time; Creation Time' 'Last Time Executed'\n",
      " 'File Downloaded' 'Unknown Time' 'Launch time' 'Content Deletion Time'\n",
      " 'Last Connection Time' 'Last Shutdown Time'] \n",
      "\n",
      "type has  26  unique values\n",
      "\n",
      "user has unique values\n",
      " ['-'] \n",
      "\n",
      "user has  1  unique values\n",
      "\n",
      "host has unique values\n",
      " ['-' 'base-rd-01'] \n",
      "\n",
      "host has  2  unique values\n",
      "\n",
      "short has unique values\n",
      " [\"[107 / 0x006b] Strings: ['\\\\Microsoft\\\\Windows\\\\Windows Error Reporting\\\\QueueRep...\"\n",
      " \"[129 / 0x0081] Strings: ['\\\\Microsoft\\\\Windows\\\\Windows Error Reporting\\\\QueueRep...\"\n",
      " \"[100 / 0x0064] Strings: ['\\\\Microsoft\\\\Windows\\\\Windows Error Reporting\\\\QueueRep...\"\n",
      " ...\n",
      " \"[8012 / 0x1f4c] Strings: ['0x00000240800fe190'  '7632'  'Key:NegotiatingUnlea...\"\n",
      " \"[8012 / 0x1f4c] Strings: ['0x00000240800fe190'  '7632'  'Key:Valid'  'Key:Inv...\"\n",
      " \"[1223 / 0x04c7] Strings: ['CNT'  '1'  'CON'  '260'  '436F6E746578743A20656139...\"] \n",
      "\n",
      "short has  29243  unique values\n",
      "\n",
      "desc has unique values\n",
      " [\"[107 / 0x006b] Source Name: Microsoft-Windows-TaskScheduler Strings: ['\\\\Microsoft\\\\Windows\\\\Windows Error Reporting\\\\QueueReporting'  '{6C43A72F-4B21-4071-B619-CE26EF192DC1}'] Computer Name: base-rd-01.shieldbase.lan Record Number: 187435 Event Level: 4\"\n",
      " \"[129 / 0x0081] Source Name: Microsoft-Windows-TaskScheduler Strings: ['\\\\Microsoft\\\\Windows\\\\Windows Error Reporting\\\\QueueReporting'  '%windir%\\\\system32\\\\wermgr.exe'  '6788'  '16384'] Computer Name: base-rd-01.shieldbase.lan Record Number: 187436 Event Level: 4\"\n",
      " \"[100 / 0x0064] Source Name: Microsoft-Windows-TaskScheduler Strings: ['\\\\Microsoft\\\\Windows\\\\Windows Error Reporting\\\\QueueReporting'  'NT AUTHORITY\\\\SYSTEM'  '{6C43A72F-4B21-4071-B619-CE26EF192DC1}'] Computer Name: base-rd-01.shieldbase.lan Record Number: 187437 Event Level: 4\"\n",
      " ...\n",
      " \"[145 / 0x0091] Source Name: Microsoft-Windows-WinRM Strings: ['Enumeration'  'http://schemas.microsoft.com/wbem/wsman/1/SubscriptionManager/Subscription'] Computer Name: base-rd-01.shieldbase.lan Record Number: 287144 Event Level: 4\"\n",
      " \"[132 / 0x0084] Source Name: Microsoft-Windows-WinRM Strings: ['Enumeration'] Computer Name: base-rd-01.shieldbase.lan Record Number: 287145 Event Level: 4\"\n",
      " \"[5857 / 0x16e1] Source Name: Microsoft-Windows-WMI-Activity Strings: ['WmiPerfInst'  '0x00000000'  'wmiprvse.exe'  '5052'  'C:\\\\Windows\\\\System32\\\\wbem\\\\WmiPerfInst.dll'] Computer Name: base-rd-01.shieldbase.lan Record Number: 18017 Event Level: 0\"] \n",
      "\n",
      "desc has  179683  unique values\n",
      "\n",
      "version has unique values\n",
      " [2] \n",
      "\n",
      "version has  1  unique values\n",
      "\n",
      "filename has unique values\n",
      " ['OS:E:\\\\C\\\\Windows\\\\system32\\\\winevt\\\\logs\\\\Microsoft-Windows-TaskScheduler%4Operational.evtx'\n",
      " 'OS:E:\\\\C\\\\Windows\\\\system32\\\\winevt\\\\logs\\\\Microsoft-Windows-SMBServer%4Audit.evtx'\n",
      " 'OS:E:\\\\C\\\\Windows\\\\system32\\\\winevt\\\\logs\\\\Security.evtx'\n",
      " 'OS:E:\\\\C\\\\Windows\\\\system32\\\\winevt\\\\logs\\\\Microsoft-Windows-Known Folders API Service.evtx'\n",
      " 'OS:E:\\\\C\\\\Windows\\\\system32\\\\winevt\\\\logs\\\\Microsoft-Windows-Security-Audit-Configuration-Client%4Operational.evtx'\n",
      " 'OS:E:\\\\C\\\\Windows\\\\system32\\\\winevt\\\\logs\\\\System.evtx'\n",
      " 'OS:E:\\\\C\\\\Users\\\\tdungan\\\\AppData\\\\Local\\\\Google\\\\Chrome\\\\User Data\\\\Default\\\\Cookies'\n",
      " 'OS:E:\\\\C\\\\Windows\\\\system32\\\\winevt\\\\logs\\\\Microsoft-Windows-Storage-Storport%4Operational.evtx'\n",
      " 'OS:E:\\\\C\\\\Windows\\\\system32\\\\winevt\\\\logs\\\\Microsoft-Windows-Ntfs%4Operational.evtx'\n",
      " 'OS:E:\\\\C\\\\Windows\\\\system32\\\\winevt\\\\logs\\\\Microsoft-Windows-StateRepository%4Operational.evtx'\n",
      " 'OS:E:\\\\C\\\\Windows\\\\system32\\\\winevt\\\\logs\\\\Microsoft-Windows-Application-Experience%4Program-Telemetry.evtx'\n",
      " 'OS:E:\\\\C\\\\Windows\\\\system32\\\\winevt\\\\logs\\\\Microsoft-Windows-WMI-Activity%4Operational.evtx'\n",
      " 'OS:E:\\\\C\\\\Windows\\\\system32\\\\winevt\\\\logs\\\\Microsoft-Windows-Time-Service%4Operational.evtx'\n",
      " 'OS:E:\\\\C\\\\Windows\\\\system32\\\\winevt\\\\logs\\\\Microsoft-Windows-TaskScheduler%4Maintenance.evtx'\n",
      " 'OS:E:\\\\C\\\\Windows\\\\system32\\\\winevt\\\\logs\\\\Microsoft-Windows-Diagnosis-Scripted%4Operational.evtx'\n",
      " 'OS:E:\\\\C\\\\Windows\\\\system32\\\\winevt\\\\logs\\\\Microsoft-Windows-SettingSync%4Debug.evtx'\n",
      " 'OS:E:\\\\C\\\\Windows\\\\system32\\\\winevt\\\\logs\\\\Microsoft-Windows-Diagnosis-Scripted%4Admin.evtx'\n",
      " 'OS:E:\\\\C\\\\Windows\\\\prefetch\\\\SDIAGNHOST.EXE-8D72177C.pf'\n",
      " 'OS:E:\\\\C\\\\Windows\\\\system32\\\\winevt\\\\logs\\\\Microsoft-Windows-LanguagePackSetup%4Operational.evtx'\n",
      " 'OS:E:\\\\C\\\\Windows\\\\system32\\\\winevt\\\\logs\\\\Microsoft-Windows-PowerShell%4Operational.evtx'\n",
      " 'OS:E:\\\\C\\\\Windows\\\\system32\\\\winevt\\\\logs\\\\Microsoft-Windows-AppxPackaging%4Operational.evtx'\n",
      " 'OS:E:\\\\C\\\\Windows\\\\prefetch\\\\SVCHOST.EXE-7D248B6A.pf'\n",
      " 'OS:E:\\\\C\\\\Windows\\\\system32\\\\winevt\\\\logs\\\\Microsoft-Windows-TZSync%4Operational.evtx'\n",
      " 'OS:g:\\\\timeline\\\\YYYYMMDDHHMMSS_MFTECmd_Output.body'\n",
      " 'OS:E:\\\\C\\\\Windows\\\\system32\\\\winevt\\\\logs\\\\Microsoft-Windows-ReadyBoost%4Operational.evtx'\n",
      " 'OS:E:\\\\C\\\\Windows\\\\system32\\\\winevt\\\\logs\\\\Microsoft-Windows-AppXDeploymentServer%4Operational.evtx'\n",
      " 'OS:E:\\\\C\\\\Windows\\\\system32\\\\winevt\\\\logs\\\\Microsoft-Windows-CloudStore%4Operational.evtx'\n",
      " 'OS:E:\\\\C\\\\Windows\\\\prefetch\\\\WERMGR.EXE-0F2AC88C.pf'\n",
      " 'OS:E:\\\\C\\\\Windows\\\\system32\\\\winevt\\\\logs\\\\Microsoft-Windows-WindowsUpdateClient%4Operational.evtx'\n",
      " 'OS:E:\\\\C\\\\Windows\\\\system32\\\\config\\\\SOFTWARE'\n",
      " 'OS:E:\\\\C\\\\Windows\\\\system32\\\\config\\\\SYSTEM'\n",
      " 'OS:E:\\\\C\\\\Windows\\\\system32\\\\winevt\\\\logs\\\\Microsoft-Windows-AppModel-Runtime%4Admin.evtx'\n",
      " 'OS:E:\\\\C\\\\Users\\\\tdungan\\\\AppData\\\\Local\\\\Microsoft\\\\Windows\\\\UsrClass.dat'\n",
      " 'OS:E:\\\\C\\\\Windows\\\\system32\\\\winevt\\\\logs\\\\Microsoft-Windows-Windows Firewall With Advanced Security%4Firewall.evtx'\n",
      " 'OS:E:\\\\C\\\\Users\\\\tdungan\\\\ntuser.dat'\n",
      " 'OS:E:\\\\C\\\\Windows\\\\system32\\\\winevt\\\\logs\\\\Microsoft-Windows-Security-LessPrivilegedAppContainer%4Operational.evtx'\n",
      " 'OS:E:\\\\C\\\\Windows\\\\system32\\\\winevt\\\\logs\\\\Microsoft-Windows-Security-Mitigations%4KernelMode.evtx'\n",
      " 'OS:E:\\\\C\\\\Windows\\\\system32\\\\winevt\\\\logs\\\\Microsoft-Windows-PriResources-Deployment%4Operational.evtx'\n",
      " 'OS:E:\\\\C\\\\Users\\\\tdungan\\\\AppData\\\\Local\\\\Google\\\\Chrome\\\\User Data\\\\Default\\\\Cache\\\\index'\n",
      " 'OS:E:\\\\C\\\\Windows\\\\system32\\\\winevt\\\\logs\\\\Microsoft-Windows-Storage-ClassPnP%4Operational.evtx'\n",
      " 'OS:E:\\\\C\\\\Windows\\\\system32\\\\winevt\\\\logs\\\\Microsoft-Windows-UniversalTelemetryClient%4Operational.evtx'\n",
      " 'OS:E:\\\\C\\\\Windows\\\\system32\\\\winevt\\\\logs\\\\Microsoft-Windows-Shell-Core%4Operational.evtx'\n",
      " 'OS:E:\\\\C\\\\Windows\\\\system32\\\\iesetup.dll'\n",
      " 'OS:E:\\\\C\\\\Windows\\\\system32\\\\winevt\\\\logs\\\\Microsoft-Windows-BackgroundTaskInfrastructure%4Operational.evtx'\n",
      " 'OS:E:\\\\C\\\\Windows\\\\prefetch\\\\DEFRAG.EXE-588F90AD.pf'\n",
      " 'OS:E:\\\\C\\\\Windows\\\\system32\\\\winevt\\\\logs\\\\Microsoft-Windows-HelloForBusiness%4Operational.evtx'\n",
      " 'OS:E:\\\\C\\\\Windows\\\\prefetch\\\\RUNDLL32.EXE-B216811E.pf'\n",
      " 'OS:E:\\\\C\\\\Windows\\\\system32\\\\winevt\\\\logs\\\\Microsoft-Windows-SMBServer%4Security.evtx'\n",
      " 'OS:E:\\\\C\\\\Users\\\\spsql\\\\AppData\\\\Roaming\\\\Microsoft\\\\Windows\\\\Recent\\\\AutomaticDestinations\\\\f01b4d95cf55d32a.automaticDestinations-ms'\n",
      " 'OS:E:\\\\C\\\\Users\\\\spsql\\\\AppData\\\\Roaming\\\\Microsoft\\\\Windows\\\\Recent\\\\CustomDestinations\\\\590aee7bdd69b59b.customDestinations-ms'\n",
      " 'OS:E:\\\\C\\\\Windows\\\\system32\\\\winevt\\\\logs\\\\Microsoft-Windows-User Profile Service%4Operational.evtx'\n",
      " 'OS:E:\\\\C\\\\Users\\\\spsql\\\\ntuser.dat'\n",
      " 'OS:E:\\\\C\\\\Users\\\\spsql\\\\AppData\\\\Roaming\\\\Microsoft\\\\Windows\\\\Recent\\\\AutomaticDestinations\\\\5f7b5f1e01b83767.automaticDestinations-ms'\n",
      " 'OS:E:\\\\C\\\\Users\\\\spsql\\\\AppData\\\\Roaming\\\\Microsoft\\\\Windows\\\\Recent\\\\AutomaticDestinations\\\\9d1f905ce5044aee.automaticDestinations-ms'\n",
      " 'OS:E:\\\\C\\\\Users\\\\spsql\\\\AppData\\\\Roaming\\\\Microsoft\\\\Office\\\\Recent\\\\A_review_on_application_of_carbonaceous_materials_clean_ADS_041109.LNK'\n",
      " 'OS:E:\\\\C\\\\Users\\\\spsql\\\\AppData\\\\Roaming\\\\Microsoft\\\\Windows\\\\Recent\\\\A_review_on_application_of_carbonaceous_materials_clean_ADS_041109.lnk'\n",
      " 'OS:E:\\\\C\\\\Users\\\\spsql\\\\AppData\\\\Roaming\\\\Microsoft\\\\Office\\\\Recent\\\\CONFIDENTIAL - Project Mayhem [Autosaved].LNK'\n",
      " 'OS:E:\\\\C\\\\Users\\\\spsql\\\\AppData\\\\Roaming\\\\Microsoft\\\\Windows\\\\Recent\\\\CONFIDENTIAL - Project Mayhem [Autosaved].lnk'\n",
      " 'OS:E:\\\\C\\\\Users\\\\spsql\\\\AppData\\\\Roaming\\\\Microsoft\\\\Office\\\\Recent\\\\CONFIDENTIAL - Project Mayhem.LNK'\n",
      " 'OS:E:\\\\C\\\\Users\\\\spsql\\\\AppData\\\\Roaming\\\\Microsoft\\\\Windows\\\\Recent\\\\CONFIDENTIAL - Project Mayhem.lnk'\n",
      " 'OS:E:\\\\C\\\\Users\\\\spsql\\\\AppData\\\\Roaming\\\\Microsoft\\\\Windows\\\\Recent\\\\Carbon Materials Embedded with Metal Nonparticles.lnk'\n",
      " 'OS:E:\\\\C\\\\Users\\\\spsql\\\\AppData\\\\Roaming\\\\Microsoft\\\\Office\\\\Recent\\\\Carbon Nanotubes and Related Devices-Andrew Turner.LNK'\n",
      " 'OS:E:\\\\C\\\\Users\\\\spsql\\\\AppData\\\\Roaming\\\\Microsoft\\\\Windows\\\\Recent\\\\Carbon Nanotubes and Related Devices-Andrew Turner.lnk'\n",
      " 'OS:E:\\\\C\\\\Users\\\\spsql\\\\AppData\\\\Roaming\\\\Microsoft\\\\Windows\\\\Recent\\\\Carbon-Steel-Handbook.lnk'\n",
      " 'OS:E:\\\\C\\\\Users\\\\spsql\\\\AppData\\\\Local\\\\Microsoft\\\\Windows\\\\UsrClass.dat'\n",
      " 'OS:E:\\\\C\\\\Users\\\\spsql\\\\AppData\\\\Roaming\\\\Microsoft\\\\Windows\\\\Recent\\\\OneDrive - Stark Research Labs.lnk'\n",
      " 'OS:E:\\\\C\\\\Users\\\\spsql\\\\AppData\\\\Roaming\\\\Microsoft\\\\Windows\\\\Recent\\\\Research.lnk'\n",
      " 'OS:E:\\\\C\\\\Users\\\\spsql\\\\AppData\\\\Roaming\\\\Microsoft\\\\Office\\\\Recent\\\\carbonadium-info.LNK'\n",
      " 'OS:E:\\\\C\\\\Users\\\\spsql\\\\AppData\\\\Roaming\\\\Microsoft\\\\Windows\\\\Recent\\\\carbonadium-info.lnk'\n",
      " 'OS:E:\\\\C\\\\Users\\\\spsql\\\\AppData\\\\Roaming\\\\Microsoft\\\\Windows\\\\Recent\\\\AutomaticDestinations\\\\d00655d2aa12ff6d.automaticDestinations-ms'\n",
      " 'OS:E:\\\\C\\\\Users\\\\spsql\\\\AppData\\\\Roaming\\\\Microsoft\\\\Windows\\\\Recent\\\\AutomaticDestinations\\\\fb3b0dbfee58fac8.automaticDestinations-ms'\n",
      " 'OS:E:\\\\C\\\\Windows\\\\system32\\\\winevt\\\\logs\\\\Windows PowerShell.evtx'\n",
      " 'OS:E:\\\\C\\\\Windows\\\\prefetch\\\\MCDATREP.EXE-81084416.pf'\n",
      " 'OS:E:\\\\C\\\\Windows\\\\prefetch\\\\WUAPIHOST.EXE-8C63377C.pf'\n",
      " 'OS:E:\\\\C\\\\Windows\\\\system32\\\\config\\\\SAM'\n",
      " 'OS:E:\\\\C\\\\Users\\\\tdungan\\\\AppData\\\\Roaming\\\\Microsoft\\\\Windows\\\\Recent\\\\AutomaticDestinations\\\\d00655d2aa12ff6d.automaticDestinations-ms'\n",
      " 'OS:E:\\\\C\\\\Users\\\\tdungan\\\\AppData\\\\Roaming\\\\Microsoft\\\\Windows\\\\Recent\\\\AutomaticDestinations\\\\fb3b0dbfee58fac8.automaticDestinations-ms'\n",
      " 'OS:E:\\\\C\\\\Users\\\\tdungan\\\\AppData\\\\Roaming\\\\Microsoft\\\\Windows\\\\Recent\\\\CustomDestinations\\\\6d2bac8f1edf6668.customDestinations-ms'\n",
      " 'OS:E:\\\\C\\\\Windows\\\\system32\\\\winevt\\\\logs\\\\Microsoft-Windows-Bits-Client%4Operational.evtx'\n",
      " 'OS:E:\\\\C\\\\Windows\\\\prefetch\\\\SMARTSCREEN.EXE-9B5E4173.pf'\n",
      " 'OS:E:\\\\C\\\\Users\\\\tdungan\\\\AppData\\\\Roaming\\\\Microsoft\\\\Windows\\\\Recent\\\\AutomaticDestinations\\\\f01b4d95cf55d32a.automaticDestinations-ms'\n",
      " 'OS:E:\\\\C\\\\Users\\\\tdungan\\\\AppData\\\\Roaming\\\\Microsoft\\\\Windows\\\\Recent\\\\New Alloy Research.lnk'\n",
      " 'OS:E:\\\\C\\\\Users\\\\tdungan\\\\AppData\\\\Roaming\\\\Microsoft\\\\Windows\\\\Recent\\\\AutomaticDestinations\\\\5d696d521de238c3.automaticDestinations-ms'\n",
      " 'OS:E:\\\\C\\\\Users\\\\tdungan\\\\AppData\\\\Roaming\\\\Microsoft\\\\Windows\\\\Recent\\\\AutomaticDestinations\\\\5f7b5f1e01b83767.automaticDestinations-ms'\n",
      " 'OS:E:\\\\C\\\\Users\\\\tdungan\\\\AppData\\\\Roaming\\\\Microsoft\\\\Windows\\\\Recent\\\\Superalloys_2010_13_50.lnk'\n",
      " 'OS:E:\\\\C\\\\Users\\\\tdungan\\\\AppData\\\\Roaming\\\\Microsoft\\\\Windows\\\\Recent\\\\19730011861.lnk'\n",
      " 'OS:E:\\\\C\\\\Users\\\\tdungan\\\\AppData\\\\Roaming\\\\Microsoft\\\\Windows\\\\Recent\\\\Bogomolov_2016_IOP_Conf._Ser.%3A_Mater._Sci._Eng._142_012076.lnk'\n",
      " 'OS:E:\\\\C\\\\Users\\\\tdungan\\\\AppData\\\\Roaming\\\\Microsoft\\\\Windows\\\\Recent\\\\Carbon (2).lnk'\n",
      " 'OS:E:\\\\C\\\\Users\\\\tdungan\\\\AppData\\\\Roaming\\\\Microsoft\\\\Windows\\\\Recent\\\\Carbon (3).lnk'\n",
      " 'OS:E:\\\\C\\\\Users\\\\tdungan\\\\AppData\\\\Roaming\\\\Microsoft\\\\Windows\\\\Recent\\\\Carbon.lnk'\n",
      " 'OS:E:\\\\C\\\\Users\\\\tdungan\\\\AppData\\\\Roaming\\\\Microsoft\\\\Windows\\\\Recent\\\\AutomaticDestinations\\\\de48a32edcbe79e4.automaticDestinations-ms'\n",
      " 'OS:E:\\\\C\\\\Users\\\\tdungan\\\\AppData\\\\Roaming\\\\Microsoft\\\\Windows\\\\Recent\\\\rr094a.lnk'\n",
      " 'OS:E:\\\\C\\\\Users\\\\tdungan\\\\AppData\\\\Roaming\\\\Microsoft\\\\Windows\\\\Recent\\\\DOC.lnk'\n",
      " 'OS:E:\\\\C\\\\Users\\\\tdungan\\\\AppData\\\\Roaming\\\\Microsoft\\\\Windows\\\\Recent\\\\PDFs.lnk'\n",
      " 'OS:E:\\\\C\\\\Users\\\\tdungan\\\\AppData\\\\Roaming\\\\Microsoft\\\\Windows\\\\Recent\\\\PPT.lnk'\n",
      " 'OS:E:\\\\C\\\\Users\\\\tdungan\\\\AppData\\\\Roaming\\\\Microsoft\\\\Windows\\\\Recent\\\\evaluation-of-mechanical-properties-of-medium-carbon-low-alloy-forged-steels-quenched-in-water-oil-and-polymer-2169-0022-1000320.lnk'\n",
      " 'OS:E:\\\\C\\\\Users\\\\tdungan\\\\AppData\\\\Roaming\\\\Microsoft\\\\Windows\\\\Recent\\\\Carbon_nanotube_reinforced_metal_matrix_composites.lnk'\n",
      " 'OS:E:\\\\C\\\\Users\\\\tdungan\\\\AppData\\\\Roaming\\\\Microsoft\\\\Windows\\\\Recent\\\\catalysts-08-00198.lnk'\n",
      " 'OS:E:\\\\C\\\\Users\\\\tdungan\\\\AppData\\\\Roaming\\\\Microsoft\\\\Windows\\\\Recent\\\\1.lnk'\n",
      " 'OS:E:\\\\C\\\\Users\\\\tdungan\\\\AppData\\\\Roaming\\\\Microsoft\\\\Windows\\\\Recent\\\\214.lnk'\n",
      " 'OS:E:\\\\C\\\\Users\\\\tdungan\\\\AppData\\\\Roaming\\\\Microsoft\\\\Windows\\\\Recent\\\\26001_CSIRO_Postdoctoral_Fellowship_PD.lnk'\n",
      " 'OS:E:\\\\C\\\\Users\\\\tdungan\\\\AppData\\\\Roaming\\\\Microsoft\\\\Windows\\\\Recent\\\\Diana_JMRT_final (1).lnk'\n",
      " 'OS:E:\\\\C\\\\Users\\\\tdungan\\\\AppData\\\\Roaming\\\\Microsoft\\\\Windows\\\\Recent\\\\Nilam Patil.lnk'\n",
      " 'OS:E:\\\\C\\\\Users\\\\tdungan\\\\AppData\\\\Roaming\\\\Microsoft\\\\Windows\\\\Recent\\\\jatin datta (1).lnk'\n",
      " 'OS:E:\\\\C\\\\Users\\\\tdungan\\\\AppData\\\\Roaming\\\\Microsoft\\\\Windows\\\\Recent\\\\jatin datta.lnk'\n",
      " 'OS:E:\\\\C\\\\Users\\\\tdungan\\\\AppData\\\\Roaming\\\\Microsoft\\\\Windows\\\\Recent\\\\2-what_workers_need_to_know.lnk'\n",
      " 'OS:E:\\\\C\\\\Users\\\\tdungan\\\\AppData\\\\Roaming\\\\Microsoft\\\\Windows\\\\Recent\\\\021711-um (1).lnk'\n",
      " 'OS:E:\\\\C\\\\Users\\\\tdungan\\\\AppData\\\\Roaming\\\\Microsoft\\\\Windows\\\\Recent\\\\ChrisPresentation.lnk'\n",
      " 'OS:E:\\\\C\\\\Users\\\\tdungan\\\\AppData\\\\Roaming\\\\Microsoft\\\\Windows\\\\Recent\\\\CustomDestinations\\\\28c8b86deab549a1.customDestinations-ms'\n",
      " 'OS:E:\\\\C\\\\Windows\\\\prefetch\\\\DLLHOST.EXE-88F23425.pf'\n",
      " 'OS:E:\\\\C\\\\Windows\\\\prefetch\\\\CHROME.EXE-D999B1C2.pf'\n",
      " 'OS:E:\\\\C\\\\Users\\\\tdungan\\\\AppData\\\\Local\\\\Google\\\\Chrome\\\\User Data\\\\Default\\\\History'\n",
      " 'OS:E:\\\\C\\\\Windows\\\\system32\\\\winevt\\\\logs\\\\Microsoft-Windows-Crypto-DPAPI%4Operational.evtx'\n",
      " 'OS:E:\\\\C\\\\Windows\\\\system32\\\\winevt\\\\logs\\\\Microsoft-Windows-Winlogon%4Operational.evtx'\n",
      " 'OS:E:\\\\C\\\\Windows\\\\prefetch\\\\DLLHOST.EXE-47C6CEFA.pf'\n",
      " 'OS:E:\\\\C\\\\Users\\\\tdungan\\\\AppData\\\\Local\\\\Google\\\\Chrome\\\\User Data\\\\Default\\\\Media Cache\\\\index'\n",
      " 'OS:E:\\\\C\\\\Windows\\\\system32\\\\winevt\\\\logs\\\\OSession.evtx'\n",
      " 'OS:E:\\\\C\\\\Users\\\\tdungan\\\\AppData\\\\Roaming\\\\Microsoft\\\\Windows\\\\Recent\\\\Alloy_Steel_-_Properties_and_Use.lnk'\n",
      " 'OS:E:\\\\C\\\\Users\\\\tdungan\\\\AppData\\\\Roaming\\\\Microsoft\\\\Windows\\\\Recent\\\\IEOR4004-notes1.lnk'\n",
      " 'OS:E:\\\\C\\\\Users\\\\tdungan\\\\AppData\\\\Roaming\\\\Microsoft\\\\Windows\\\\Recent\\\\Research (2).lnk'\n",
      " 'OS:E:\\\\C\\\\Users\\\\tdungan\\\\AppData\\\\Roaming\\\\Microsoft\\\\Windows\\\\Recent\\\\Research (3).lnk'\n",
      " 'OS:E:\\\\C\\\\Users\\\\tdungan\\\\AppData\\\\Local\\\\Google\\\\Chrome\\\\User Data\\\\Default\\\\Preferences'\n",
      " 'OS:E:\\\\C\\\\Windows\\\\prefetch\\\\VMWARERESOLUTIONSET.EXE-79C811DD.pf'\n",
      " 'OS:E:\\\\C\\\\Users\\\\tdungan\\\\AppData\\\\Roaming\\\\Microsoft\\\\Windows\\\\Recent\\\\Downloads.lnk'\n",
      " 'OS:E:\\\\C\\\\Windows\\\\prefetch\\\\WINWORD.EXE-A29E96D8.pf'\n",
      " 'OS:E:\\\\C\\\\Windows\\\\system32\\\\winevt\\\\logs\\\\OAlerts.evtx'\n",
      " 'OS:E:\\\\C\\\\Windows\\\\prefetch\\\\POWERPNT.EXE-59511DC9.pf'\n",
      " 'OS:E:\\\\C\\\\$Recycle.Bin\\\\S-1-5-21-3445421715-2530590580-3149308974-1193\\\\$RW2YF61\\\\06-11\\\\Research\\\\Carbon\\\\DOC\\\\214.docx'\n",
      " 'OS:E:\\\\C\\\\Windows\\\\system32\\\\winevt\\\\logs\\\\Microsoft-Windows-ApplicationResourceManagementSystem%4Operational.evtx'\n",
      " 'OS:E:\\\\C\\\\Windows\\\\prefetch\\\\WWAHOST.EXE-FC43D5B3.pf'\n",
      " 'OS:E:\\\\C\\\\Windows\\\\prefetch\\\\WERFAULT.EXE-37549B7E.pf'\n",
      " 'OS:E:\\\\C\\\\Windows\\\\AppCompat\\\\Programs\\\\Amcache.hve'\n",
      " 'OS:E:\\\\C\\\\Windows\\\\system32\\\\winevt\\\\logs\\\\Microsoft-Windows-Fault-Tolerant-Heap%4Operational.evtx'\n",
      " 'OS:E:\\\\C\\\\Windows\\\\prefetch\\\\SYSTEMSETTINGS.EXE-2F464A5B.pf'\n",
      " 'OS:E:\\\\C\\\\Windows\\\\prefetch\\\\SVCHOST.EXE-17E125E3.pf'\n",
      " 'OS:E:\\\\C\\\\Windows\\\\system32\\\\winevt\\\\logs\\\\Microsoft-Windows-Biometrics%4Operational.evtx'\n",
      " 'OS:E:\\\\C\\\\Users\\\\administrator.shieldbase\\\\ntuser.dat'\n",
      " 'OS:E:\\\\C\\\\Windows\\\\system32\\\\winevt\\\\logs\\\\Microsoft-Windows-SmbClient%4Security.evtx'\n",
      " 'OS:E:\\\\C\\\\Windows\\\\system32\\\\winevt\\\\logs\\\\Microsoft-Windows-RemoteDesktopServices-RdpCoreTS%4Operational.evtx'\n",
      " 'OS:E:\\\\C\\\\Windows\\\\system32\\\\winevt\\\\logs\\\\Microsoft-Windows-TerminalServices-RemoteConnectionManager%4Operational.evtx'\n",
      " 'OS:E:\\\\C\\\\Windows\\\\system32\\\\winevt\\\\logs\\\\Microsoft-Windows-TerminalServices-RemoteConnectionManager%4Admin.evtx'\n",
      " 'OS:E:\\\\C\\\\Windows\\\\system32\\\\winevt\\\\logs\\\\Microsoft-Windows-DeviceSetupManager%4Admin.evtx'\n",
      " 'OS:E:\\\\C\\\\Windows\\\\system32\\\\winevt\\\\logs\\\\Microsoft-Windows-Kernel-PnP%4Configuration.evtx'\n",
      " 'OS:E:\\\\C\\\\Windows\\\\system32\\\\winevt\\\\logs\\\\Microsoft-Windows-Win32k%4Operational.evtx'\n",
      " 'OS:E:\\\\C\\\\Windows\\\\system32\\\\winevt\\\\logs\\\\Microsoft-Windows-DeviceSetupManager%4Operational.evtx'\n",
      " 'OS:E:\\\\C\\\\Windows\\\\system32\\\\winevt\\\\logs\\\\Microsoft-Windows-Wcmsvc%4Operational.evtx'\n",
      " 'OS:E:\\\\C\\\\Windows\\\\system32\\\\winevt\\\\logs\\\\Microsoft-Windows-TerminalServices-PnPDevices%4Admin.evtx'\n",
      " 'OS:E:\\\\C\\\\Windows\\\\system32\\\\winevt\\\\logs\\\\Microsoft-Windows-TerminalServices-ServerUSBDevices%4Admin.evtx'\n",
      " 'OS:E:\\\\C\\\\Windows\\\\system32\\\\winevt\\\\logs\\\\Microsoft-Windows-TerminalServices-LocalSessionManager%4Operational.evtx'\n",
      " 'OS:E:\\\\C\\\\Windows\\\\system32\\\\winevt\\\\logs\\\\Microsoft-Windows-Diagnosis-DPS%4Operational.evtx'\n",
      " 'OS:E:\\\\C\\\\Windows\\\\system32\\\\winevt\\\\logs\\\\Microsoft-Windows-Shell-Core%4AppDefaults.evtx'\n",
      " 'OS:E:\\\\C\\\\Windows\\\\system32\\\\winevt\\\\logs\\\\Microsoft-Windows-AppReadiness%4Admin.evtx'\n",
      " 'OS:E:\\\\C\\\\Windows\\\\system32\\\\winevt\\\\logs\\\\Microsoft-Windows-AppReadiness%4Operational.evtx'\n",
      " 'OS:E:\\\\C\\\\Windows\\\\prefetch\\\\DLLHOST.EXE-0AD6AC16.pf'\n",
      " 'OS:E:\\\\C\\\\Windows\\\\system32\\\\winevt\\\\logs\\\\Microsoft-Windows-User Device Registration%4Admin.evtx'\n",
      " 'OS:E:\\\\C\\\\Windows\\\\prefetch\\\\SHELLEXPERIENCEHOST.EXE-46FDBB1F.pf'\n",
      " 'OS:E:\\\\C\\\\Windows\\\\prefetch\\\\SEARCHUI.EXE-87624C1B.pf'\n",
      " 'OS:E:\\\\C\\\\Windows\\\\system32\\\\winevt\\\\logs\\\\Microsoft-Windows-SettingSync%4Operational.evtx'\n",
      " 'OS:E:\\\\C\\\\Windows\\\\prefetch\\\\UPDATERUI.EXE-DE600CE3.pf'\n",
      " 'OS:E:\\\\C\\\\Windows\\\\prefetch\\\\SHSTAT.EXE-5AA70198.pf'\n",
      " 'OS:E:\\\\C\\\\Windows\\\\system32\\\\winevt\\\\logs\\\\Microsoft-Windows-Audio%4PlaybackManager.evtx'\n",
      " 'OS:E:\\\\C\\\\Windows\\\\prefetch\\\\CONSENT.EXE-531BD9EA.pf'\n",
      " 'OS:E:\\\\C\\\\Windows\\\\system32\\\\winevt\\\\logs\\\\Microsoft-Windows-AAD%4Operational.evtx'\n",
      " 'OS:E:\\\\C\\\\Windows\\\\prefetch\\\\APPLICATIONFRAMEHOST.EXE-CCEEF759.pf'\n",
      " 'OS:E:\\\\C\\\\Windows\\\\prefetch\\\\MICROSOFTEDGE.EXE-C8670053.pf'\n",
      " 'OS:E:\\\\C\\\\Users\\\\spsql\\\\AppData\\\\Local\\\\Packages\\\\Microsoft.MicrosoftEdge_8wekyb3d8bbwe\\\\Settings\\\\settings.dat'\n",
      " 'OS:E:\\\\C\\\\Windows\\\\prefetch\\\\MICROSOFTEDGECP.EXE-FA0D159D.pf'\n",
      " 'OS:E:\\\\C\\\\Windows\\\\prefetch\\\\BROWSER_BROKER.EXE-E6357BB0.pf'\n",
      " 'OS:E:\\\\C\\\\Windows\\\\prefetch\\\\MICROSOFTPDFREADER.EXE-FE3EBC35.pf'\n",
      " 'OS:E:\\\\C\\\\Windows\\\\system32\\\\winevt\\\\logs\\\\Microsoft-Windows-TWinUI%4Operational.evtx'\n",
      " 'OS:E:\\\\C\\\\Windows\\\\prefetch\\\\SVCHOST.EXE-24568AC4.pf'\n",
      " 'OS:E:\\\\C\\\\Windows\\\\prefetch\\\\CREDENTIALUIBROKER.EXE-2FE21806.pf'\n",
      " 'OS:E:\\\\C\\\\Windows\\\\system32\\\\winevt\\\\logs\\\\Microsoft-Windows-SmbClient%4Connectivity.evtx'\n",
      " 'OS:E:\\\\C\\\\Windows\\\\system32\\\\winevt\\\\logs\\\\Microsoft-Windows-Provisioning-Diagnostics-Provider%4Admin.evtx'\n",
      " 'OS:E:\\\\C\\\\Windows\\\\system32\\\\winevt\\\\logs\\\\Microsoft-Windows-WinRM%4Operational.evtx'\n",
      " 'OS:E:\\\\C\\\\Windows\\\\system32\\\\winevt\\\\logs\\\\Microsoft-Client-Licensing-Platform%4Admin.evtx'\n",
      " 'OS:E:\\\\C\\\\Windows\\\\prefetch\\\\CLEANMGR.EXE-E3C5E89D.pf'\n",
      " 'OS:E:\\\\C\\\\Windows\\\\system32\\\\winevt\\\\logs\\\\Microsoft-Windows-Resource-Exhaustion-Detector%4Operational.evtx'\n",
      " 'OS:E:\\\\C\\\\Windows\\\\system32\\\\winevt\\\\logs\\\\Microsoft-Windows-Resource-Exhaustion-Resolver%4Operational.evtx'\n",
      " 'OS:E:\\\\C\\\\Windows\\\\prefetch\\\\OUTLOOK.EXE-F1C71227.pf'\n",
      " 'OS:E:\\\\C\\\\Windows\\\\prefetch\\\\IEXPLORE.EXE-908C99F8.pf'\n",
      " 'OS:E:\\\\C\\\\Windows\\\\prefetch\\\\IEXPLORE.EXE-4B6C9215.pf'\n",
      " 'OS:E:\\\\C\\\\Windows\\\\system32\\\\winevt\\\\logs\\\\Microsoft-Windows-Forwarding%4Operational.evtx'\n",
      " 'OS:E:\\\\C\\\\Users\\\\rsydow-a\\\\ntuser.dat'\n",
      " 'OS:E:\\\\C\\\\Windows\\\\prefetch\\\\COMPATTELRUNNER.EXE-DB97728F.pf'\n",
      " 'OS:E:\\\\C\\\\Windows\\\\prefetch\\\\BACKGROUNDTASKHOST.EXE-52C87A14.pf'\n",
      " 'OS:E:\\\\C\\\\Windows\\\\system32\\\\winevt\\\\logs\\\\Microsoft-Windows-WebAuthN%4Operational.evtx'\n",
      " 'OS:E:\\\\C\\\\Users\\\\spsql\\\\AppData\\\\Roaming\\\\Microsoft\\\\Windows\\\\Recent\\\\AutomaticDestinations\\\\1bc392b8e104a00e.automaticDestinations-ms'\n",
      " 'OS:E:\\\\C\\\\Windows\\\\system32\\\\winevt\\\\logs\\\\Microsoft-Windows-Kernel-Boot%4Operational.evtx'\n",
      " 'OS:E:\\\\C\\\\Windows\\\\system32\\\\winevt\\\\logs\\\\Microsoft-Windows-Kernel-ShimEngine%4Operational.evtx'\n",
      " 'OS:E:\\\\C\\\\Windows\\\\system32\\\\winevt\\\\logs\\\\Microsoft-Windows-Ntfs%4WHC.evtx'\n",
      " 'OS:E:\\\\C\\\\Windows\\\\system32\\\\winevt\\\\logs\\\\Microsoft-Windows-Partition%4Diagnostic.evtx'\n",
      " 'OS:E:\\\\C\\\\Windows\\\\system32\\\\winevt\\\\logs\\\\Microsoft-Windows-VolumeSnapshot-Driver%4Operational.evtx'\n",
      " 'OS:E:\\\\C\\\\Windows\\\\system32\\\\winevt\\\\logs\\\\Microsoft-Windows-CodeIntegrity%4Operational.evtx'\n",
      " 'OS:E:\\\\C\\\\Windows\\\\system32\\\\winevt\\\\logs\\\\Microsoft-Windows-Kernel-WHEA%4Operational.evtx'\n",
      " 'OS:E:\\\\C\\\\Windows\\\\system32\\\\winevt\\\\logs\\\\Microsoft-Windows-Containers-Wcifs%4Operational.evtx'\n",
      " 'OS:E:\\\\C\\\\Windows\\\\system32\\\\winevt\\\\logs\\\\Microsoft-Windows-NetworkProfile%4Operational.evtx'\n",
      " 'OS:E:\\\\C\\\\Windows\\\\system32\\\\winevt\\\\logs\\\\Microsoft-Windows-SMBServer%4Operational.evtx'\n",
      " 'OS:E:\\\\C\\\\Windows\\\\system32\\\\winevt\\\\logs\\\\Microsoft-Windows-NCSI%4Operational.evtx'\n",
      " 'OS:E:\\\\C\\\\Windows\\\\system32\\\\winevt\\\\logs\\\\Microsoft-Windows-SmartCard-DeviceEnum%4Operational.evtx'\n",
      " 'OS:E:\\\\C\\\\Windows\\\\prefetch\\\\SCHTASKS.EXE-AD598958.pf'\n",
      " 'OS:E:\\\\C\\\\Windows\\\\prefetch\\\\SEARCHINDEXER.EXE-4A6353B9.pf'\n",
      " 'OS:E:\\\\C\\\\Windows\\\\prefetch\\\\ONEDRIVE.EXE-8A435BA2.pf'\n",
      " 'OS:E:\\\\C\\\\Windows\\\\prefetch\\\\WEVTUTIL.EXE-400D93E8.pf'\n",
      " 'OS:E:\\\\C\\\\Windows\\\\prefetch\\\\WEVTUTIL.EXE-EF5861C4.pf'\n",
      " 'OS:E:\\\\C\\\\Windows\\\\prefetch\\\\MSIEXEC.EXE-A2D55CB6.pf'\n",
      " 'OS:E:\\\\C\\\\Windows\\\\prefetch\\\\MSIEXEC.EXE-E09A077A.pf'\n",
      " 'OS:E:\\\\C\\\\Windows\\\\prefetch\\\\RUNTIMEBROKER.EXE-D9AFC2C4.pf'\n",
      " 'OS:E:\\\\C\\\\Windows\\\\system32\\\\winevt\\\\logs\\\\Microsoft-Windows-Diagnostics-Performance%4Operational.evtx'\n",
      " 'OS:E:\\\\C\\\\Windows\\\\prefetch\\\\RUNDLL32.EXE-23EA2E5B.pf'\n",
      " 'OS:E:\\\\C\\\\Windows\\\\prefetch\\\\SVCHOST.EXE-8D87DCC8.pf'\n",
      " 'OS:E:\\\\C\\\\Windows\\\\prefetch\\\\NGEN.EXE-AE594A6B.pf'\n",
      " 'OS:E:\\\\C\\\\Windows\\\\prefetch\\\\NGEN.EXE-EC3F9239.pf'\n",
      " 'OS:E:\\\\C\\\\Windows\\\\prefetch\\\\POWERSHELL.EXE-920BBA2A.pf'\n",
      " 'OS:E:\\\\C\\\\Windows\\\\prefetch\\\\SEARCHPROTOCOLHOST.EXE-42E1CDC2.pf'\n",
      " 'OS:E:\\\\C\\\\Windows\\\\prefetch\\\\RUNDLL32.EXE-1BD8A3F1.pf'\n",
      " 'OS:E:\\\\C\\\\Windows\\\\prefetch\\\\WMIPRVSE.EXE-6768A320.pf'\n",
      " 'OS:E:\\\\C\\\\Windows\\\\prefetch\\\\RUNTIMEBROKER.EXE-D741D2F7.pf'\n",
      " 'OS:E:\\\\C\\\\Windows\\\\prefetch\\\\MCUPDATE.EXE-3E7ED03C.pf'\n",
      " 'OS:E:\\\\C\\\\Windows\\\\system32\\\\pa.exe'\n",
      " 'OS:E:\\\\C\\\\Windows\\\\prefetch\\\\RUNDLL32.EXE-AFB98035.pf'\n",
      " 'OS:E:\\\\C\\\\Windows\\\\prefetch\\\\PB.EXE-4C1C0FBD.pf'\n",
      " 'OS:E:\\\\C\\\\Windows\\\\prefetch\\\\FONDUE.EXE-142C2D15.pf'\n",
      " 'OS:E:\\\\C\\\\Windows\\\\prefetch\\\\CSRSS.EXE-7898BE61.pf'\n",
      " 'OS:E:\\\\C\\\\Windows\\\\prefetch\\\\CMD.EXE-AC113AA8.pf'\n",
      " 'OS:E:\\\\C\\\\Windows\\\\prefetch\\\\P.EXE-1209D82B.pf'\n",
      " 'OS:E:\\\\C\\\\Windows\\\\prefetch\\\\NETSH.EXE-CD959116.pf'\n",
      " 'OS:E:\\\\C\\\\Windows\\\\prefetch\\\\WMIC.EXE-40C98607.pf'\n",
      " 'OS:E:\\\\C\\\\Windows\\\\prefetch\\\\POWERSHELL.EXE-767FB1AE.pf'\n",
      " 'OS:E:\\\\C\\\\Windows\\\\prefetch\\\\RUNTIMEBROKER.EXE-AF970433.pf'\n",
      " 'OS:E:\\\\C\\\\Windows\\\\prefetch\\\\WMIC.EXE-A7D06383.pf'\n",
      " 'OS:E:\\\\C\\\\Windows\\\\prefetch\\\\PING.EXE-7E94E73E.pf'\n",
      " 'OS:E:\\\\C\\\\Windows\\\\prefetch\\\\RUNTIMEBROKER.EXE-56CF2D27.pf'\n",
      " 'OS:E:\\\\C\\\\Windows\\\\system32\\\\Family.Authentication.dll'\n",
      " 'OS:E:\\\\C\\\\Windows\\\\prefetch\\\\SVCHOST.EXE-1CCEF527.pf'\n",
      " 'OS:E:\\\\C\\\\Windows\\\\prefetch\\\\SETTINGSYNCHOST.EXE-2521C7ED.pf'\n",
      " 'OS:E:\\\\C\\\\Windows\\\\prefetch\\\\RUNTIMEBROKER.EXE-9A78ED9F.pf'\n",
      " 'OS:E:\\\\C\\\\Windows\\\\prefetch\\\\SKYPEHOST.EXE-BB182013.pf'\n",
      " 'OS:E:\\\\C\\\\Windows\\\\prefetch\\\\RUNTIMEBROKER.EXE-3E0F2269.pf'\n",
      " 'OS:E:\\\\C\\\\Windows\\\\prefetch\\\\ONEDRIVE.EXE-A7AE3D8C.pf'\n",
      " 'OS:E:\\\\C\\\\Windows\\\\prefetch\\\\RUNONCE.EXE-0E293DD6.pf'\n",
      " 'OS:E:\\\\C\\\\Windows\\\\prefetch\\\\GROOVEMONITOR.EXE-F50973DC.pf'\n",
      " 'OS:E:\\\\C\\\\Windows\\\\prefetch\\\\DLLHOST.EXE-5A984E5F.pf'\n",
      " 'OS:E:\\\\C\\\\Windows\\\\prefetch\\\\MSTSC.EXE-76A46E8A.pf'\n",
      " 'OS:E:\\\\C\\\\Windows\\\\prefetch\\\\BACKGROUNDTRANSFERHOST.EXE-02A81B49.pf'\n",
      " 'OS:E:\\\\C\\\\Windows\\\\system32\\\\winevt\\\\logs\\\\Microsoft-Windows-TerminalServices-RDPClient%4Operational.evtx'\n",
      " 'OS:E:\\\\C\\\\Windows\\\\prefetch\\\\BACKGROUNDTASKHOST.EXE-47A701FF.pf'\n",
      " 'OS:E:\\\\C\\\\Windows\\\\prefetch\\\\SIHOST.EXE-2C4C53BA.pf'\n",
      " 'OS:E:\\\\C\\\\Windows\\\\prefetch\\\\SVCHOST.EXE-D6693F60.pf'\n",
      " 'OS:E:\\\\C\\\\Windows\\\\prefetch\\\\USERINIT.EXE-2257A3E7.pf'\n",
      " 'OS:E:\\\\C\\\\Windows\\\\prefetch\\\\MSASCUIL.EXE-B411EDE3.pf'\n",
      " 'OS:E:\\\\C\\\\Windows\\\\prefetch\\\\VMTOOLSD.EXE-CD82EC13.pf'\n",
      " 'OS:E:\\\\C\\\\Windows\\\\prefetch\\\\MSCORSVW.EXE-C3C515BD.pf'\n",
      " 'OS:E:\\\\C\\\\Windows\\\\prefetch\\\\MSCORSVW.EXE-57D17DAF.pf'\n",
      " 'OS:E:\\\\C\\\\Users\\\\rsydow-a\\\\AppData\\\\Local\\\\Microsoft\\\\Windows\\\\UsrClass.dat'\n",
      " 'OS:E:\\\\C\\\\Windows\\\\prefetch\\\\SVCHOST.EXE-2E2328C8.pf'\n",
      " 'OS:E:\\\\C\\\\Windows\\\\prefetch\\\\RDPCLIP.EXE-9067FA0E.pf'\n",
      " 'OS:E:\\\\C\\\\Windows\\\\prefetch\\\\EXPLORER.EXE-A80E4F97.pf'\n",
      " 'OS:E:\\\\C\\\\Windows\\\\prefetch\\\\SMSS.EXE-E9C28FC6.pf'\n",
      " 'OS:E:\\\\C\\\\Windows\\\\prefetch\\\\CSRSS.EXE-3FE41F7E.pf'\n",
      " 'OS:E:\\\\C\\\\Windows\\\\prefetch\\\\WINLOGON.EXE-B020DC41.pf'\n",
      " 'OS:E:\\\\C\\\\Windows\\\\prefetch\\\\DWM.EXE-6FFD3DA8.pf'\n",
      " 'OS:E:\\\\C\\\\Windows\\\\prefetch\\\\FONTDRVHOST.EXE-31E45F6D.pf'\n",
      " 'OS:E:\\\\C\\\\Windows\\\\prefetch\\\\ATBROKER.EXE-2E15A492.pf'\n",
      " 'OS:E:\\\\C\\\\Windows\\\\prefetch\\\\DLLHOST.EXE-2E884D3E.pf'\n",
      " 'OS:E:\\\\C\\\\Windows\\\\prefetch\\\\RUNTIMEBROKER.EXE-72C0C855.pf'\n",
      " 'OS:E:\\\\C\\\\Windows\\\\prefetch\\\\WMIPRVSE.EXE-1628051C.pf'\n",
      " 'OS:E:\\\\C\\\\Windows\\\\prefetch\\\\AUDIODG.EXE-BDFD3029.pf'\n",
      " 'OS:E:\\\\C\\\\Windows\\\\system32\\\\winevt\\\\logs\\\\Microsoft-Windows-AppXDeployment%4Operational.evtx'\n",
      " 'OS:E:\\\\C\\\\Windows\\\\prefetch\\\\RUNTIMEBROKER.EXE-97225BFA.pf'\n",
      " 'OS:E:\\\\C\\\\Windows\\\\prefetch\\\\TIWORKER.EXE-2704BC5E.pf'\n",
      " 'OS:E:\\\\C\\\\Windows\\\\system32\\\\winevt\\\\logs\\\\Microsoft-Windows-GroupPolicy%4Operational.evtx'\n",
      " 'OS:E:\\\\C\\\\Windows\\\\prefetch\\\\RUNTIMEBROKER.EXE-ED4E2CAE.pf'\n",
      " 'OS:E:\\\\C\\\\Windows\\\\system32\\\\dxilconv.dll'\n",
      " 'OS:E:\\\\C\\\\Windows\\\\system32\\\\winevt\\\\logs\\\\Microsoft-Windows-Store%4Operational.evtx'\n",
      " 'OS:E:\\\\C\\\\Windows\\\\prefetch\\\\RUNTIMEBROKER.EXE-0502E535.pf'\n",
      " 'OS:E:\\\\C\\\\Windows\\\\system32\\\\winevt\\\\logs\\\\Application.evtx'\n",
      " 'OS:E:\\\\C\\\\Windows\\\\prefetch\\\\MCSCRIPT_INUSE.EXE-38589374.pf'\n",
      " 'OS:E:\\\\C\\\\Windows\\\\prefetch\\\\WSMPROVHOST.EXE-EF06207C.pf'\n",
      " 'OS:E:\\\\C\\\\Windows\\\\prefetch\\\\NGENTASK.EXE-4F8BD802.pf'\n",
      " 'OS:E:\\\\C\\\\Windows\\\\prefetch\\\\NGENTASK.EXE-BB7F7010.pf'\n",
      " 'OS:E:\\\\C\\\\Windows\\\\Temp\\\\CR_2D03E.tmp\\\\setup.exe'\n",
      " 'OS:E:\\\\C\\\\Windows\\\\system32\\\\drivers\\\\tcpipreg.sys'\n",
      " 'OS:E:\\\\C\\\\Users\\\\Public\\\\Desktop\\\\Google Chrome.lnk'\n",
      " 'OS:E:\\\\C\\\\Windows\\\\system32\\\\winevt\\\\logs\\\\Microsoft-Windows-LiveId%4Operational.evtx'\n",
      " 'OS:E:\\\\C\\\\Windows\\\\prefetch\\\\VSSVC.EXE-B8AFC319.pf'\n",
      " 'OS:E:\\\\C\\\\Windows\\\\prefetch\\\\SVCHOST.EXE-5E731DE3.pf'\n",
      " 'OS:E:\\\\C\\\\Windows\\\\prefetch\\\\69.0.3497.81_68.0.3440.106_CH-C147A6D4.pf'\n",
      " 'OS:E:\\\\C\\\\Windows\\\\prefetch\\\\SETUP.EXE-5789F219.pf'\n",
      " 'OS:E:\\\\C\\\\Windows\\\\prefetch\\\\SETUP.EXE-5789F220.pf'\n",
      " 'OS:E:\\\\C\\\\Windows\\\\prefetch\\\\SETUP.EXE-17F36A69.pf'\n",
      " 'OS:E:\\\\C\\\\Users\\\\spsql\\\\AppData\\\\Roaming\\\\Microsoft\\\\Windows\\\\Recent\\\\6.11.lnk'\n",
      " 'OS:E:\\\\C\\\\Users\\\\spsql\\\\AppData\\\\Roaming\\\\Microsoft\\\\Windows\\\\Recent\\\\Logs.lnk'\n",
      " 'OS:E:\\\\C\\\\Users\\\\spsql\\\\AppData\\\\Roaming\\\\Microsoft\\\\Windows\\\\Recent\\\\WindowsServerBackup.lnk'\n",
      " 'OS:E:\\\\C\\\\Users\\\\spsql\\\\AppData\\\\Roaming\\\\Microsoft\\\\Windows\\\\Recent\\\\6.14.lnk'\n",
      " 'OS:E:\\\\C\\\\Users\\\\spsql\\\\AppData\\\\Roaming\\\\Microsoft\\\\Windows\\\\Recent\\\\6.12.lnk'\n",
      " 'OS:E:\\\\C\\\\Users\\\\spsql\\\\AppData\\\\Roaming\\\\Microsoft\\\\Windows\\\\Recent\\\\7.15.lnk'\n",
      " 'OS:E:\\\\C\\\\Users\\\\spsql\\\\AppData\\\\Roaming\\\\Microsoft\\\\Windows\\\\Recent\\\\7.11.lnk'\n",
      " 'OS:E:\\\\C\\\\Users\\\\spsql\\\\AppData\\\\Roaming\\\\Microsoft\\\\Windows\\\\Recent\\\\7.13.lnk'\n",
      " 'OS:E:\\\\C\\\\Users\\\\spsql\\\\AppData\\\\Roaming\\\\Microsoft\\\\Windows\\\\Recent\\\\4.04.lnk'\n",
      " 'OS:E:\\\\C\\\\Windows\\\\prefetch\\\\MOBSYNC.EXE-C5E2284F.pf'\n",
      " 'OS:E:\\\\C\\\\Windows\\\\prefetch\\\\IPCONFIG.EXE-912F3D5B.pf'\n",
      " 'OS:E:\\\\C\\\\Windows\\\\prefetch\\\\CTFMON.EXE-9450846B.pf'\n",
      " 'OS:E:\\\\C\\\\Windows\\\\prefetch\\\\RUNDLL32.EXE-7A6E3FA9.pf'\n",
      " 'OS:E:\\\\C\\\\Windows\\\\prefetch\\\\TSTHEME.EXE-14AC78EA.pf'\n",
      " 'OS:E:\\\\C\\\\Windows\\\\prefetch\\\\CMD.EXE-4A81B364.pf'\n",
      " 'OS:E:\\\\C\\\\Windows\\\\prefetch\\\\SVCHOST.EXE-8BCDF905.pf'\n",
      " 'OS:E:\\\\C\\\\Windows\\\\prefetch\\\\RUNDLL32.EXE-467448AC.pf'\n",
      " 'OS:E:\\\\C\\\\Windows\\\\prefetch\\\\OFFICECLICKTORUN.EXE-9BB5F0C3.pf'\n",
      " 'OS:E:\\\\C\\\\Windows\\\\prefetch\\\\SVCHOST.EXE-724DE651.pf'\n",
      " 'OS:E:\\\\C\\\\Windows\\\\prefetch\\\\LOGONUI.EXE-09140401.pf'\n",
      " 'OS:E:\\\\C\\\\Windows\\\\prefetch\\\\DLLHOST.EXE-9C376A75.pf'\n",
      " 'OS:E:\\\\C\\\\Windows\\\\prefetch\\\\RUNDLL32.EXE-8FCB4341.pf'\n",
      " 'OS:E:\\\\C\\\\$Recycle.Bin\\\\S-1-5-21-3445421715-2530590580-3149308974-1193\\\\$IW2YF61'\n",
      " 'OS:E:\\\\C\\\\Windows\\\\prefetch\\\\TRUSTEDINSTALLER.EXE-3CC531E5.pf'\n",
      " 'OS:E:\\\\C\\\\Windows\\\\system32\\\\dimsroam.dll'\n",
      " 'OS:E:\\\\C\\\\Windows\\\\prefetch\\\\SVCHOST.EXE-C4EC3D8C.pf'\n",
      " 'OS:E:\\\\C\\\\Windows\\\\prefetch\\\\WINDOWS.WARP.JITSERVICE.EXE-CC70B00D.pf'\n",
      " 'OS:E:\\\\C\\\\Windows\\\\prefetch\\\\RUNTIMEBROKER.EXE-AB8179FF.pf'\n",
      " 'OS:E:\\\\C\\\\Windows\\\\prefetch\\\\RUNTIMEBROKER.EXE-04B5A152.pf'\n",
      " 'OS:E:\\\\C\\\\Windows\\\\prefetch\\\\DATAEXCHANGEHOST.EXE-BE987727.pf'\n",
      " 'OS:E:\\\\C\\\\Users\\\\spsql\\\\AppData\\\\Local\\\\Packages\\\\Microsoft.MicrosoftEdge_8wekyb3d8bbwe\\\\AC\\\\MicrosoftEdge\\\\User\\\\Default\\\\Recovery\\\\Active\\\\{AEE7BD2A-E43E-4284-9C6E-EFCA3AF3E67F}.dat'\n",
      " 'OS:E:\\\\C\\\\Windows\\\\prefetch\\\\CHROME.EXE-D999B1C1.pf'\n",
      " 'OS:E:\\\\C\\\\Windows\\\\prefetch\\\\CHROME.EXE-D999B1C0.pf'\n",
      " 'OS:E:\\\\C\\\\Windows\\\\prefetch\\\\CHROME.EXE-D999B1BC.pf'\n",
      " 'OS:E:\\\\C\\\\Users\\\\spsql\\\\AppData\\\\Local\\\\Google\\\\Chrome\\\\User Data\\\\Default\\\\Preferences'\n",
      " 'OS:E:\\\\C\\\\Windows\\\\prefetch\\\\CHROME.EXE-D999B1BB.pf'\n",
      " 'OS:E:\\\\C\\\\Users\\\\spsql\\\\AppData\\\\Local\\\\Google\\\\Chrome\\\\User Data\\\\Default\\\\Cache\\\\index'\n",
      " 'OS:E:\\\\C\\\\Users\\\\spsql\\\\AppData\\\\Local\\\\Google\\\\Chrome\\\\User Data\\\\Default\\\\Cookies'\n",
      " 'OS:E:\\\\C\\\\Windows\\\\prefetch\\\\CHRMSTP.EXE-0D10D0EC.pf'\n",
      " 'OS:E:\\\\C\\\\Windows\\\\prefetch\\\\CHRMSTP.EXE-0D10D0F3.pf'\n",
      " 'OS:E:\\\\C\\\\Users\\\\spsql\\\\AppData\\\\Local\\\\Packages\\\\Microsoft.MicrosoftEdge_8wekyb3d8bbwe\\\\AC\\\\MicrosoftEdge\\\\User\\\\Default\\\\Recovery\\\\Active\\\\RecoveryStore.{13211393-B27B-413B-976E-8EB50F9D1547}.dat'\n",
      " 'OS:E:\\\\C\\\\Windows\\\\system32\\\\winevt\\\\logs\\\\Microsoft-Windows-ShellCommon-StartLayoutPopulation%4Operational.evtx'\n",
      " 'OS:E:\\\\C\\\\Windows\\\\prefetch\\\\GOOGLEUPDATE.EXE-B95715F5.pf'\n",
      " 'OS:E:\\\\C\\\\Windows\\\\prefetch\\\\SCHTASKS.EXE-5CA45734.pf'\n",
      " 'OS:E:\\\\C\\\\Windows\\\\prefetch\\\\SPPSVC.EXE-B0F8131B.pf'\n",
      " 'OS:E:\\\\C\\\\Windows\\\\prefetch\\\\DLLHOST.EXE-A853C612.pf'\n",
      " 'OS:E:\\\\C\\\\Windows\\\\prefetch\\\\RUNDLL32.EXE-63F2C164.pf'\n",
      " 'OS:E:\\\\C\\\\Windows\\\\prefetch\\\\WINSAT.EXE-DE36CB46.pf'\n",
      " 'OS:E:\\\\C\\\\Windows\\\\system32\\\\winevt\\\\logs\\\\Microsoft-Windows-WindowsSystemAssessmentTool%4Operational.evtx'\n",
      " 'OS:E:\\\\C\\\\Windows\\\\prefetch\\\\BACKGROUNDTASKHOST.EXE-BD5D5DB4.pf'\n",
      " 'OS:E:\\\\C\\\\Windows\\\\prefetch\\\\RUNTIMEBROKER.EXE-102F4954.pf'\n",
      " 'OS:E:\\\\C\\\\Windows\\\\prefetch\\\\BACKGROUNDTASKHOST.EXE-5CC51893.pf'\n",
      " 'OS:E:\\\\C\\\\Windows\\\\prefetch\\\\NETSH.EXE-F1B6DA12.pf'\n",
      " 'OS:E:\\\\C\\\\Windows\\\\prefetch\\\\GPUPDATE.EXE-4FFD5DFA.pf'\n",
      " 'OS:E:\\\\C\\\\Windows\\\\system32\\\\winevt\\\\logs\\\\Microsoft-Windows-SMBServer%4Connectivity.evtx'\n",
      " 'OS:E:\\\\C\\\\Windows\\\\prefetch\\\\SUBJECT_SRV.EXE-3C028E74.pf'\n",
      " 'OS:E:\\\\C\\\\Windows\\\\prefetch\\\\DLLHOST.EXE-9037274D.pf'\n",
      " 'OS:E:\\\\C\\\\Windows\\\\prefetch\\\\BYTECODEGENERATOR.EXE-292CE66A.pf'\n",
      " 'OS:E:\\\\C\\\\Windows\\\\prefetch\\\\BYTECODEGENERATOR.EXE-C1E9BCE6.pf'\n",
      " 'OS:E:\\\\C\\\\Windows\\\\prefetch\\\\ENTVUTIL.EXE-B0B13044.pf'\n",
      " 'OS:E:\\\\C\\\\Users\\\\tdungan\\\\AppData\\\\Local\\\\Microsoft\\\\Internet Explorer\\\\Recovery\\\\AutomationManager\\\\Active\\\\{47E622EC-AC5C-11E8-A902-A2C6C7001600}.dat'\n",
      " 'OS:E:\\\\C\\\\Users\\\\tdungan\\\\AppData\\\\Local\\\\Microsoft\\\\Internet Explorer\\\\Recovery\\\\AutomationManager\\\\Active\\\\RecoveryStore.{47E622E9-AC5C-11E8-A902-A2C6C7001600}.dat'\n",
      " 'OS:E:\\\\C\\\\Users\\\\tdungan\\\\AppData\\\\Local\\\\Microsoft\\\\Internet Explorer\\\\Recovery\\\\AutomationManager\\\\Active\\\\{47E622EE-AC5C-11E8-A902-A2C6C7001600}.dat'\n",
      " 'OS:E:\\\\C\\\\Windows\\\\system32\\\\config\\\\SECURITY'\n",
      " 'OS:E:\\\\C\\\\Windows\\\\prefetch\\\\HELPER.EXE-A579FEB1.pf'\n",
      " 'OS:E:\\\\C\\\\Windows\\\\prefetch\\\\SVCHOST.EXE-EEB47B6C.pf'\n",
      " 'OS:E:\\\\C\\\\Windows\\\\prefetch\\\\SVCHOST.EXE-FE99AE69.pf'\n",
      " 'OS:E:\\\\C\\\\Windows\\\\prefetch\\\\SVCHOST.EXE-70DABB16.pf'\n",
      " 'OS:E:\\\\C\\\\Windows\\\\prefetch\\\\MPCMDRUN.EXE-F401FBB4.pf'\n",
      " 'OS:E:\\\\C\\\\Windows\\\\prefetch\\\\WMIADAP.EXE-F8DFDFA2.pf'\n",
      " 'OS:E:\\\\C\\\\Windows\\\\prefetch\\\\RUNTIMEBROKER.EXE-AFF373D3.pf'\n",
      " 'OS:E:\\\\C\\\\Windows\\\\prefetch\\\\TASKKILL.EXE-E0105477.pf'\n",
      " 'OS:E:\\\\C\\\\Users\\\\tdungan\\\\AppData\\\\Local\\\\Microsoft\\\\Internet Explorer\\\\Recovery\\\\AutomationManager\\\\Active\\\\{7BA248C9-B214-11E8-A903-A2C6C7001600}.dat'\n",
      " 'OS:E:\\\\C\\\\Users\\\\tdungan\\\\AppData\\\\Local\\\\Microsoft\\\\Internet Explorer\\\\Recovery\\\\AutomationManager\\\\Active\\\\RecoveryStore.{7BA248C6-B214-11E8-A903-A2C6C7001600}.dat'\n",
      " 'OS:E:\\\\C\\\\Users\\\\tdungan\\\\AppData\\\\Local\\\\Microsoft\\\\Internet Explorer\\\\Recovery\\\\AutomationManager\\\\Active\\\\{7BA248CB-B214-11E8-A903-A2C6C7001600}.dat'\n",
      " 'OS:E:\\\\C\\\\Windows\\\\prefetch\\\\WERFAULT.EXE-E69F695A.pf'\n",
      " 'OS:E:\\\\C\\\\Windows\\\\prefetch\\\\TASKHOSTW.EXE-3E0B74C8.pf'\n",
      " 'OS:E:\\\\C\\\\Windows\\\\prefetch\\\\WINSTORE.APP.EXE-41AD0522.pf'\n",
      " 'OS:E:\\\\C\\\\Windows\\\\prefetch\\\\COREDPUSSVR.EXE-20A1061F.pf'\n",
      " 'OS:E:\\\\C\\\\Windows\\\\prefetch\\\\WSCAVEXE.EXE-C9D53C8B.pf'\n",
      " 'OS:E:\\\\C\\\\Windows\\\\prefetch\\\\SPEECHRUNTIME.EXE-22A4873B.pf'\n",
      " 'OS:E:\\\\C\\\\Windows\\\\system32\\\\winevt\\\\logs\\\\Microsoft-Windows-PushNotification-Platform%4Operational.evtx'\n",
      " 'OS:E:\\\\C\\\\Windows\\\\prefetch\\\\CONHOST.EXE-1F3E9D7E.pf'\n",
      " 'OS:E:\\\\C\\\\Users\\\\tdungan\\\\AppData\\\\Local\\\\Packages\\\\Microsoft.MicrosoftEdge_8wekyb3d8bbwe\\\\AC\\\\MicrosoftEdge\\\\User\\\\Default\\\\Recovery\\\\Active\\\\RecoveryStore.{F8FC4444-EFD8-4273-9426-3ADC85FF640A}.dat'\n",
      " 'OS:E:\\\\C\\\\Users\\\\tdungan\\\\AppData\\\\Local\\\\Packages\\\\Microsoft.MicrosoftEdge_8wekyb3d8bbwe\\\\AC\\\\MicrosoftEdge\\\\User\\\\Default\\\\Recovery\\\\Active\\\\{3E63704A-2084-4EAE-A91E-248C2A357C6D}.dat'\n",
      " 'OS:E:\\\\C\\\\Users\\\\tdungan\\\\AppData\\\\Local\\\\Packages\\\\Microsoft.MicrosoftEdge_8wekyb3d8bbwe\\\\AC\\\\MicrosoftEdge\\\\User\\\\Default\\\\Recovery\\\\Active\\\\{4E82763A-C7C0-411E-A7A8-B74EEE5C84A6}.dat'\n",
      " 'OS:E:\\\\C\\\\Users\\\\tdungan\\\\AppData\\\\Local\\\\Packages\\\\Microsoft.MicrosoftEdge_8wekyb3d8bbwe\\\\AC\\\\MicrosoftEdge\\\\User\\\\Default\\\\Recovery\\\\Active\\\\{CBA4C346-5100-4E0D-B86C-B6F67008F8B9}.dat'\n",
      " 'OS:E:\\\\C\\\\Users\\\\tdungan\\\\AppData\\\\Local\\\\Packages\\\\Microsoft.MicrosoftEdge_8wekyb3d8bbwe\\\\AC\\\\MicrosoftEdge\\\\User\\\\Default\\\\Recovery\\\\Active\\\\{21716193-0C14-4997-82BB-1756482CDCAC}.dat'\n",
      " 'OS:E:\\\\C\\\\Users\\\\tdungan\\\\AppData\\\\Local\\\\Packages\\\\Microsoft.MicrosoftEdge_8wekyb3d8bbwe\\\\AC\\\\MicrosoftEdge\\\\User\\\\Default\\\\Recovery\\\\Active\\\\{69AE2428-4E75-4572-B803-ABA5AEBA6018}.dat'\n",
      " 'OS:E:\\\\C\\\\Users\\\\tdungan\\\\AppData\\\\Local\\\\Packages\\\\Microsoft.MicrosoftEdge_8wekyb3d8bbwe\\\\AC\\\\MicrosoftEdge\\\\User\\\\Default\\\\Recovery\\\\Active\\\\{2D34AE11-682C-4D0E-8B6A-58185B5713FD}.dat'\n",
      " 'OS:E:\\\\C\\\\Users\\\\tdungan\\\\AppData\\\\Local\\\\Packages\\\\Microsoft.MicrosoftEdge_8wekyb3d8bbwe\\\\AC\\\\MicrosoftEdge\\\\User\\\\Default\\\\Recovery\\\\Active\\\\{BF509301-BF55-4F20-B503-82038EF1D5AA}.dat'\n",
      " 'OS:E:\\\\C\\\\Users\\\\tdungan\\\\AppData\\\\Local\\\\Packages\\\\Microsoft.MicrosoftEdge_8wekyb3d8bbwe\\\\AC\\\\MicrosoftEdge\\\\User\\\\Default\\\\Recovery\\\\Active\\\\{D3CE4FAF-FC51-42FF-AA8D-1E6604BBC46B}.dat'\n",
      " 'OS:E:\\\\C\\\\Windows\\\\prefetch\\\\SEARCHPROTOCOLHOST.EXE-0CB8CADE.pf'\n",
      " 'OS:E:\\\\C\\\\Windows\\\\prefetch\\\\SEARCHFILTERHOST.EXE-77482212.pf'\n",
      " 'OS:E:\\\\C\\\\Windows\\\\prefetch\\\\SCAN64.EXE-F279AE0E.pf'\n",
      " 'OS:E:\\\\C\\\\Windows\\\\prefetch\\\\SVCHOST.EXE-BDAD81B1.pf'] \n",
      "\n",
      "filename has  387  unique values\n",
      "\n",
      "inode has unique values\n",
      " [     0  59617  13553 ... 199470  39302  21832] \n",
      "\n",
      "inode has  7069  unique values\n",
      "\n",
      "notes has unique values\n",
      " ['-'] \n",
      "\n",
      "notes has  1  unique values\n",
      "\n",
      "format has unique values\n",
      " ['winevtx' 'sqlite/chrome_cookies' 'prefetch' 'mactime'\n",
      " 'winreg/winreg_default' 'winreg/appcompatcache' 'chrome_cache' 'pe'\n",
      " 'olecf/olecf_automatic_destinations/lnk' 'custom_destinations/lnk'\n",
      " 'custom_destinations/lnk/shell_items'\n",
      " 'olecf/olecf_automatic_destinations/lnk/shell_items' 'lnk/shell_items'\n",
      " 'winreg/bagmru/shell_items' 'winreg/msie_zone'\n",
      " 'winreg/windows_task_cache' 'olecf/olecf_automatic_destinations' 'lnk'\n",
      " 'sqlite/chrome_27_history' 'winreg/bagmru'\n",
      " 'winreg/mrulistex_shell_item_list/shell_items' 'chrome_preferences'\n",
      " 'winreg/mrulistex_shell_item_list' 'olecf/olecf_default'\n",
      " 'winreg/mrulistex_string_and_shell_item' 'winreg/mrulistex_string'\n",
      " 'winreg/userassist' 'openxml'\n",
      " 'winreg/mrulistex_string_and_shell_item_list' 'winreg/network_drives'\n",
      " 'winreg/explorer_mountpoints2' 'winreg/explorer_programscache'\n",
      " 'winreg/windows_typed_urls' 'winreg/windows_run' 'winreg/mrulist_string'\n",
      " 'winreg/windows_services' 'winreg/mstsc_rdp' 'winreg/mstsc_rdp_mru'\n",
      " 'recycle_bin' 'winreg/networks' 'winreg/windows_shutdown'\n",
      " 'winreg/windows_boot_execute' 'winreg/windows_version' 'winreg/winlogon'] \n",
      "\n",
      "format has  44  unique values\n",
      "\n"
     ]
    },
    {
     "name": "stdout",
     "output_type": "stream",
     "text": [
      "extra has unique values\n",
      " ['recovered: False; sha256_hash: cde410aa7b94ef1002200c891682572d7cdc5edc6fd6e6182708447e8c3c1950; strings_parsed: {}; user_sid: S-1-5-18; xml_string: <Event xmlns=\"http://schemas.microsoft.com/win/2004/08/events/event\">-  <System>-    <Provider Name=\"Microsoft-Windows-TaskScheduler\" Guid=\"{DE7B24EA-73C8-4A09-985D-5BDADCFA9017}\"/>-    <EventID>107</EventID>-    <Version>0</Version>-    <Level>4</Level>-    <Task>107</Task>-    <Opcode>0</Opcode>-    <Keywords>0x8000000000000000</Keywords>-    <TimeCreated SystemTime=\"2018-08-23T00:01:01.046364200Z\"/>-    <EventRecordID>187435</EventRecordID>-    <Correlation ActivityID=\"{6C43A72F-4B21-4071-B619-CE26EF192DC1}\"/>-    <Execution ProcessID=\"1484\" ThreadID=\"1816\"/>-    <Channel>Microsoft-Windows-TaskScheduler/Operational</Channel>-    <Computer>base-rd-01.shieldbase.lan</Computer>-    <Security UserID=\"S-1-5-18\"/>-  </System>-  <EventData Name=\"TimeTriggerEvent\">-    <Data Name=\"TaskName\">\\\\Microsoft\\\\Windows\\\\Windows Error Reporting\\\\QueueReporting</Data>-    <Data Name=\"InstanceId\">{6C43A72F-4B21-4071-B619-CE26EF192DC1}</Data>-  </EventData>-</Event>-'\n",
      " 'recovered: False; sha256_hash: cde410aa7b94ef1002200c891682572d7cdc5edc6fd6e6182708447e8c3c1950; strings_parsed: {}; user_sid: S-1-5-18; xml_string: <Event xmlns=\"http://schemas.microsoft.com/win/2004/08/events/event\">-  <System>-    <Provider Name=\"Microsoft-Windows-TaskScheduler\" Guid=\"{DE7B24EA-73C8-4A09-985D-5BDADCFA9017}\"/>-    <EventID>129</EventID>-    <Version>0</Version>-    <Level>4</Level>-    <Task>129</Task>-    <Opcode>0</Opcode>-    <Keywords>0x8000000000000000</Keywords>-    <TimeCreated SystemTime=\"2018-08-23T00:01:01.055034500Z\"/>-    <EventRecordID>187436</EventRecordID>-    <Correlation/>-    <Execution ProcessID=\"1484\" ThreadID=\"1816\"/>-    <Channel>Microsoft-Windows-TaskScheduler/Operational</Channel>-    <Computer>base-rd-01.shieldbase.lan</Computer>-    <Security UserID=\"S-1-5-18\"/>-  </System>-  <EventData Name=\"CreatedTaskProcess\">-    <Data Name=\"TaskName\">\\\\Microsoft\\\\Windows\\\\Windows Error Reporting\\\\QueueReporting</Data>-    <Data Name=\"Path\">%windir%\\\\system32\\\\wermgr.exe</Data>-    <Data Name=\"ProcessID\">6788</Data>-    <Data Name=\"Priority\">16384</Data>-  </EventData>-</Event>-'\n",
      " 'recovered: False; sha256_hash: cde410aa7b94ef1002200c891682572d7cdc5edc6fd6e6182708447e8c3c1950; strings_parsed: {}; user_sid: S-1-5-18; xml_string: <Event xmlns=\"http://schemas.microsoft.com/win/2004/08/events/event\">-  <System>-    <Provider Name=\"Microsoft-Windows-TaskScheduler\" Guid=\"{DE7B24EA-73C8-4A09-985D-5BDADCFA9017}\"/>-    <EventID>100</EventID>-    <Version>0</Version>-    <Level>4</Level>-    <Task>100</Task>-    <Opcode>1</Opcode>-    <Keywords>0x8000000000000001</Keywords>-    <TimeCreated SystemTime=\"2018-08-23T00:01:01.055554600Z\"/>-    <EventRecordID>187437</EventRecordID>-    <Correlation ActivityID=\"{6C43A72F-4B21-4071-B619-CE26EF192DC1}\"/>-    <Execution ProcessID=\"1484\" ThreadID=\"1816\"/>-    <Channel>Microsoft-Windows-TaskScheduler/Operational</Channel>-    <Computer>base-rd-01.shieldbase.lan</Computer>-    <Security UserID=\"S-1-5-18\"/>-  </System>-  <EventData Name=\"TaskStartEvent\">-    <Data Name=\"TaskName\">\\\\Microsoft\\\\Windows\\\\Windows Error Reporting\\\\QueueReporting</Data>-    <Data Name=\"UserContext\">NT AUTHORITY\\\\SYSTEM</Data>-    <Data Name=\"InstanceId\">{6C43A72F-4B21-4071-B619-CE26EF192DC1}</Data>-  </EventData>-</Event>-'\n",
      " ...\n",
      " 'recovered: False; sha256_hash: 6807dc60332085a5d639cd2794805bec0cd6ba124086906e35a47db76d8c9d80; strings_parsed: {}; user_sid: S-1-5-20; xml_string: <Event xmlns=\"http://schemas.microsoft.com/win/2004/08/events/event\">-  <System>-    <Provider Name=\"Microsoft-Windows-WinRM\" Guid=\"{A7975C8F-AC13-49F1-87DA-5A984A4AB417}\"/>-    <EventID>145</EventID>-    <Version>0</Version>-    <Level>4</Level>-    <Task>5</Task>-    <Opcode>1</Opcode>-    <Keywords>0x4000000000000002</Keywords>-    <TimeCreated SystemTime=\"2018-09-06T23:59:03.725707300Z\"/>-    <EventRecordID>287144</EventRecordID>-    <Correlation ActivityID=\"{C5DB660D-461F-0000-7D67-DBC51F46D401}\"/>-    <Execution ProcessID=\"1200\" ThreadID=\"1664\"/>-    <Channel>Microsoft-Windows-WinRM/Operational</Channel>-    <Computer>base-rd-01.shieldbase.lan</Computer>-    <Security UserID=\"S-1-5-20\"/>-  </System>-  <EventData>-    <Data Name=\"operationName\">Enumeration</Data>-    <Data Name=\"resourceUri\">http://schemas.microsoft.com/wbem/wsman/1/SubscriptionManager/Subscription</Data>-  </EventData>-</Event>-'\n",
      " 'recovered: False; sha256_hash: 6807dc60332085a5d639cd2794805bec0cd6ba124086906e35a47db76d8c9d80; strings_parsed: {}; user_sid: S-1-5-20; xml_string: <Event xmlns=\"http://schemas.microsoft.com/win/2004/08/events/event\">-  <System>-    <Provider Name=\"Microsoft-Windows-WinRM\" Guid=\"{A7975C8F-AC13-49F1-87DA-5A984A4AB417}\"/>-    <EventID>132</EventID>-    <Version>0</Version>-    <Level>4</Level>-    <Task>10</Task>-    <Opcode>2</Opcode>-    <Keywords>0x4000000000000002</Keywords>-    <TimeCreated SystemTime=\"2018-09-06T23:59:03.738785300Z\"/>-    <EventRecordID>287145</EventRecordID>-    <Correlation ActivityID=\"{C5DB660D-461F-0000-7D67-DBC51F46D401}\"/>-    <Execution ProcessID=\"1200\" ThreadID=\"1712\"/>-    <Channel>Microsoft-Windows-WinRM/Operational</Channel>-    <Computer>base-rd-01.shieldbase.lan</Computer>-    <Security UserID=\"S-1-5-20\"/>-  </System>-  <EventData>-    <Data Name=\"operationName\">Enumeration</Data>-  </EventData>-</Event>-'\n",
      " 'recovered: False; sha256_hash: 14f3fb53ec0b7dedfc94a127fef6da8961ae199f966d13d507237672f2338693; strings_parsed: {}; user_sid: S-1-5-19; xml_string: <Event xmlns=\"http://schemas.microsoft.com/win/2004/08/events/event\">-  <System>-    <Provider Name=\"Microsoft-Windows-WMI-Activity\" Guid=\"{1418EF04-B0B4-4623-BF7E-D74AB47BBDAA}\"/>-    <EventID>5857</EventID>-    <Version>0</Version>-    <Level>0</Level>-    <Task>0</Task>-    <Opcode>0</Opcode>-    <Keywords>0x4000000000000000</Keywords>-    <TimeCreated SystemTime=\"2018-09-06T23:59:15.419443800Z\"/>-    <EventRecordID>18017</EventRecordID>-    <Correlation/>-    <Execution ProcessID=\"5052\" ThreadID=\"3592\"/>-    <Channel>Microsoft-Windows-WMI-Activity/Operational</Channel>-    <Computer>base-rd-01.shieldbase.lan</Computer>-    <Security UserID=\"S-1-5-19\"/>-  </System>-  <UserData>-    <Operation_StartedOperational xmlns=\"http://manifests.microsoft.com/win/2006/windows/WMI\">-      <ProviderName>WmiPerfInst</ProviderName>-      <Code>0x00000000</Code>-      <HostProcess>wmiprvse.exe</HostProcess>-      <ProcessID>5052</ProcessID>-      <ProviderPath>C:\\\\Windows\\\\System32\\\\wbem\\\\WmiPerfInst.dll</ProviderPath>-    </Operation_StartedOperational>-  </UserData>-</Event>-'] \n",
      "\n",
      "extra has  157205  unique values\n",
      "\n"
     ]
    }
   ],
   "source": [
    "for column in df:\n",
    "    print(column, \"has unique values\\n\", df[column].unique(), \"\\n\")\n",
    "    print(column, \"has \", df[column].nunique(), \" unique values\\n\")"
   ]
  },
  {
   "cell_type": "markdown",
   "id": "explicit-volume",
   "metadata": {},
   "source": [
    "Drop the columns that don't have interesting stuff - have a quick look first."
   ]
  },
  {
   "cell_type": "code",
   "execution_count": 10,
   "id": "selective-horizon",
   "metadata": {},
   "outputs": [
    {
     "name": "stdout",
     "output_type": "stream",
     "text": [
      "timezone\n",
      "user\n",
      "version\n",
      "notes\n"
     ]
    },
    {
     "data": {
      "text/html": [
       "<div>\n",
       "<style scoped>\n",
       "    .dataframe tbody tr th:only-of-type {\n",
       "        vertical-align: middle;\n",
       "    }\n",
       "\n",
       "    .dataframe tbody tr th {\n",
       "        vertical-align: top;\n",
       "    }\n",
       "\n",
       "    .dataframe thead th {\n",
       "        text-align: right;\n",
       "    }\n",
       "</style>\n",
       "<table border=\"1\" class=\"dataframe\">\n",
       "  <thead>\n",
       "    <tr style=\"text-align: right;\">\n",
       "      <th></th>\n",
       "      <th>timezone</th>\n",
       "      <th>user</th>\n",
       "      <th>version</th>\n",
       "      <th>notes</th>\n",
       "    </tr>\n",
       "  </thead>\n",
       "  <tbody>\n",
       "    <tr>\n",
       "      <th>0</th>\n",
       "      <td>UTC</td>\n",
       "      <td>-</td>\n",
       "      <td>2</td>\n",
       "      <td>-</td>\n",
       "    </tr>\n",
       "    <tr>\n",
       "      <th>1</th>\n",
       "      <td>UTC</td>\n",
       "      <td>-</td>\n",
       "      <td>2</td>\n",
       "      <td>-</td>\n",
       "    </tr>\n",
       "    <tr>\n",
       "      <th>2</th>\n",
       "      <td>UTC</td>\n",
       "      <td>-</td>\n",
       "      <td>2</td>\n",
       "      <td>-</td>\n",
       "    </tr>\n",
       "    <tr>\n",
       "      <th>3</th>\n",
       "      <td>UTC</td>\n",
       "      <td>-</td>\n",
       "      <td>2</td>\n",
       "      <td>-</td>\n",
       "    </tr>\n",
       "    <tr>\n",
       "      <th>4</th>\n",
       "      <td>UTC</td>\n",
       "      <td>-</td>\n",
       "      <td>2</td>\n",
       "      <td>-</td>\n",
       "    </tr>\n",
       "  </tbody>\n",
       "</table>\n",
       "</div>"
      ],
      "text/plain": [
       "  timezone user  version notes\n",
       "0      UTC    -        2     -\n",
       "1      UTC    -        2     -\n",
       "2      UTC    -        2     -\n",
       "3      UTC    -        2     -\n",
       "4      UTC    -        2     -"
      ]
     },
     "execution_count": 10,
     "metadata": {},
     "output_type": "execute_result"
    }
   ],
   "source": [
    "todrop=[]\n",
    "for column in df:\n",
    "    if (df[column].nunique() == 1):\n",
    "        print(column)\n",
    "        todrop.append(column)\n",
    "df[todrop].head()\n",
    "\n",
    "        "
   ]
  },
  {
   "cell_type": "code",
   "execution_count": 11,
   "id": "vietnamese-fancy",
   "metadata": {},
   "outputs": [
    {
     "data": {
      "text/html": [
       "<div>\n",
       "<style scoped>\n",
       "    .dataframe tbody tr th:only-of-type {\n",
       "        vertical-align: middle;\n",
       "    }\n",
       "\n",
       "    .dataframe tbody tr th {\n",
       "        vertical-align: top;\n",
       "    }\n",
       "\n",
       "    .dataframe thead th {\n",
       "        text-align: right;\n",
       "    }\n",
       "</style>\n",
       "<table border=\"1\" class=\"dataframe\">\n",
       "  <thead>\n",
       "    <tr style=\"text-align: right;\">\n",
       "      <th></th>\n",
       "      <th>date</th>\n",
       "      <th>time</th>\n",
       "      <th>MACB</th>\n",
       "      <th>source</th>\n",
       "      <th>sourcetype</th>\n",
       "      <th>type</th>\n",
       "      <th>host</th>\n",
       "      <th>short</th>\n",
       "      <th>desc</th>\n",
       "      <th>filename</th>\n",
       "      <th>inode</th>\n",
       "      <th>format</th>\n",
       "      <th>extra</th>\n",
       "    </tr>\n",
       "  </thead>\n",
       "  <tbody>\n",
       "    <tr>\n",
       "      <th>0</th>\n",
       "      <td>08/23/2018</td>\n",
       "      <td>00:01:01</td>\n",
       "      <td>M...</td>\n",
       "      <td>EVT</td>\n",
       "      <td>WinEVTX</td>\n",
       "      <td>Content Modification Time</td>\n",
       "      <td>-</td>\n",
       "      <td>[107 / 0x006b] Strings: ['\\Microsoft\\Windows\\W...</td>\n",
       "      <td>[107 / 0x006b] Source Name: Microsoft-Windows-...</td>\n",
       "      <td>OS:E:\\C\\Windows\\system32\\winevt\\logs\\Microsoft...</td>\n",
       "      <td>0</td>\n",
       "      <td>winevtx</td>\n",
       "      <td>recovered: False; sha256_hash: cde410aa7b94ef1...</td>\n",
       "    </tr>\n",
       "    <tr>\n",
       "      <th>1</th>\n",
       "      <td>08/23/2018</td>\n",
       "      <td>00:01:01</td>\n",
       "      <td>M...</td>\n",
       "      <td>EVT</td>\n",
       "      <td>WinEVTX</td>\n",
       "      <td>Content Modification Time</td>\n",
       "      <td>-</td>\n",
       "      <td>[129 / 0x0081] Strings: ['\\Microsoft\\Windows\\W...</td>\n",
       "      <td>[129 / 0x0081] Source Name: Microsoft-Windows-...</td>\n",
       "      <td>OS:E:\\C\\Windows\\system32\\winevt\\logs\\Microsoft...</td>\n",
       "      <td>0</td>\n",
       "      <td>winevtx</td>\n",
       "      <td>recovered: False; sha256_hash: cde410aa7b94ef1...</td>\n",
       "    </tr>\n",
       "    <tr>\n",
       "      <th>2</th>\n",
       "      <td>08/23/2018</td>\n",
       "      <td>00:01:01</td>\n",
       "      <td>M...</td>\n",
       "      <td>EVT</td>\n",
       "      <td>WinEVTX</td>\n",
       "      <td>Content Modification Time</td>\n",
       "      <td>-</td>\n",
       "      <td>[100 / 0x0064] Strings: ['\\Microsoft\\Windows\\W...</td>\n",
       "      <td>[100 / 0x0064] Source Name: Microsoft-Windows-...</td>\n",
       "      <td>OS:E:\\C\\Windows\\system32\\winevt\\logs\\Microsoft...</td>\n",
       "      <td>0</td>\n",
       "      <td>winevtx</td>\n",
       "      <td>recovered: False; sha256_hash: cde410aa7b94ef1...</td>\n",
       "    </tr>\n",
       "    <tr>\n",
       "      <th>3</th>\n",
       "      <td>08/23/2018</td>\n",
       "      <td>00:01:01</td>\n",
       "      <td>M...</td>\n",
       "      <td>EVT</td>\n",
       "      <td>WinEVTX</td>\n",
       "      <td>Content Modification Time</td>\n",
       "      <td>-</td>\n",
       "      <td>[200 / 0x00c8] Strings: ['\\Microsoft\\Windows\\W...</td>\n",
       "      <td>[200 / 0x00c8] Source Name: Microsoft-Windows-...</td>\n",
       "      <td>OS:E:\\C\\Windows\\system32\\winevt\\logs\\Microsoft...</td>\n",
       "      <td>0</td>\n",
       "      <td>winevtx</td>\n",
       "      <td>recovered: False; sha256_hash: cde410aa7b94ef1...</td>\n",
       "    </tr>\n",
       "    <tr>\n",
       "      <th>4</th>\n",
       "      <td>08/23/2018</td>\n",
       "      <td>00:01:13</td>\n",
       "      <td>M...</td>\n",
       "      <td>EVT</td>\n",
       "      <td>WinEVTX</td>\n",
       "      <td>Content Modification Time</td>\n",
       "      <td>-</td>\n",
       "      <td>[140 / 0x008c] Strings: ['\\Microsoft\\Windows\\W...</td>\n",
       "      <td>[140 / 0x008c] Source Name: Microsoft-Windows-...</td>\n",
       "      <td>OS:E:\\C\\Windows\\system32\\winevt\\logs\\Microsoft...</td>\n",
       "      <td>0</td>\n",
       "      <td>winevtx</td>\n",
       "      <td>recovered: False; sha256_hash: cde410aa7b94ef1...</td>\n",
       "    </tr>\n",
       "    <tr>\n",
       "      <th>...</th>\n",
       "      <td>...</td>\n",
       "      <td>...</td>\n",
       "      <td>...</td>\n",
       "      <td>...</td>\n",
       "      <td>...</td>\n",
       "      <td>...</td>\n",
       "      <td>...</td>\n",
       "      <td>...</td>\n",
       "      <td>...</td>\n",
       "      <td>...</td>\n",
       "      <td>...</td>\n",
       "      <td>...</td>\n",
       "      <td>...</td>\n",
       "    </tr>\n",
       "    <tr>\n",
       "      <th>185161</th>\n",
       "      <td>09/06/2018</td>\n",
       "      <td>23:58:34</td>\n",
       "      <td>M...</td>\n",
       "      <td>EVT</td>\n",
       "      <td>WinEVTX</td>\n",
       "      <td>Content Modification Time</td>\n",
       "      <td>-</td>\n",
       "      <td>[1223 / 0x04c7] Strings: ['BND'  '3'  'CON\\QOS...</td>\n",
       "      <td>[1223 / 0x04c7] Source Name: Microsoft-Windows...</td>\n",
       "      <td>OS:E:\\C\\Windows\\system32\\winevt\\logs\\Microsoft...</td>\n",
       "      <td>0</td>\n",
       "      <td>winevtx</td>\n",
       "      <td>recovered: False; sha256_hash: a677ac5be58f722...</td>\n",
       "    </tr>\n",
       "    <tr>\n",
       "      <th>185162</th>\n",
       "      <td>09/06/2018</td>\n",
       "      <td>23:58:34</td>\n",
       "      <td>M...</td>\n",
       "      <td>EVT</td>\n",
       "      <td>WinEVTX</td>\n",
       "      <td>Content Modification Time</td>\n",
       "      <td>-</td>\n",
       "      <td>[1267 / 0x04f3] Strings: ['BND'  '3'  'CON\\QOS...</td>\n",
       "      <td>[1267 / 0x04f3] Source Name: Microsoft-Windows...</td>\n",
       "      <td>OS:E:\\C\\Windows\\system32\\winevt\\logs\\Microsoft...</td>\n",
       "      <td>0</td>\n",
       "      <td>winevtx</td>\n",
       "      <td>recovered: False; sha256_hash: a677ac5be58f722...</td>\n",
       "    </tr>\n",
       "    <tr>\n",
       "      <th>185163</th>\n",
       "      <td>09/06/2018</td>\n",
       "      <td>23:59:03</td>\n",
       "      <td>M...</td>\n",
       "      <td>EVT</td>\n",
       "      <td>WinEVTX</td>\n",
       "      <td>Content Modification Time</td>\n",
       "      <td>-</td>\n",
       "      <td>[145 / 0x0091] Strings: ['Enumeration'  'http:...</td>\n",
       "      <td>[145 / 0x0091] Source Name: Microsoft-Windows-...</td>\n",
       "      <td>OS:E:\\C\\Windows\\system32\\winevt\\logs\\Microsoft...</td>\n",
       "      <td>0</td>\n",
       "      <td>winevtx</td>\n",
       "      <td>recovered: False; sha256_hash: 6807dc60332085a...</td>\n",
       "    </tr>\n",
       "    <tr>\n",
       "      <th>185164</th>\n",
       "      <td>09/06/2018</td>\n",
       "      <td>23:59:03</td>\n",
       "      <td>M...</td>\n",
       "      <td>EVT</td>\n",
       "      <td>WinEVTX</td>\n",
       "      <td>Content Modification Time</td>\n",
       "      <td>-</td>\n",
       "      <td>[132 / 0x0084] Strings: ['Enumeration']</td>\n",
       "      <td>[132 / 0x0084] Source Name: Microsoft-Windows-...</td>\n",
       "      <td>OS:E:\\C\\Windows\\system32\\winevt\\logs\\Microsoft...</td>\n",
       "      <td>0</td>\n",
       "      <td>winevtx</td>\n",
       "      <td>recovered: False; sha256_hash: 6807dc60332085a...</td>\n",
       "    </tr>\n",
       "    <tr>\n",
       "      <th>185165</th>\n",
       "      <td>09/06/2018</td>\n",
       "      <td>23:59:15</td>\n",
       "      <td>M...</td>\n",
       "      <td>EVT</td>\n",
       "      <td>WinEVTX</td>\n",
       "      <td>Content Modification Time</td>\n",
       "      <td>-</td>\n",
       "      <td>[5857 / 0x16e1] Strings: ['WmiPerfInst'  '0x00...</td>\n",
       "      <td>[5857 / 0x16e1] Source Name: Microsoft-Windows...</td>\n",
       "      <td>OS:E:\\C\\Windows\\system32\\winevt\\logs\\Microsoft...</td>\n",
       "      <td>0</td>\n",
       "      <td>winevtx</td>\n",
       "      <td>recovered: False; sha256_hash: 14f3fb53ec0b7de...</td>\n",
       "    </tr>\n",
       "  </tbody>\n",
       "</table>\n",
       "<p>185166 rows × 13 columns</p>\n",
       "</div>"
      ],
      "text/plain": [
       "              date      time  MACB source sourcetype  \\\n",
       "0       08/23/2018  00:01:01  M...    EVT    WinEVTX   \n",
       "1       08/23/2018  00:01:01  M...    EVT    WinEVTX   \n",
       "2       08/23/2018  00:01:01  M...    EVT    WinEVTX   \n",
       "3       08/23/2018  00:01:01  M...    EVT    WinEVTX   \n",
       "4       08/23/2018  00:01:13  M...    EVT    WinEVTX   \n",
       "...            ...       ...   ...    ...        ...   \n",
       "185161  09/06/2018  23:58:34  M...    EVT    WinEVTX   \n",
       "185162  09/06/2018  23:58:34  M...    EVT    WinEVTX   \n",
       "185163  09/06/2018  23:59:03  M...    EVT    WinEVTX   \n",
       "185164  09/06/2018  23:59:03  M...    EVT    WinEVTX   \n",
       "185165  09/06/2018  23:59:15  M...    EVT    WinEVTX   \n",
       "\n",
       "                             type host  \\\n",
       "0       Content Modification Time    -   \n",
       "1       Content Modification Time    -   \n",
       "2       Content Modification Time    -   \n",
       "3       Content Modification Time    -   \n",
       "4       Content Modification Time    -   \n",
       "...                           ...  ...   \n",
       "185161  Content Modification Time    -   \n",
       "185162  Content Modification Time    -   \n",
       "185163  Content Modification Time    -   \n",
       "185164  Content Modification Time    -   \n",
       "185165  Content Modification Time    -   \n",
       "\n",
       "                                                    short  \\\n",
       "0       [107 / 0x006b] Strings: ['\\Microsoft\\Windows\\W...   \n",
       "1       [129 / 0x0081] Strings: ['\\Microsoft\\Windows\\W...   \n",
       "2       [100 / 0x0064] Strings: ['\\Microsoft\\Windows\\W...   \n",
       "3       [200 / 0x00c8] Strings: ['\\Microsoft\\Windows\\W...   \n",
       "4       [140 / 0x008c] Strings: ['\\Microsoft\\Windows\\W...   \n",
       "...                                                   ...   \n",
       "185161  [1223 / 0x04c7] Strings: ['BND'  '3'  'CON\\QOS...   \n",
       "185162  [1267 / 0x04f3] Strings: ['BND'  '3'  'CON\\QOS...   \n",
       "185163  [145 / 0x0091] Strings: ['Enumeration'  'http:...   \n",
       "185164            [132 / 0x0084] Strings: ['Enumeration']   \n",
       "185165  [5857 / 0x16e1] Strings: ['WmiPerfInst'  '0x00...   \n",
       "\n",
       "                                                     desc  \\\n",
       "0       [107 / 0x006b] Source Name: Microsoft-Windows-...   \n",
       "1       [129 / 0x0081] Source Name: Microsoft-Windows-...   \n",
       "2       [100 / 0x0064] Source Name: Microsoft-Windows-...   \n",
       "3       [200 / 0x00c8] Source Name: Microsoft-Windows-...   \n",
       "4       [140 / 0x008c] Source Name: Microsoft-Windows-...   \n",
       "...                                                   ...   \n",
       "185161  [1223 / 0x04c7] Source Name: Microsoft-Windows...   \n",
       "185162  [1267 / 0x04f3] Source Name: Microsoft-Windows...   \n",
       "185163  [145 / 0x0091] Source Name: Microsoft-Windows-...   \n",
       "185164  [132 / 0x0084] Source Name: Microsoft-Windows-...   \n",
       "185165  [5857 / 0x16e1] Source Name: Microsoft-Windows...   \n",
       "\n",
       "                                                 filename  inode   format  \\\n",
       "0       OS:E:\\C\\Windows\\system32\\winevt\\logs\\Microsoft...      0  winevtx   \n",
       "1       OS:E:\\C\\Windows\\system32\\winevt\\logs\\Microsoft...      0  winevtx   \n",
       "2       OS:E:\\C\\Windows\\system32\\winevt\\logs\\Microsoft...      0  winevtx   \n",
       "3       OS:E:\\C\\Windows\\system32\\winevt\\logs\\Microsoft...      0  winevtx   \n",
       "4       OS:E:\\C\\Windows\\system32\\winevt\\logs\\Microsoft...      0  winevtx   \n",
       "...                                                   ...    ...      ...   \n",
       "185161  OS:E:\\C\\Windows\\system32\\winevt\\logs\\Microsoft...      0  winevtx   \n",
       "185162  OS:E:\\C\\Windows\\system32\\winevt\\logs\\Microsoft...      0  winevtx   \n",
       "185163  OS:E:\\C\\Windows\\system32\\winevt\\logs\\Microsoft...      0  winevtx   \n",
       "185164  OS:E:\\C\\Windows\\system32\\winevt\\logs\\Microsoft...      0  winevtx   \n",
       "185165  OS:E:\\C\\Windows\\system32\\winevt\\logs\\Microsoft...      0  winevtx   \n",
       "\n",
       "                                                    extra  \n",
       "0       recovered: False; sha256_hash: cde410aa7b94ef1...  \n",
       "1       recovered: False; sha256_hash: cde410aa7b94ef1...  \n",
       "2       recovered: False; sha256_hash: cde410aa7b94ef1...  \n",
       "3       recovered: False; sha256_hash: cde410aa7b94ef1...  \n",
       "4       recovered: False; sha256_hash: cde410aa7b94ef1...  \n",
       "...                                                   ...  \n",
       "185161  recovered: False; sha256_hash: a677ac5be58f722...  \n",
       "185162  recovered: False; sha256_hash: a677ac5be58f722...  \n",
       "185163  recovered: False; sha256_hash: 6807dc60332085a...  \n",
       "185164  recovered: False; sha256_hash: 6807dc60332085a...  \n",
       "185165  recovered: False; sha256_hash: 14f3fb53ec0b7de...  \n",
       "\n",
       "[185166 rows x 13 columns]"
      ]
     },
     "execution_count": 11,
     "metadata": {},
     "output_type": "execute_result"
    }
   ],
   "source": [
    "for column in df:\n",
    "    if (df[column].nunique() == 1):\n",
    "        df.drop(column,axis=1, inplace =True)\n",
    "        \n",
    "df"
   ]
  },
  {
   "cell_type": "markdown",
   "id": "creative-investing",
   "metadata": {},
   "source": [
    "check the shape again"
   ]
  },
  {
   "cell_type": "code",
   "execution_count": 12,
   "id": "alpine-anthony",
   "metadata": {},
   "outputs": [
    {
     "data": {
      "text/plain": [
       "(185166, 13)"
      ]
     },
     "execution_count": 12,
     "metadata": {},
     "output_type": "execute_result"
    }
   ],
   "source": [
    "df.shape # cols are now 13"
   ]
  },
  {
   "cell_type": "markdown",
   "id": "chinese-bubble",
   "metadata": {},
   "source": [
    "### Date"
   ]
  },
  {
   "cell_type": "code",
   "execution_count": 13,
   "id": "elect-original",
   "metadata": {},
   "outputs": [
    {
     "name": "stdout",
     "output_type": "stream",
     "text": [
      "['08/23/2018' '08/24/2018' '08/25/2018' '08/26/2018' '08/27/2018'\n",
      " '08/28/2018' '08/29/2018' '08/30/2018' '08/31/2018' '09/01/2018'\n",
      " '09/02/2018' '09/03/2018' '09/04/2018' '09/05/2018' '09/06/2018']\n",
      "15\n"
     ]
    }
   ],
   "source": [
    "#recap\n",
    "print(df['date'].unique())\n",
    "print(df['date'].nunique())"
   ]
  },
  {
   "cell_type": "markdown",
   "id": "ideal-rapid",
   "metadata": {},
   "source": [
    "All 15 dates are in August and September 2018. "
   ]
  },
  {
   "cell_type": "markdown",
   "id": "taken-market",
   "metadata": {},
   "source": [
    "### Time"
   ]
  },
  {
   "cell_type": "code",
   "execution_count": 14,
   "id": "detailed-receipt",
   "metadata": {},
   "outputs": [
    {
     "name": "stdout",
     "output_type": "stream",
     "text": [
      "['00:01:01' '00:01:13' '00:03:22' ... '23:58:32' '23:59:03' '23:59:15']\n",
      "34868\n"
     ]
    }
   ],
   "source": [
    "#recap\n",
    "print(df['time'].unique())\n",
    "print(df['time'].nunique())"
   ]
  },
  {
   "cell_type": "markdown",
   "id": "dependent-renewal",
   "metadata": {},
   "source": [
    "wide range of time values (34868 of them). 24 hour clock used and seconds recorded."
   ]
  },
  {
   "cell_type": "markdown",
   "id": "agricultural-functionality",
   "metadata": {},
   "source": [
    "Date and time should be in datetime format so join them"
   ]
  },
  {
   "cell_type": "markdown",
   "id": "reduced-topic",
   "metadata": {},
   "source": [
    "### Make datetime"
   ]
  },
  {
   "cell_type": "code",
   "execution_count": 15,
   "id": "younger-dylan",
   "metadata": {},
   "outputs": [
    {
     "data": {
      "text/plain": [
       "0         08/23/2018/00:01:01\n",
       "1         08/23/2018/00:01:01\n",
       "2         08/23/2018/00:01:01\n",
       "3         08/23/2018/00:01:01\n",
       "4         08/23/2018/00:01:13\n",
       "                 ...         \n",
       "185161    09/06/2018/23:58:34\n",
       "185162    09/06/2018/23:58:34\n",
       "185163    09/06/2018/23:59:03\n",
       "185164    09/06/2018/23:59:03\n",
       "185165    09/06/2018/23:59:15\n",
       "Name: datetime, Length: 185166, dtype: object"
      ]
     },
     "execution_count": 15,
     "metadata": {},
     "output_type": "execute_result"
    }
   ],
   "source": [
    "df['datetime'] = df['date']+\"/\"+df['time']\n",
    "df['datetime']"
   ]
  },
  {
   "cell_type": "code",
   "execution_count": 16,
   "id": "motivated-judges",
   "metadata": {},
   "outputs": [],
   "source": [
    "df['datetime'] = pd.to_datetime(df['datetime'], format=\"%m/%d/%Y/%H:%M:%S\") # format is mm/dd/yyyy/hh:mm:ss"
   ]
  },
  {
   "cell_type": "code",
   "execution_count": 17,
   "id": "charitable-christian",
   "metadata": {},
   "outputs": [
    {
     "data": {
      "text/plain": [
       "0        2018-08-23 00:01:01\n",
       "1        2018-08-23 00:01:01\n",
       "2        2018-08-23 00:01:01\n",
       "3        2018-08-23 00:01:01\n",
       "4        2018-08-23 00:01:13\n",
       "                 ...        \n",
       "185161   2018-09-06 23:58:34\n",
       "185162   2018-09-06 23:58:34\n",
       "185163   2018-09-06 23:59:03\n",
       "185164   2018-09-06 23:59:03\n",
       "185165   2018-09-06 23:59:15\n",
       "Name: datetime, Length: 185166, dtype: datetime64[ns]"
      ]
     },
     "execution_count": 17,
     "metadata": {},
     "output_type": "execute_result"
    }
   ],
   "source": [
    "df['datetime'] # now in datetime format"
   ]
  },
  {
   "cell_type": "code",
   "execution_count": 18,
   "id": "restricted-malta",
   "metadata": {},
   "outputs": [
    {
     "data": {
      "text/plain": [
       "Timestamp('2018-08-23 00:01:01')"
      ]
     },
     "execution_count": 18,
     "metadata": {},
     "output_type": "execute_result"
    }
   ],
   "source": [
    "df['datetime'].min() # earliest time"
   ]
  },
  {
   "cell_type": "markdown",
   "id": "rolled-hawaii",
   "metadata": {},
   "source": [
    "earliest date is aug 2018 just after midnight"
   ]
  },
  {
   "cell_type": "code",
   "execution_count": 19,
   "id": "standard-insight",
   "metadata": {},
   "outputs": [
    {
     "data": {
      "text/plain": [
       "Timestamp('2018-09-06 23:59:15')"
      ]
     },
     "execution_count": 19,
     "metadata": {},
     "output_type": "execute_result"
    }
   ],
   "source": [
    "df['datetime'].max() # latest time"
   ]
  },
  {
   "cell_type": "markdown",
   "id": "documentary-implement",
   "metadata": {},
   "source": [
    "latest date is sept 2018 just before midnight"
   ]
  },
  {
   "cell_type": "markdown",
   "id": "toxic-profession",
   "metadata": {},
   "source": [
    "The timeframe is 2 weeks of data"
   ]
  },
  {
   "cell_type": "code",
   "execution_count": 20,
   "id": "transparent-continent",
   "metadata": {},
   "outputs": [
    {
     "data": {
      "text/plain": [
       "Timedelta('14 days 23:58:14')"
      ]
     },
     "execution_count": 20,
     "metadata": {},
     "output_type": "execute_result"
    }
   ],
   "source": [
    "df['datetime'].max() - df['datetime'].min()"
   ]
  },
  {
   "cell_type": "code",
   "execution_count": 21,
   "id": "peripheral-earthquake",
   "metadata": {},
   "outputs": [
    {
     "name": "stdout",
     "output_type": "stream",
     "text": [
      "the year is \n",
      " 0         2018\n",
      "1         2018\n",
      "2         2018\n",
      "3         2018\n",
      "4         2018\n",
      "          ... \n",
      "185161    2018\n",
      "185162    2018\n",
      "185163    2018\n",
      "185164    2018\n",
      "185165    2018\n",
      "Name: datetime, Length: 185166, dtype: int64\n",
      "the month is \n",
      " 0         8\n",
      "1         8\n",
      "2         8\n",
      "3         8\n",
      "4         8\n",
      "         ..\n",
      "185161    9\n",
      "185162    9\n",
      "185163    9\n",
      "185164    9\n",
      "185165    9\n",
      "Name: datetime, Length: 185166, dtype: int64\n",
      "the day is \n",
      " 0         23\n",
      "1         23\n",
      "2         23\n",
      "3         23\n",
      "4         23\n",
      "          ..\n",
      "185161     6\n",
      "185162     6\n",
      "185163     6\n",
      "185164     6\n",
      "185165     6\n",
      "Name: datetime, Length: 185166, dtype: int64\n"
     ]
    }
   ],
   "source": [
    "# you can get the various times out with datetime functions if you want to\n",
    "print(\"the year is \\n\",df['datetime'].dt.year)\n",
    "print(\"the month is \\n\", df['datetime'].dt.month)\n",
    "print(\"the day is \\n\",df['datetime'].dt.day) \n"
   ]
  },
  {
   "cell_type": "markdown",
   "id": "visible-creation",
   "metadata": {},
   "source": [
    "### MACB"
   ]
  },
  {
   "cell_type": "markdown",
   "id": "developing-satellite",
   "metadata": {},
   "source": [
    "The MACB notation refers to window events for files/directories. See the flyer below. It looks like the '...' refers to no file change. The letter M, A, C, B refers to the file being modified, accessed, changed or created.   \n",
    "Seamus Dowling's slides on timelining note the following\n",
    "\n",
    "### Timestamp metadata\n",
    "* M –Data content last modified\n",
    "* A –Data content last accessed\n",
    "* C –Metadata content changed on MFT\n",
    "* B –Metadata first created (Birth)\n",
    "\n",
    "![Picure](images/PosterSANS-1024x715.png)"
   ]
  },
  {
   "cell_type": "code",
   "execution_count": 22,
   "id": "dutch-framing",
   "metadata": {},
   "outputs": [
    {
     "name": "stdout",
     "output_type": "stream",
     "text": [
      "['M...' '....' 'MACB' '.A..' '...B' 'MA.B' 'MAC.' '..CB' '.A.B' '.ACB'\n",
      " '..C.' '.AC.' 'MA..' 'M.C.' 'M..B']\n",
      "15\n"
     ]
    }
   ],
   "source": [
    "# recap\n",
    "print(df['MACB'].unique())\n",
    "print(df['MACB'].nunique())"
   ]
  },
  {
   "cell_type": "markdown",
   "id": "liable-mounting",
   "metadata": {},
   "source": [
    "There are 15 different combos of MACB. This is useful for finding newly created files and deleted files."
   ]
  },
  {
   "cell_type": "markdown",
   "id": "bearing-nursing",
   "metadata": {},
   "source": [
    "### Source"
   ]
  },
  {
   "cell_type": "code",
   "execution_count": 23,
   "id": "juvenile-mumbai",
   "metadata": {
    "scrolled": true
   },
   "outputs": [
    {
     "name": "stdout",
     "output_type": "stream",
     "text": [
      "['EVT' 'WEBHIST' 'LOG' 'FILE' 'REG' 'PE' 'LNK' 'OLECF' 'META' 'RECBIN']\n",
      "10\n"
     ]
    }
   ],
   "source": [
    "# recap\n",
    "print(df.source.unique())\n",
    "print(df.source.nunique())"
   ]
  },
  {
   "cell_type": "markdown",
   "id": "baking-emergency",
   "metadata": {},
   "source": [
    "This looks like info regarding to where the file came from e.g events, web history, logs, file, registry, pe?, link, olecf?, meta data, recycling bin. pe is portable executable file and olecf is an embedded object (thanks google)."
   ]
  },
  {
   "cell_type": "markdown",
   "id": "national-table",
   "metadata": {},
   "source": [
    "There are 10 different types of sources of data"
   ]
  },
  {
   "cell_type": "markdown",
   "id": "superb-feature",
   "metadata": {},
   "source": [
    "### Sourcetype"
   ]
  },
  {
   "cell_type": "code",
   "execution_count": 24,
   "id": "unnecessary-discovery",
   "metadata": {},
   "outputs": [
    {
     "name": "stdout",
     "output_type": "stream",
     "text": [
      "['WinEVTX' 'Chrome Cookies' 'WinPrefetch' 'Mactime Bodyfile' 'UNKNOWN'\n",
      " 'AppCompatCache Registry Entry' 'Chrome Cache' 'PE Compilation time'\n",
      " 'Windows Shortcut' 'File entry shell item' 'Task Cache' 'System'\n",
      " 'Chrome History' 'UNKNOWN : BagMRU' nan 'Chrome Extensions Autoupdater'\n",
      " 'UNKNOWN : MRUListEx' 'OLECF Item' 'Chrome Extension Installation'\n",
      " 'Registry Key: UserAssist' 'Open XML Metadata' 'UNKNOWN : Network Drive'\n",
      " 'UNKNOWN : Typed URLs' 'UNKNOWN : Run Key' 'UNKNOWN : MRU List'\n",
      " 'UNKNOWN : RDP Connection' 'Recycle Bin' 'System: Network Connection'\n",
      " 'Registry Key Shutdown Entry' 'UNKNOWN : Winlogon']\n",
      "29\n"
     ]
    }
   ],
   "source": [
    "# recap\n",
    "print(df.sourcetype.unique())\n",
    "print(df.sourcetype.nunique())"
   ]
  },
  {
   "cell_type": "markdown",
   "id": "southwest-chest",
   "metadata": {},
   "source": [
    "This looks like a sub division of source eg. winevtx is probably windows event files and part of event data. Chrome cookies is part of web history  as is Chrome Cache and Chrome History  (I imagine). Do a quick check to see if thats true "
   ]
  },
  {
   "cell_type": "code",
   "execution_count": 25,
   "id": "occupational-jacksonville",
   "metadata": {},
   "outputs": [
    {
     "data": {
      "text/html": [
       "<div>\n",
       "<style scoped>\n",
       "    .dataframe tbody tr th:only-of-type {\n",
       "        vertical-align: middle;\n",
       "    }\n",
       "\n",
       "    .dataframe tbody tr th {\n",
       "        vertical-align: top;\n",
       "    }\n",
       "\n",
       "    .dataframe thead th {\n",
       "        text-align: right;\n",
       "    }\n",
       "</style>\n",
       "<table border=\"1\" class=\"dataframe\">\n",
       "  <thead>\n",
       "    <tr style=\"text-align: right;\">\n",
       "      <th></th>\n",
       "      <th>source</th>\n",
       "      <th>sourcetype</th>\n",
       "    </tr>\n",
       "  </thead>\n",
       "  <tbody>\n",
       "    <tr>\n",
       "      <th>17771</th>\n",
       "      <td>WEBHIST</td>\n",
       "      <td>Chrome History</td>\n",
       "    </tr>\n",
       "    <tr>\n",
       "      <th>17772</th>\n",
       "      <td>WEBHIST</td>\n",
       "      <td>Chrome History</td>\n",
       "    </tr>\n",
       "    <tr>\n",
       "      <th>17849</th>\n",
       "      <td>WEBHIST</td>\n",
       "      <td>Chrome History</td>\n",
       "    </tr>\n",
       "    <tr>\n",
       "      <th>17916</th>\n",
       "      <td>WEBHIST</td>\n",
       "      <td>Chrome History</td>\n",
       "    </tr>\n",
       "    <tr>\n",
       "      <th>17927</th>\n",
       "      <td>WEBHIST</td>\n",
       "      <td>Chrome History</td>\n",
       "    </tr>\n",
       "    <tr>\n",
       "      <th>...</th>\n",
       "      <td>...</td>\n",
       "      <td>...</td>\n",
       "    </tr>\n",
       "    <tr>\n",
       "      <th>20402</th>\n",
       "      <td>WEBHIST</td>\n",
       "      <td>Chrome History</td>\n",
       "    </tr>\n",
       "    <tr>\n",
       "      <th>20403</th>\n",
       "      <td>WEBHIST</td>\n",
       "      <td>Chrome History</td>\n",
       "    </tr>\n",
       "    <tr>\n",
       "      <th>21003</th>\n",
       "      <td>WEBHIST</td>\n",
       "      <td>Chrome History</td>\n",
       "    </tr>\n",
       "    <tr>\n",
       "      <th>21004</th>\n",
       "      <td>WEBHIST</td>\n",
       "      <td>Chrome History</td>\n",
       "    </tr>\n",
       "    <tr>\n",
       "      <th>21008</th>\n",
       "      <td>WEBHIST</td>\n",
       "      <td>Chrome History</td>\n",
       "    </tr>\n",
       "  </tbody>\n",
       "</table>\n",
       "<p>95 rows × 2 columns</p>\n",
       "</div>"
      ],
      "text/plain": [
       "        source      sourcetype\n",
       "17771  WEBHIST  Chrome History\n",
       "17772  WEBHIST  Chrome History\n",
       "17849  WEBHIST  Chrome History\n",
       "17916  WEBHIST  Chrome History\n",
       "17927  WEBHIST  Chrome History\n",
       "...        ...             ...\n",
       "20402  WEBHIST  Chrome History\n",
       "20403  WEBHIST  Chrome History\n",
       "21003  WEBHIST  Chrome History\n",
       "21004  WEBHIST  Chrome History\n",
       "21008  WEBHIST  Chrome History\n",
       "\n",
       "[95 rows x 2 columns]"
      ]
     },
     "execution_count": 25,
     "metadata": {},
     "output_type": "execute_result"
    }
   ],
   "source": [
    "df[['source', 'sourcetype']][(df['source']=='WEBHIST') & ((df['sourcetype']=='Chrome History'))] # all the chrome history source types are source = WEBHIST"
   ]
  },
  {
   "cell_type": "code",
   "execution_count": 26,
   "id": "magnetic-rehabilitation",
   "metadata": {},
   "outputs": [
    {
     "data": {
      "text/html": [
       "<div>\n",
       "<style scoped>\n",
       "    .dataframe tbody tr th:only-of-type {\n",
       "        vertical-align: middle;\n",
       "    }\n",
       "\n",
       "    .dataframe tbody tr th {\n",
       "        vertical-align: top;\n",
       "    }\n",
       "\n",
       "    .dataframe thead th {\n",
       "        text-align: right;\n",
       "    }\n",
       "</style>\n",
       "<table border=\"1\" class=\"dataframe\">\n",
       "  <thead>\n",
       "    <tr style=\"text-align: right;\">\n",
       "      <th></th>\n",
       "      <th>source</th>\n",
       "      <th>sourcetype</th>\n",
       "    </tr>\n",
       "  </thead>\n",
       "  <tbody>\n",
       "    <tr>\n",
       "      <th>43</th>\n",
       "      <td>WEBHIST</td>\n",
       "      <td>Chrome Cookies</td>\n",
       "    </tr>\n",
       "    <tr>\n",
       "      <th>44</th>\n",
       "      <td>WEBHIST</td>\n",
       "      <td>Chrome Cookies</td>\n",
       "    </tr>\n",
       "    <tr>\n",
       "      <th>65</th>\n",
       "      <td>WEBHIST</td>\n",
       "      <td>Chrome Cookies</td>\n",
       "    </tr>\n",
       "    <tr>\n",
       "      <th>66</th>\n",
       "      <td>WEBHIST</td>\n",
       "      <td>Chrome Cookies</td>\n",
       "    </tr>\n",
       "    <tr>\n",
       "      <th>5309</th>\n",
       "      <td>WEBHIST</td>\n",
       "      <td>Chrome Cookies</td>\n",
       "    </tr>\n",
       "    <tr>\n",
       "      <th>...</th>\n",
       "      <td>...</td>\n",
       "      <td>...</td>\n",
       "    </tr>\n",
       "    <tr>\n",
       "      <th>173901</th>\n",
       "      <td>WEBHIST</td>\n",
       "      <td>Chrome Cookies</td>\n",
       "    </tr>\n",
       "    <tr>\n",
       "      <th>173902</th>\n",
       "      <td>WEBHIST</td>\n",
       "      <td>Chrome Cookies</td>\n",
       "    </tr>\n",
       "    <tr>\n",
       "      <th>173903</th>\n",
       "      <td>WEBHIST</td>\n",
       "      <td>Chrome Cookies</td>\n",
       "    </tr>\n",
       "    <tr>\n",
       "      <th>173904</th>\n",
       "      <td>WEBHIST</td>\n",
       "      <td>Chrome Cookies</td>\n",
       "    </tr>\n",
       "    <tr>\n",
       "      <th>173905</th>\n",
       "      <td>WEBHIST</td>\n",
       "      <td>Chrome Cookies</td>\n",
       "    </tr>\n",
       "  </tbody>\n",
       "</table>\n",
       "<p>976 rows × 2 columns</p>\n",
       "</div>"
      ],
      "text/plain": [
       "         source      sourcetype\n",
       "43      WEBHIST  Chrome Cookies\n",
       "44      WEBHIST  Chrome Cookies\n",
       "65      WEBHIST  Chrome Cookies\n",
       "66      WEBHIST  Chrome Cookies\n",
       "5309    WEBHIST  Chrome Cookies\n",
       "...         ...             ...\n",
       "173901  WEBHIST  Chrome Cookies\n",
       "173902  WEBHIST  Chrome Cookies\n",
       "173903  WEBHIST  Chrome Cookies\n",
       "173904  WEBHIST  Chrome Cookies\n",
       "173905  WEBHIST  Chrome Cookies\n",
       "\n",
       "[976 rows x 2 columns]"
      ]
     },
     "execution_count": 26,
     "metadata": {},
     "output_type": "execute_result"
    }
   ],
   "source": [
    "df[['source', 'sourcetype']][(df['source']=='WEBHIST') & ((df['sourcetype']=='Chrome Cookies'))] # all the chrome cookies sourcetypes are source = WEBHIST"
   ]
  },
  {
   "cell_type": "markdown",
   "id": "according-conflict",
   "metadata": {},
   "source": [
    "There are 29 source types. I wonder how they brake down by source?"
   ]
  },
  {
   "cell_type": "code",
   "execution_count": 29,
   "id": "correct-portfolio",
   "metadata": {},
   "outputs": [
    {
     "name": "stdout",
     "output_type": "stream",
     "text": [
      "source   sourcetype                   \n",
      "EVT      WinEVTX                          152724\n",
      "FILE     Mactime Bodyfile                   8394\n",
      "         File entry shell item               375\n",
      "LNK      Windows Shortcut                    258\n",
      "LOG      WinPrefetch                         828\n",
      "         System                              225\n",
      "         Chrome Extension Installation        17\n",
      "         Chrome Extensions Autoupdater         3\n",
      "         System: Network Connection            1\n",
      "META     Open XML Metadata                     1\n",
      "OLECF    OLECF Item                           29\n",
      "PE       PE Compilation time                   7\n",
      "RECBIN   Recycle Bin                           1\n",
      "REG      UNKNOWN                           17080\n",
      "         UNKNOWN : BagMRU                    194\n",
      "         Task Cache                          158\n",
      "         UNKNOWN : MRUListEx                  40\n",
      "         AppCompatCache Registry Entry        36\n",
      "         Registry Key: UserAssist             34\n",
      "         UNKNOWN : MRU List                   10\n",
      "         UNKNOWN : RDP Connection              7\n",
      "         UNKNOWN : Run Key                     3\n",
      "         UNKNOWN : Winlogon                    3\n",
      "         UNKNOWN : Typed URLs                  2\n",
      "         Registry Key Shutdown Entry           1\n",
      "         UNKNOWN : Network Drive               1\n",
      "WEBHIST  Chrome Cache                       3538\n",
      "         Chrome Cookies                      976\n",
      "         Chrome History                       95\n",
      "Name: sourcetype, dtype: int64\n"
     ]
    }
   ],
   "source": [
    "print(df.groupby(['source'])['sourcetype'].value_counts())"
   ]
  },
  {
   "cell_type": "markdown",
   "id": "designed-adobe",
   "metadata": {},
   "source": [
    "All evt are windows eventx artifacts, webhist contains cache, cookie and history from chrome etc. Most rows are windows event logs. "
   ]
  },
  {
   "cell_type": "markdown",
   "id": "pacific-glory",
   "metadata": {},
   "source": [
    "### Type"
   ]
  },
  {
   "cell_type": "code",
   "execution_count": null,
   "id": "instant-lucas",
   "metadata": {},
   "outputs": [],
   "source": [
    "# recap\n",
    "print(df.type.unique())\n",
    "print(df.type.nunique())"
   ]
  },
  {
   "cell_type": "markdown",
   "id": "charming-camcorder",
   "metadata": {},
   "source": [
    "Type appears to be the readable form of MACB. "
   ]
  },
  {
   "cell_type": "markdown",
   "id": "elect-combining",
   "metadata": {},
   "source": [
    "however there are not the same number of unique MACB's as types, so maybe it depends on where MACB code is located."
   ]
  },
  {
   "cell_type": "code",
   "execution_count": null,
   "id": "restricted-weather",
   "metadata": {},
   "outputs": [],
   "source": [
    "df.type.nunique()-df.MACB.nunique()"
   ]
  },
  {
   "cell_type": "code",
   "execution_count": null,
   "id": "preceding-inventory",
   "metadata": {},
   "outputs": [],
   "source": [
    "df.MACB.unique()"
   ]
  },
  {
   "cell_type": "markdown",
   "id": "modular-limit",
   "metadata": {},
   "source": [
    "### Short"
   ]
  },
  {
   "cell_type": "code",
   "execution_count": null,
   "id": "cultural-rocket",
   "metadata": {},
   "outputs": [],
   "source": [
    "#recap \n",
    "print(df.short.unique())\n",
    "print(df.short.nunique())"
   ]
  },
  {
   "cell_type": "markdown",
   "id": "eight-converter",
   "metadata": {},
   "source": [
    "This is an array with strings that have info. This might  have interesting data. The first array looks like event numbers. The strings do not fully show in the notebook and are truncated (which is annoying- though it crashes if its changed to show). It might be useful to export this column to csv and then read it as a new dataframe with a separator. "
   ]
  },
  {
   "cell_type": "code",
   "execution_count": null,
   "id": "centered-qualification",
   "metadata": {},
   "outputs": [],
   "source": [
    "'''\n",
    "df['short'].to_csv('short.csv')\n",
    "df_short = pd.read_csv('short.csv', sep='\\[(.*?)\\]')\n",
    "df_short.head() # this does not work yet - if I have time I'll get back to it\n",
    "'''"
   ]
  },
  {
   "cell_type": "markdown",
   "id": "bibliographic-revision",
   "metadata": {},
   "source": [
    "### Desc"
   ]
  },
  {
   "cell_type": "code",
   "execution_count": null,
   "id": "elegant-property",
   "metadata": {},
   "outputs": [],
   "source": [
    "#recap \n",
    "print(df.desc.unique())\n",
    "print(df.desc.nunique())\n"
   ]
  },
  {
   "cell_type": "markdown",
   "id": "fresh-nudist",
   "metadata": {},
   "source": [
    "This looks to be the same as short but in a different format and more verbose"
   ]
  },
  {
   "cell_type": "code",
   "execution_count": null,
   "id": "joined-pakistan",
   "metadata": {},
   "outputs": [],
   "source": [
    "df[['short', 'desc']]"
   ]
  },
  {
   "cell_type": "markdown",
   "id": "connected-climb",
   "metadata": {},
   "source": [
    "There is extra info in the desc regarding the string e.g. Source Name: Microsoft-Windows-PushNotification-PlatformStrings: desc is more verbose"
   ]
  },
  {
   "cell_type": "markdown",
   "id": "technical-combination",
   "metadata": {},
   "source": [
    "I checked and 107 is 0x006b in hex so the first part is dec\\hex which can be split out. The second part is a string which I'll split out. I'll use short instead of desc as its shorter."
   ]
  },
  {
   "cell_type": "code",
   "execution_count": null,
   "id": "devoted-evolution",
   "metadata": {},
   "outputs": [],
   "source": [
    "df_short_strings = df.short.str.split(\"Strings: \", expand=True).copy()\n",
    "df_short_strings.columns = ['event_id_dec_hex', 'event_message']\n",
    "df_short_id_dec = df_short_strings['event_id_dec_hex'].str.split(\"[\", expand=True).copy() \n",
    "df_short_id_dec.drop([2, 3], axis =1, inplace=True)\n",
    "df_short_id_dec = df_short_id_dec[1].str.split(\"/\", expand=True).copy()\n",
    "df_short_id_dec.drop([2, 3, 4, 5], axis =1, inplace=True)\n",
    "df_short_id_dec.columns = ['id_dec', 'id_hex']\n",
    "df_short_id_hex = df_short_id_dec['id_hex'].copy()\n",
    "df_short_id_dec = df_short_id_dec['id_dec'].copy()\n",
    "df_short_id_hex = df_short_id_hex.str.split(\"]\", expand=True).copy()\n",
    "df_short_id_hex.drop([1], axis=1, inplace=True)\n",
    "df_short_id_hex.columns =['id_hex']\n",
    "df_short_id_dec.columns = ['id_dec']\n",
    "df_short_strings.drop('event_id_dec_hex', axis=1, inplace=True)\n",
    "df_short_strings = df_short_strings.event_message.str.split(\"[\", expand = True).copy()\n",
    "df_short_strings =df_short_strings.iloc[:,1].str.split(\"]\", expand = True).copy()\n",
    "df_short_strings.drop([1], axis=1, inplace=True)\n",
    "df_short_strings.columns=[\"short string\"]\n",
    "df =pd.concat([df, df_short_id_dec, df_short_id_hex, df_short_strings], axis =1)\n"
   ]
  },
  {
   "cell_type": "markdown",
   "id": "controlled-discharge",
   "metadata": {},
   "source": [
    "check to see if the new columns are there (id_dec, id_hex, short_string)"
   ]
  },
  {
   "cell_type": "code",
   "execution_count": null,
   "id": "brilliant-convergence",
   "metadata": {},
   "outputs": [],
   "source": [
    "df.columns # the new cols id_hex, id_dec and short_string are present"
   ]
  },
  {
   "cell_type": "code",
   "execution_count": null,
   "id": "sacred-turkish",
   "metadata": {},
   "outputs": [],
   "source": [
    "df.head() # check how it looks"
   ]
  },
  {
   "cell_type": "markdown",
   "id": "previous-silicon",
   "metadata": {},
   "source": [
    "### Filename"
   ]
  },
  {
   "cell_type": "code",
   "execution_count": null,
   "id": "recognized-authentication",
   "metadata": {},
   "outputs": [],
   "source": [
    "#recap\n",
    "print(df.filename.unique()[0:10]) # its too long so i'll just print out a few\n",
    "print(df.filename.nunique())"
   ]
  },
  {
   "cell_type": "markdown",
   "id": "referenced-representation",
   "metadata": {},
   "source": [
    "An array with the path to a filename event view log. Interesting. This could be split pull out file path details."
   ]
  },
  {
   "cell_type": "markdown",
   "id": "emotional-brunswick",
   "metadata": {},
   "source": [
    "Lots of unique filenames"
   ]
  },
  {
   "cell_type": "markdown",
   "id": "double-sharp",
   "metadata": {},
   "source": [
    "### inode"
   ]
  },
  {
   "cell_type": "code",
   "execution_count": null,
   "id": "continent-seating",
   "metadata": {},
   "outputs": [],
   "source": [
    "print(df.inode.unique())\n",
    "print(df.inode.nunique())\n"
   ]
  },
  {
   "cell_type": "markdown",
   "id": "split-sector",
   "metadata": {},
   "source": [
    "Not sure what to do with that info. "
   ]
  },
  {
   "cell_type": "markdown",
   "id": "bizarre-cable",
   "metadata": {},
   "source": [
    "### Format"
   ]
  },
  {
   "cell_type": "code",
   "execution_count": null,
   "id": "closing-expression",
   "metadata": {},
   "outputs": [],
   "source": [
    "#recap\n",
    "print(df.format.unique())\n",
    "print(df.format.nunique())\n"
   ]
  },
  {
   "cell_type": "markdown",
   "id": "posted-arthritis",
   "metadata": {},
   "source": [
    "An array of categories with sub categories. Is it similar to source?"
   ]
  },
  {
   "cell_type": "code",
   "execution_count": null,
   "id": "fixed-stations",
   "metadata": {},
   "outputs": [],
   "source": [
    "df.groupby(['source'])['format'].value_counts()"
   ]
  },
  {
   "cell_type": "markdown",
   "id": "asian-aggregate",
   "metadata": {},
   "source": [
    "Appears to be more finely tuned than source, source is a category and format is sub category. All evt are winevtx's."
   ]
  },
  {
   "cell_type": "markdown",
   "id": "italian-glass",
   "metadata": {},
   "source": [
    "### Extra"
   ]
  },
  {
   "cell_type": "code",
   "execution_count": null,
   "id": "floral-cleaners",
   "metadata": {},
   "outputs": [],
   "source": [
    "#recap\n",
    "print(df.extra.unique()[0:5]) # too much info to print\n",
    "print(df.extra.nunique())"
   ]
  },
  {
   "cell_type": "markdown",
   "id": "excessive-columbia",
   "metadata": {},
   "source": [
    "This has lots of potentially useful information"
   ]
  },
  {
   "cell_type": "code",
   "execution_count": null,
   "id": "twelve-temperature",
   "metadata": {},
   "outputs": [],
   "source": [
    "df.extra.head()"
   ]
  },
  {
   "cell_type": "markdown",
   "id": "numerical-halifax",
   "metadata": {},
   "source": [
    "After looking over this it seems that desc has the majority of the data in the dataframe and additional data is in extra.  Its hard to see in jupyter notebook cause of the elipses... (which are also there when viewed in vscode). I'll try and list them out for a look."
   ]
  },
  {
   "cell_type": "code",
   "execution_count": null,
   "id": "discrete-yugoslavia",
   "metadata": {},
   "outputs": [],
   "source": [
    "desc_lst = df.desc.to_list() # look at desc list\n",
    "for item in desc_lst[0:10000:500]: # just look at a sample as file is big\n",
    "    print(\"\\n\", item)"
   ]
  },
  {
   "cell_type": "code",
   "execution_count": null,
   "id": "boxed-enclosure",
   "metadata": {},
   "outputs": [],
   "source": [
    "extra_lst = df.extra.to_list() # look at extra list\n",
    "for item in extra_lst[0:10000:1000]: # dont print them all out as file is big.\n",
    "    print(\"\\n\", item)"
   ]
  },
  {
   "cell_type": "markdown",
   "id": "bearing-president",
   "metadata": {},
   "source": [
    "Extra has keys and values. How can i access the keys in his array? try splitting on ';'"
   ]
  },
  {
   "cell_type": "code",
   "execution_count": null,
   "id": "tutorial-render",
   "metadata": {},
   "outputs": [],
   "source": [
    "df_extra_split = df.extra.str.split(\";\", expand=True)\n",
    "\n",
    "\n",
    "for c in range(5, 101):\n",
    "    df_extra_split.drop([c], axis=1, inplace=True)\n",
    "\n",
    "df_extra_split.columns = ['extra_recovered', 'extra_sha256_hash', 'extra_strings_parsed', 'extra_user_sid', 'extra_xml_string']\n",
    "df_extra_split\n",
    "df_extra_split.extra_recovered.replace(to_replace=\"recovered: \", value=\"\", regex=True, inplace=True)\n",
    "df_extra_split.extra_sha256_hash.replace(to_replace=\"sha256_hash: \", value=\"\", regex=True, inplace=True)\n",
    "df_extra_split.extra_strings_parsed.replace(to_replace=\"strings_parsed: \", value=\"\", regex=True, inplace=True)\n",
    "df_extra_split.extra_user_sid.replace(to_replace=\"user_sid: \", value=\"\", regex=True, inplace=True)\n",
    "df_extra_split.extra_xml_string.replace(to_replace=\"xml_string: \", value=\"\", regex=True, inplace=True)\n",
    "df_extra_split\n",
    "\n"
   ]
  },
  {
   "cell_type": "markdown",
   "id": "different-wholesale",
   "metadata": {},
   "source": [
    "Add the columns to df"
   ]
  },
  {
   "cell_type": "code",
   "execution_count": null,
   "id": "great-witch",
   "metadata": {},
   "outputs": [],
   "source": [
    "df =pd.concat([df, df_extra_split], axis =1)\n",
    "df.head()"
   ]
  },
  {
   "cell_type": "markdown",
   "id": "renewable-design",
   "metadata": {},
   "source": [
    "check if the new cols are there."
   ]
  },
  {
   "cell_type": "code",
   "execution_count": null,
   "id": "eleven-validation",
   "metadata": {},
   "outputs": [],
   "source": [
    "df.columns # the extra_recovered, extra_sha256_hash, extra_stings_parsed, extra_user_sid and extra_xml_string are in the dataframe df"
   ]
  },
  {
   "cell_type": "markdown",
   "id": "favorite-instrumentation",
   "metadata": {},
   "source": [
    "Have a look at the new columns"
   ]
  },
  {
   "cell_type": "code",
   "execution_count": null,
   "id": "logical-wellington",
   "metadata": {},
   "outputs": [],
   "source": [
    "for column in df[['extra_recovered', 'extra_sha256_hash', 'extra_strings_parsed', 'extra_user_sid', 'extra_xml_string']]:\n",
    "    print(df[column].nunique())"
   ]
  },
  {
   "cell_type": "code",
   "execution_count": null,
   "id": "previous-consumption",
   "metadata": {},
   "outputs": [],
   "source": [
    "for column in df[['extra_recovered', 'extra_sha256_hash', 'extra_strings_parsed', 'extra_user_sid', 'extra_xml_string']][0:10000:5000]:\n",
    "    print(\"\\n\",column, 'has ', df[column].nunique(), ' values with sample shown below \\n ', df[column].unique(), 'v')\n",
    "    \n",
    "    # just view a sample as its a big file. "
   ]
  },
  {
   "cell_type": "markdown",
   "id": "public-chase",
   "metadata": {},
   "source": [
    "Look at some statistical info"
   ]
  },
  {
   "cell_type": "code",
   "execution_count": null,
   "id": "paperback-coverage",
   "metadata": {},
   "outputs": [],
   "source": [
    "df.describe()"
   ]
  },
  {
   "cell_type": "markdown",
   "id": "scientific-feeling",
   "metadata": {},
   "source": [
    "This does not produce anything useful here. Only inode has statistical info but its not useful to analyse it that way."
   ]
  },
  {
   "cell_type": "markdown",
   "id": "authorized-longitude",
   "metadata": {},
   "source": [
    "I've added a few cols which changed the shape"
   ]
  },
  {
   "cell_type": "code",
   "execution_count": null,
   "id": "tracked-country",
   "metadata": {},
   "outputs": [],
   "source": [
    "df.shape # quick look at the shape"
   ]
  },
  {
   "cell_type": "markdown",
   "id": "adapted-adelaide",
   "metadata": {},
   "source": [
    "### revisit filename"
   ]
  },
  {
   "cell_type": "markdown",
   "id": "alive-episode",
   "metadata": {},
   "source": [
    "Going back to filename - pull out the user from the filename"
   ]
  },
  {
   "cell_type": "code",
   "execution_count": null,
   "id": "fifth-calgary",
   "metadata": {},
   "outputs": [],
   "source": [
    "filename_users = df.filename.str.split(r\"\\\\\")\n",
    "                                  \n",
    "print(filename_users.str[3].unique())\n",
    "df['filename_users'] = filename_users.str[3]\n",
    "df['filename_users'].unique()"
   ]
  },
  {
   "cell_type": "markdown",
   "id": "union-moisture",
   "metadata": {},
   "source": [
    "spsql looks like a sql account maybe. The workstation user is tdungan. I don't know what .shieldbase extention is.  \n",
    "\n",
    "Lets look at spsql user"
   ]
  },
  {
   "cell_type": "code",
   "execution_count": null,
   "id": "confirmed-syndicate",
   "metadata": {},
   "outputs": [],
   "source": [
    "\n",
    "spsql_user = df[df['filename_users']=='spsql'] # cant see it in the notebook with the ...\n",
    "#print(spsql_user)\n",
    "for u in spsql_user['desc'][0:10000:500].items(): # too much info take sample\n",
    "    print(u)\n"
   ]
  },
  {
   "cell_type": "markdown",
   "id": "recreational-antarctica",
   "metadata": {},
   "source": [
    "Lots of no values stored in keys. Otherwise I'm none the wiser. Lets look at the Temp user."
   ]
  },
  {
   "cell_type": "code",
   "execution_count": null,
   "id": "reported-second",
   "metadata": {},
   "outputs": [],
   "source": [
    "temp_user = df[df['filename_users']=='Temp'] # cant see it in the notebook with the ...\n",
    "print(temp_user)\n",
    "for u in temp_user['desc'].items():\n",
    "    print(u)\n"
   ]
  },
  {
   "cell_type": "markdown",
   "id": "italic-registrar",
   "metadata": {},
   "source": [
    "The PE files are interesting. Lets look at the Public user"
   ]
  },
  {
   "cell_type": "code",
   "execution_count": null,
   "id": "native-purple",
   "metadata": {},
   "outputs": [],
   "source": [
    "public_user = df[df['filename_users']=='Public'] # cant see it in the notebook with the ...\n",
    "print(public_user)\n",
    "for u in public_user['desc'].items():\n",
    "    print(u)\n"
   ]
  },
  {
   "cell_type": "markdown",
   "id": "intended-milton",
   "metadata": {},
   "source": [
    "Public user seems to be for Internet access as its all about Chrome. Lets look at the long string user."
   ]
  },
  {
   "cell_type": "code",
   "execution_count": null,
   "id": "natural-player",
   "metadata": {},
   "outputs": [],
   "source": [
    "string_user = df[df['filename_users']=='S-1-5-21-3445421715-2530590580-3149308974-1193'] # cant see it in the notebook with the ...\n",
    "print(string_user)\n",
    "for u in string_user['desc'].items():\n",
    "    print(u)\n"
   ]
  },
  {
   "cell_type": "markdown",
   "id": "stock-pulse",
   "metadata": {},
   "source": [
    "tdungan is Timothy Dungan and he saved sawaguchi's backup log which is deleted. "
   ]
  },
  {
   "cell_type": "code",
   "execution_count": null,
   "id": "adult-pavilion",
   "metadata": {},
   "outputs": [],
   "source": [
    "string_user = df[df['filename_users']=='rsydow-a'] # cant see it in the notebook with the ...\n",
    "print(string_user)\n",
    "for u in string_user['desc'].items():\n",
    "    print(u)\n"
   ]
  },
  {
   "cell_type": "markdown",
   "id": "fitting-pitch",
   "metadata": {},
   "source": [
    "I dont know what rsydow-a is. Lots of Unknown sourcetype. "
   ]
  },
  {
   "cell_type": "markdown",
   "id": "irish-appreciation",
   "metadata": {},
   "source": [
    "### Prefetch"
   ]
  },
  {
   "cell_type": "markdown",
   "id": "approved-unknown",
   "metadata": {},
   "source": [
    "Prefetch is a good place to look for suspicous stuff"
   ]
  },
  {
   "cell_type": "code",
   "execution_count": null,
   "id": "official-danger",
   "metadata": {
    "scrolled": false
   },
   "outputs": [],
   "source": [
    "df[['sourcetype', 'filename']][df.sourcetype=='WinPrefetch']"
   ]
  },
  {
   "cell_type": "markdown",
   "id": "religious-least",
   "metadata": {},
   "source": [
    "Pull out the prefetch information. For this I split df into a prefetch dataframe for just prefetch info. "
   ]
  },
  {
   "cell_type": "code",
   "execution_count": null,
   "id": "immediate-understanding",
   "metadata": {},
   "outputs": [],
   "source": [
    "# trouble with regex bad escape at \\C so i'll just remove \\\n",
    "# hide the warnings for now\n",
    "import warnings \n",
    "warnings.filterwarnings('ignore')\n",
    "\n",
    "myregex = \"OS:E:\\\\C\\\\Windows\\\\prefetch\\\\\"\n",
    "\n",
    "prefetch = df.loc[df['filename'].str.startswith(myregex)] \n",
    "prefetch['exe'] =prefetch['filename'].str.replace('\\\\','').str.replace('OS:E:CWindowsprefetch', '').str.split('-').str[0]\n",
    "prefetch['pf'] = prefetch['filename'].str.replace('\\\\','').str.replace('OS:E:CWindowsprefetch', '').str.split('-').str[1] \n",
    "prefetch\n",
    "\n",
    "# i could have filtered by sourcetype instead of using prefetch dataframe\n",
    "\n"
   ]
  },
  {
   "cell_type": "code",
   "execution_count": null,
   "id": "harmful-special",
   "metadata": {},
   "outputs": [],
   "source": [
    "prefetch['exe'].unique() # look at unique exe's"
   ]
  },
  {
   "cell_type": "markdown",
   "id": "attractive-stake",
   "metadata": {},
   "source": [
    "Items to note include schtasks, powershell, wmiprvse, rdpclip, wsmprovhost, taskkill. Use SAN's filtering and that pdf on excel hunting to look for suspicious items in prefetch data. "
   ]
  },
  {
   "cell_type": "code",
   "execution_count": null,
   "id": "indie-petroleum",
   "metadata": {},
   "outputs": [],
   "source": [
    "# https://sansorg.egnyte.com/dl/ZkAyckjFTI\n",
    "# list of suspicious items taken from SANS Find Evil poster and from this pdf https://www.giac.org/paper/gcih/10588/hunting-log-data-excel/104581\n",
    "# to just get at.exe use '^at.exe' \n",
    "evil_things = [\"$C\", \"Admin$\", \"psexec.exe\", \"PsExec\", \"psexesvc\", \"^at.exe\", \"schtasks.exe\", \"^sc.exe\", \"wmic.exe\", \"wmiprvse.exe\"\n",
    "       \"scrcons.exe\", \"mofcomp.exe\", \"powershell.exe\",\"PowerShell\" \"wsmprovhost.exe\", \"find.exe\", \"ipconfig.exe\", \"reg.exe\", \"neti.exe\", \n",
    "              'tasklist.exe', '^cmd.exe', '^net.exe', 'pe.exe']\n",
    "# uppercase it as its capitalised in prefetch\n",
    "evil_things = [e.upper() for e in evil_things]"
   ]
  },
  {
   "cell_type": "code",
   "execution_count": null,
   "id": "useful-hollow",
   "metadata": {},
   "outputs": [],
   "source": [
    "prefetch.columns # just checking the column names"
   ]
  },
  {
   "cell_type": "code",
   "execution_count": null,
   "id": "genetic-minnesota",
   "metadata": {},
   "outputs": [],
   "source": [
    "for evil_thing in evil_things:\n",
    "    if prefetch[prefetch['exe'].str.contains(evil_thing)].empty:\n",
    "        continue\n",
    "    else:\n",
    "        print(\"Evil found for \", evil_thing, prefetch[['datetime', 'exe']][prefetch['exe'].str.contains(evil_thing)]) "
   ]
  },
  {
   "cell_type": "markdown",
   "id": "removed-refrigerator",
   "metadata": {},
   "source": [
    "ipconfig was run at 2018-09-05 11:55:31 - whats that about?"
   ]
  },
  {
   "cell_type": "code",
   "execution_count": null,
   "id": "exterior-loading",
   "metadata": {},
   "outputs": [],
   "source": [
    "# to get rid of row ... so i can see things\n",
    "#pd.set_option('display.max_row',1000) # still not working right :("
   ]
  },
  {
   "cell_type": "code",
   "execution_count": null,
   "id": "incorporated-literature",
   "metadata": {},
   "outputs": [],
   "source": [
    "# lets look around the ipconfig execution time\n",
    "start_time = '2018-09-05 11:55:00' # start a bit before ipconfig time of 2018-09-05 11:55:31\n",
    "end_time = '2018-09-05 11:56:00' # end a bit after ipconfig time\n",
    "mask = (df['datetime'] >= start_time) & (df['datetime'] <= end_time) \n",
    "df.loc[mask]\n",
    "    "
   ]
  },
  {
   "cell_type": "markdown",
   "id": "senior-vermont",
   "metadata": {},
   "source": [
    "#### Sample analysis:\n",
    "wmiprvse.exe was run; spsql user is doing something;  RDP client disconnected warnings - thats remote desktop; and a few seconds later 09/05/2018 11:55:18 RDP client disconnected warning is given. Then cosa clients ran (think thats for mobiles - maybe connecting phone to desktop?) followed by a 'logon office click' to run service monitor; dllhost.exe run 44 times, runtimebroker.exe was executed a lot. Rdp client warning occurred again then ipconfig run. After that the remote desktop connection attempt was tried at event 141380 \t09/05/2018 \t11:55:54 which succeeded at event 141382 \t09/05/2018 \t11:55:54 - Lots of Microsoft stuff was scheduelled so it might just be an update or it might not. There was also some game related programmes executed. It would be better to use a SIEM to analyse this type of information.  "
   ]
  },
  {
   "cell_type": "code",
   "execution_count": null,
   "id": "valuable-richards",
   "metadata": {},
   "outputs": [],
   "source": [
    "# https://social.technet.microsoft.com/wiki/contents/articles/37870.remote-desktop-client-troubleshooting-disconnect-codes-and-reasons.aspx\n",
    "# codes for remote desktop connections are listed in the link above"
   ]
  },
  {
   "cell_type": "markdown",
   "id": "nasty-majority",
   "metadata": {},
   "source": [
    "Powershell was run three times in rapid succession on the 2018-09-06 20:30:00 - scheduled tasks were set up at  2018-09-06 20:39:16  possibly for persistence - check out data on 2018-09-06 round 20.30"
   ]
  },
  {
   "cell_type": "code",
   "execution_count": null,
   "id": "sensitive-companion",
   "metadata": {},
   "outputs": [],
   "source": [
    "start_time = '2018-09-06 20:29:00'\n",
    "end_time = '2018-09-06 20:50:00'\n",
    "mask = (df['datetime'] > start_time) & (df['datetime'] <= end_time) \n",
    "df.loc[mask]\n",
    "start_index =df.index[df.index[df['datetime'] > start_time]].min()\n",
    "end_index =df.index[df.index[df['datetime'] <= end_time]].max()\n",
    "\n",
    "for e in df.iloc[range(int(start_index), int(end_index)+1)].items():\n",
    "    print(e)\n",
    "# still can see what is going on - would be better in a siem here."
   ]
  },
  {
   "cell_type": "code",
   "execution_count": null,
   "id": "balanced-organizer",
   "metadata": {},
   "outputs": [],
   "source": [
    "df['filename_users'].unique() # quick look at users again"
   ]
  },
  {
   "cell_type": "markdown",
   "id": "spatial-software",
   "metadata": {},
   "source": [
    "Look at the number of sourcetypes per filename user"
   ]
  },
  {
   "cell_type": "code",
   "execution_count": null,
   "id": "drawn-pasta",
   "metadata": {},
   "outputs": [],
   "source": [
    "df[['sourcetype', 'filename_users']].groupby('filename_users').count().sort_values('sourcetype', ascending=False)\n"
   ]
  },
  {
   "cell_type": "markdown",
   "id": "cleared-adams",
   "metadata": {},
   "source": [
    "Most activity is with system32 followed by spsql then Tim. Identify suspicious items"
   ]
  },
  {
   "cell_type": "markdown",
   "id": "green-courtesy",
   "metadata": {},
   "source": [
    "loop over the other cols for suspicious stuff"
   ]
  },
  {
   "cell_type": "code",
   "execution_count": null,
   "id": "persistent-haiti",
   "metadata": {},
   "outputs": [],
   "source": [
    "df.sourcetype.unique()"
   ]
  },
  {
   "cell_type": "code",
   "execution_count": null,
   "id": "sunset-avenue",
   "metadata": {},
   "outputs": [],
   "source": [
    "# loop over some other relevant cols and see if suspicious content mentioned (already got the prefetch done)\n",
    "found_evil=[]\n",
    "for column in df[['MACB', 'source', 'sourcetype', 'type', 'short', 'desc', 'filename', 'extra']]: \n",
    "    for evil_thing in evil_things:\n",
    "        if df[df[column].str.contains(evil_thing, na=False)].empty:\n",
    "            continue\n",
    "        else:\n",
    "            print(\"Evil found for \", evil_thing, df[df[column].str.contains(evil_thing, na=False)]) \n",
    "            found_evil.append(df[df[column].str.contains(evil_thing, na=False)])"
   ]
  },
  {
   "cell_type": "markdown",
   "id": "promotional-extraction",
   "metadata": {},
   "source": [
    "This lists potential problems so maybe save it?"
   ]
  },
  {
   "cell_type": "code",
   "execution_count": null,
   "id": "focused-suspension",
   "metadata": {},
   "outputs": [],
   "source": [
    "found_evil_df = pd.DataFrame(found_evil) \n",
    "    \n",
    "# saving the dataframe \n",
    "found_evil_df.to_csv('found_evil.csv') \n",
    "print('done')"
   ]
  },
  {
   "cell_type": "markdown",
   "id": "accessible-poetry",
   "metadata": {},
   "source": [
    "Another quick look"
   ]
  },
  {
   "cell_type": "code",
   "execution_count": null,
   "id": "rapid-youth",
   "metadata": {},
   "outputs": [],
   "source": [
    "print(type(found_evil))\n",
    "print(len(found_evil))\n"
   ]
  },
  {
   "cell_type": "markdown",
   "id": "czech-freeze",
   "metadata": {},
   "source": [
    "### MACB revisited"
   ]
  },
  {
   "cell_type": "markdown",
   "id": "nominated-jacob",
   "metadata": {},
   "source": [
    "just having a look at type and MACB again"
   ]
  },
  {
   "cell_type": "code",
   "execution_count": null,
   "id": "floral-fleece",
   "metadata": {
    "scrolled": true
   },
   "outputs": [],
   "source": [
    "print(df.type.unique() )\n",
    "print(df.MACB.unique())"
   ]
  },
  {
   "cell_type": "markdown",
   "id": "announced-storage",
   "metadata": {},
   "source": [
    "Items with MACB in MACB column indicate newly created files"
   ]
  },
  {
   "cell_type": "code",
   "execution_count": null,
   "id": "electronic-henry",
   "metadata": {},
   "outputs": [],
   "source": [
    "# created files\n",
    "created_files = df.loc[df['MACB'].str.contains('MACB')]\n",
    "created_files.head()\n",
    "#created_files['short string']"
   ]
  },
  {
   "cell_type": "code",
   "execution_count": null,
   "id": "specialized-depth",
   "metadata": {},
   "outputs": [],
   "source": [
    "created_files.MACB.count()\n"
   ]
  },
  {
   "cell_type": "code",
   "execution_count": null,
   "id": "integrated-ecuador",
   "metadata": {},
   "outputs": [],
   "source": [
    "len(df[df['MACB']=='MACB']) # quick check"
   ]
  },
  {
   "cell_type": "markdown",
   "id": "tired-terrain",
   "metadata": {},
   "source": [
    "Theres a few hundred newly created files"
   ]
  },
  {
   "cell_type": "code",
   "execution_count": null,
   "id": "understood-anderson",
   "metadata": {},
   "outputs": [],
   "source": [
    "created_files.columns\n",
    "created_files[[\"date\", \"MACB\", \"type\"]]"
   ]
  },
  {
   "cell_type": "markdown",
   "id": "conceptual-luther",
   "metadata": {},
   "source": [
    "visualise created files"
   ]
  },
  {
   "cell_type": "code",
   "execution_count": null,
   "id": "requested-stanley",
   "metadata": {},
   "outputs": [],
   "source": [
    "on_date = '08/28/2018'\n",
    "created_files_on_date = created_files[created_files['date'] == on_date].copy()\n",
    "created_files_on_date"
   ]
  },
  {
   "cell_type": "markdown",
   "id": "large-electric",
   "metadata": {},
   "source": [
    "Plot created files by date"
   ]
  },
  {
   "cell_type": "code",
   "execution_count": null,
   "id": "naval-drilling",
   "metadata": {},
   "outputs": [],
   "source": [
    "#dates = Counter(created_files.date.apply(lambda x: x.strftime('%d-%m-%Y')) )\n",
    "dates = Counter(created_files.date)\n",
    "#print(dates)\n",
    "counts = dates\n",
    "index = []\n",
    "data = []\n",
    "\n",
    "for k,v in counts.items():\n",
    "    index.append(k)\n",
    "    data.append(v)\n",
    "ts = pd.Series(data, index)\n",
    "figsize=(15, 10)\n",
    "ts.plot(kind=\"barh\", title=\"Bar chart of created files per date\")\n",
    "plt.xlabel('Number of created files')\n",
    "plt.ylabel('date')\n",
    "plt.show()\n"
   ]
  },
  {
   "cell_type": "markdown",
   "id": "persistent-aquatic",
   "metadata": {},
   "source": [
    "Loads of files created on the 28th of August 2018. Look at that date."
   ]
  },
  {
   "cell_type": "code",
   "execution_count": null,
   "id": "growing-drove",
   "metadata": {},
   "outputs": [],
   "source": [
    "# lots of activity on the 28th\n",
    "df[['date']]\n",
    "\n",
    "check_date = r\"08/28/2018\"\n",
    "created_files_check_date = created_files[created_files['date']==check_date].copy()\n",
    "\n",
    "created_files_check_date.head()"
   ]
  },
  {
   "cell_type": "code",
   "execution_count": null,
   "id": "arabic-exclusive",
   "metadata": {},
   "outputs": [],
   "source": [
    "len(created_files_check_date) # 378 created files on that date"
   ]
  },
  {
   "cell_type": "markdown",
   "id": "confidential-horizontal",
   "metadata": {},
   "source": [
    "Plot the created files on Aug 28th"
   ]
  },
  {
   "cell_type": "code",
   "execution_count": null,
   "id": "continued-clock",
   "metadata": {},
   "outputs": [],
   "source": [
    "dates = Counter(created_files_on_date.time)\n",
    "#print(dates)\n",
    "counts = dates\n",
    "index = []\n",
    "data = []\n",
    "\n",
    "for k,v in counts.items():\n",
    "    index.append(k)\n",
    "    data.append(v)\n",
    "ts = pd.Series(data, index)\n",
    "figsize=(15, 10)\n",
    "ts.plot(title=\"Bar chart of created files on date \" + on_date)\n",
    "plt.xlabel('Number of created files')\n",
    "plt.ylabel('on date '+ on_date)\n",
    "\n",
    "\n",
    "plt.show()\n",
    "\n",
    "\n",
    "\n"
   ]
  },
  {
   "cell_type": "markdown",
   "id": "nonprofit-egypt",
   "metadata": {},
   "source": [
    "around 21:40 ish lots of files created. Narrow down the time and have a look."
   ]
  },
  {
   "cell_type": "code",
   "execution_count": null,
   "id": "protecting-group",
   "metadata": {},
   "outputs": [],
   "source": [
    "start_time = '2018-08-28 21:39:40'\n",
    "end_time = '2018-08-28 21:42:00'\n",
    "mask = (df['datetime'] > start_time) & (df['datetime'] <= end_time) \n",
    "created_files.loc[mask]\n",
    "# still can see what is going on - would be better in a siem here."
   ]
  },
  {
   "cell_type": "code",
   "execution_count": null,
   "id": "velvet-heating",
   "metadata": {
    "scrolled": true
   },
   "outputs": [],
   "source": [
    "created_files.loc[mask]\n",
    "created_files.loc[mask].filename.unique() # stuff sent to g timeline output - data exfiltration? "
   ]
  },
  {
   "cell_type": "markdown",
   "id": "strategic-expression",
   "metadata": {},
   "source": [
    "What is that file? It looks like an artifact collector MFTECmd's output. "
   ]
  },
  {
   "cell_type": "markdown",
   "id": "impressive-bottom",
   "metadata": {},
   "source": [
    "### Type revisited"
   ]
  },
  {
   "cell_type": "markdown",
   "id": "fabulous-therapist",
   "metadata": {},
   "source": [
    "Have a quick look at MACB and type"
   ]
  },
  {
   "cell_type": "code",
   "execution_count": null,
   "id": "centered-layer",
   "metadata": {
    "scrolled": false
   },
   "outputs": [],
   "source": [
    "df[['MACB', 'type']].groupby('type').count().sort_values(\"MACB\", ascending=False)"
   ]
  },
  {
   "cell_type": "code",
   "execution_count": null,
   "id": "fresh-display",
   "metadata": {},
   "outputs": [],
   "source": [
    "#pd.set_option('display.max_colwidth',1000)# remove elipses to see filename"
   ]
  },
  {
   "cell_type": "code",
   "execution_count": null,
   "id": "recreational-metadata",
   "metadata": {},
   "outputs": [],
   "source": [
    "## check the file downloaded type\n",
    "df.filename[df.type=='File Downloaded'].unique() # its web history"
   ]
  },
  {
   "cell_type": "markdown",
   "id": "mineral-maryland",
   "metadata": {},
   "source": [
    "What's launch time? "
   ]
  },
  {
   "cell_type": "code",
   "execution_count": null,
   "id": "awful-framing",
   "metadata": {},
   "outputs": [],
   "source": [
    "df.filename[df.type=='Launch time'].unique() # "
   ]
  },
  {
   "cell_type": "markdown",
   "id": "featured-rough",
   "metadata": {},
   "source": [
    "### Plots"
   ]
  },
  {
   "cell_type": "markdown",
   "id": "spatial-sewing",
   "metadata": {},
   "source": [
    "Do some plots"
   ]
  },
  {
   "cell_type": "markdown",
   "id": "constitutional-wedding",
   "metadata": {},
   "source": [
    "### MACB Count"
   ]
  },
  {
   "cell_type": "code",
   "execution_count": null,
   "id": "preceding-wednesday",
   "metadata": {},
   "outputs": [],
   "source": [
    "# plot \n",
    "ax = sns.countplot(x=\"MACB\", data=df)\n",
    "plt.title(\"Count plot of MACB column\")\n"
   ]
  },
  {
   "cell_type": "markdown",
   "id": "sought-parallel",
   "metadata": {},
   "source": [
    "Most entires are 'M...' - hard to see others so plot without 'M...' for a quick look"
   ]
  },
  {
   "cell_type": "code",
   "execution_count": null,
   "id": "loaded-indianapolis",
   "metadata": {},
   "outputs": [],
   "source": [
    "# drop M... to see what the others look look like\n",
    "sns.countplot(data=df.loc[df['MACB']!=\"M...\"], x='MACB')\n",
    "plt.title(\"Count plot of MACB column (without M...)\")\n",
    "plt.xticks(rotation=90)"
   ]
  },
  {
   "cell_type": "markdown",
   "id": "transparent-worth",
   "metadata": {},
   "source": [
    "After 'M...', '..C.' and '.A..' are the most frequent which are last visited time and Metadata Modification Time (see below)"
   ]
  },
  {
   "cell_type": "code",
   "execution_count": null,
   "id": "enhanced-story",
   "metadata": {},
   "outputs": [],
   "source": [
    "df.groupby(['type', 'MACB'])['MACB'].count().sort_values(ascending=False)"
   ]
  },
  {
   "cell_type": "markdown",
   "id": "earned-doctor",
   "metadata": {},
   "source": [
    "Plot the counts of 'type' column"
   ]
  },
  {
   "cell_type": "code",
   "execution_count": null,
   "id": "whole-journal",
   "metadata": {},
   "outputs": [],
   "source": [
    "sns.countplot(data=df, x='type')\n",
    "plt.xticks(rotation=90)\n",
    "plt.title(\"Count plot of type column\")"
   ]
  },
  {
   "cell_type": "markdown",
   "id": "successful-albania",
   "metadata": {},
   "source": [
    "content modification time swamps things so plot without it to have a look"
   ]
  },
  {
   "cell_type": "code",
   "execution_count": null,
   "id": "seeing-broadcasting",
   "metadata": {},
   "outputs": [],
   "source": [
    "sns.countplot(data=df.loc[df['type']!=\"Content Modification Time\"], x='type')\n",
    "plt.xticks(rotation=90)\n",
    "plt.title(\"Count plot of type column (without Content Modification Time)\")"
   ]
  },
  {
   "cell_type": "markdown",
   "id": "outside-source",
   "metadata": {},
   "source": [
    "maybe plot the type by date?"
   ]
  },
  {
   "cell_type": "code",
   "execution_count": null,
   "id": "blessed-reverse",
   "metadata": {},
   "outputs": [],
   "source": [
    "df.type.unique() # checking type values"
   ]
  },
  {
   "cell_type": "code",
   "execution_count": null,
   "id": "binding-munich",
   "metadata": {},
   "outputs": [],
   "source": [
    "# plot \n",
    "fig, ax = plt.subplots(figsize=(12,4))\n",
    "df.groupby(['date'])['type'].count().plot(ax=ax, kind='bar')\n",
    "plt.title(\"Count plot of type grouped by date\")\n",
    "plt.xlabel(\"date\");  # custom x label using matplotlib\n",
    "plt.ylabel(\"Count of Type\");\n",
    "plt.title('count of type by date')\n",
    "plt.show\n"
   ]
  },
  {
   "cell_type": "markdown",
   "id": "annual-austria",
   "metadata": {},
   "source": [
    "Not sure that is a useful plot. Lots of types used on Aug 28 and 5/6 of Sept. Not much types used on earlier dates in Aug.  "
   ]
  },
  {
   "cell_type": "markdown",
   "id": "different-incentive",
   "metadata": {},
   "source": [
    "Loop through the columns and get their pivot counts"
   ]
  },
  {
   "cell_type": "code",
   "execution_count": null,
   "id": "continuing-prompt",
   "metadata": {
    "scrolled": false
   },
   "outputs": [],
   "source": [
    "for column in df:\n",
    "    print(column, \"\\n\", df[column].value_counts(), \"\\n\")"
   ]
  },
  {
   "cell_type": "markdown",
   "id": "shared-balance",
   "metadata": {},
   "source": [
    "### Hist plots"
   ]
  },
  {
   "cell_type": "markdown",
   "id": "czech-supplier",
   "metadata": {},
   "source": [
    "Try histograms"
   ]
  },
  {
   "cell_type": "code",
   "execution_count": null,
   "id": "reflected-ecology",
   "metadata": {},
   "outputs": [],
   "source": [
    "df.source.hist(bins=10)\n",
    "plt.title('histogram of counts by source')\n",
    "plt.xticks(rotation=90)"
   ]
  },
  {
   "cell_type": "markdown",
   "id": "practical-drinking",
   "metadata": {},
   "source": [
    "Loop through certain cols to create various histograms"
   ]
  },
  {
   "cell_type": "code",
   "execution_count": null,
   "id": "synthetic-character",
   "metadata": {},
   "outputs": [],
   "source": [
    "for column in df[['date', 'MACB', 'source', 'sourcetype', 'type', 'format']]:\n",
    "    print(column)\n",
    "    df[column].hist(bins=10)\n",
    "    plt.title('histogram of counts by '+column)\n",
    "    plt.xticks(rotation=90)\n",
    "    plt.show()"
   ]
  },
  {
   "cell_type": "markdown",
   "id": "conditional-parcel",
   "metadata": {},
   "source": [
    "### Countplots"
   ]
  },
  {
   "cell_type": "markdown",
   "id": "atmospheric-destination",
   "metadata": {},
   "source": [
    "Create some countplots with seaborn"
   ]
  },
  {
   "cell_type": "code",
   "execution_count": null,
   "id": "sealed-liquid",
   "metadata": {},
   "outputs": [],
   "source": [
    "for column in df[['date', 'MACB', 'source', 'sourcetype', 'type', 'format']]:\n",
    "    print(column)\n",
    "    ax = sns.countplot(x=column, data=df)\n",
    "    plt.title('count plot of '+column)\n",
    "    plt.xticks(rotation=90)\n",
    "    plt.show()"
   ]
  },
  {
   "cell_type": "code",
   "execution_count": null,
   "id": "under-heating",
   "metadata": {
    "scrolled": true
   },
   "outputs": [],
   "source": [
    "df.sort_values(by='date') # python is useful for sorting "
   ]
  },
  {
   "cell_type": "markdown",
   "id": "revolutionary-shanghai",
   "metadata": {},
   "source": [
    "### Conclusion"
   ]
  },
  {
   "cell_type": "markdown",
   "id": "charming-monitoring",
   "metadata": {},
   "source": [
    "In conclusion you can do a lot of analysis on log data with python. In particular it gives you an overall feel for the data. This is especially useful when the data is so large as in this file. "
   ]
  }
 ],
 "metadata": {
  "kernelspec": {
   "display_name": "Python 3",
   "language": "python",
   "name": "python3"
  },
  "language_info": {
   "codemirror_mode": {
    "name": "ipython",
    "version": 3
   },
   "file_extension": ".py",
   "mimetype": "text/x-python",
   "name": "python",
   "nbconvert_exporter": "python",
   "pygments_lexer": "ipython3",
   "version": "3.7.9"
  }
 },
 "nbformat": 4,
 "nbformat_minor": 5
}
