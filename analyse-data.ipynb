{
 "cells": [
  {
   "cell_type": "markdown",
   "id": "dominant-blend",
   "metadata": {},
   "source": [
    "# Analyse Data from memory dump or another data set\n",
    "\n",
    "This assignment is to analyse data. For this I used Seamus's Dowling timeline file base-rd-01-supertimeline.csv which can be found in the Teams files for the course IDR (part of GMIT's certificate in Cybersecurity). I have not uploaded that file to github. The file is stored in the same directory that contains this notebook.  \n"
   ]
  },
  {
   "cell_type": "markdown",
   "id": "welcome-clearing",
   "metadata": {},
   "source": [
    "## import the packages"
   ]
  },
  {
   "cell_type": "code",
   "execution_count": 1,
   "id": "sensitive-exhaust",
   "metadata": {},
   "outputs": [],
   "source": [
    "# imports"
   ]
  },
  {
   "cell_type": "code",
   "execution_count": 2,
   "id": "korean-miniature",
   "metadata": {
    "scrolled": false
   },
   "outputs": [],
   "source": [
    "import pandas as pd # main package for dataframes\n",
    "import numpy as np \n",
    "import matplotlib.pyplot as plt\n",
    "%matplotlib inline \n",
    "# so plots will show inline in the notebook\n",
    "import datetime as dt\n",
    "import matplotlib.ticker as ticker\n",
    "import seaborn as sns\n",
    "import re # havent used this yet"
   ]
  },
  {
   "cell_type": "markdown",
   "id": "sorted-savage",
   "metadata": {},
   "source": [
    "read the file "
   ]
  },
  {
   "cell_type": "code",
   "execution_count": 3,
   "id": "inclusive-brave",
   "metadata": {},
   "outputs": [],
   "source": [
    "# useful links https://github.com/jleaniz/misc/blob/master/timeilne_analysis.ipynb\n",
    "\n",
    "#filename = 'baserd01-filesystem-timeline.csv'\n",
    "filename = 'base-rd-01-supertimeline.csv'\n",
    "df = pd.read_csv(filename)"
   ]
  },
  {
   "cell_type": "markdown",
   "id": "laden-armstrong",
   "metadata": {},
   "source": [
    "check the first few values"
   ]
  },
  {
   "cell_type": "code",
   "execution_count": 4,
   "id": "competitive-gazette",
   "metadata": {
    "scrolled": true
   },
   "outputs": [
    {
     "data": {
      "text/html": [
       "<div>\n",
       "<style scoped>\n",
       "    .dataframe tbody tr th:only-of-type {\n",
       "        vertical-align: middle;\n",
       "    }\n",
       "\n",
       "    .dataframe tbody tr th {\n",
       "        vertical-align: top;\n",
       "    }\n",
       "\n",
       "    .dataframe thead th {\n",
       "        text-align: right;\n",
       "    }\n",
       "</style>\n",
       "<table border=\"1\" class=\"dataframe\">\n",
       "  <thead>\n",
       "    <tr style=\"text-align: right;\">\n",
       "      <th></th>\n",
       "      <th>date</th>\n",
       "      <th>time</th>\n",
       "      <th>timezone</th>\n",
       "      <th>MACB</th>\n",
       "      <th>source</th>\n",
       "      <th>sourcetype</th>\n",
       "      <th>type</th>\n",
       "      <th>user</th>\n",
       "      <th>host</th>\n",
       "      <th>short</th>\n",
       "      <th>desc</th>\n",
       "      <th>version</th>\n",
       "      <th>filename</th>\n",
       "      <th>inode</th>\n",
       "      <th>notes</th>\n",
       "      <th>format</th>\n",
       "      <th>extra</th>\n",
       "    </tr>\n",
       "  </thead>\n",
       "  <tbody>\n",
       "    <tr>\n",
       "      <th>0</th>\n",
       "      <td>08/23/2018</td>\n",
       "      <td>00:01:01</td>\n",
       "      <td>UTC</td>\n",
       "      <td>M...</td>\n",
       "      <td>EVT</td>\n",
       "      <td>WinEVTX</td>\n",
       "      <td>Content Modification Time</td>\n",
       "      <td>-</td>\n",
       "      <td>-</td>\n",
       "      <td>[107 / 0x006b] Strings: ['\\Microsoft\\Windows\\W...</td>\n",
       "      <td>[107 / 0x006b] Source Name: Microsoft-Windows-...</td>\n",
       "      <td>2</td>\n",
       "      <td>OS:E:\\C\\Windows\\system32\\winevt\\logs\\Microsoft...</td>\n",
       "      <td>0</td>\n",
       "      <td>-</td>\n",
       "      <td>winevtx</td>\n",
       "      <td>recovered: False; sha256_hash: cde410aa7b94ef1...</td>\n",
       "    </tr>\n",
       "    <tr>\n",
       "      <th>1</th>\n",
       "      <td>08/23/2018</td>\n",
       "      <td>00:01:01</td>\n",
       "      <td>UTC</td>\n",
       "      <td>M...</td>\n",
       "      <td>EVT</td>\n",
       "      <td>WinEVTX</td>\n",
       "      <td>Content Modification Time</td>\n",
       "      <td>-</td>\n",
       "      <td>-</td>\n",
       "      <td>[129 / 0x0081] Strings: ['\\Microsoft\\Windows\\W...</td>\n",
       "      <td>[129 / 0x0081] Source Name: Microsoft-Windows-...</td>\n",
       "      <td>2</td>\n",
       "      <td>OS:E:\\C\\Windows\\system32\\winevt\\logs\\Microsoft...</td>\n",
       "      <td>0</td>\n",
       "      <td>-</td>\n",
       "      <td>winevtx</td>\n",
       "      <td>recovered: False; sha256_hash: cde410aa7b94ef1...</td>\n",
       "    </tr>\n",
       "    <tr>\n",
       "      <th>2</th>\n",
       "      <td>08/23/2018</td>\n",
       "      <td>00:01:01</td>\n",
       "      <td>UTC</td>\n",
       "      <td>M...</td>\n",
       "      <td>EVT</td>\n",
       "      <td>WinEVTX</td>\n",
       "      <td>Content Modification Time</td>\n",
       "      <td>-</td>\n",
       "      <td>-</td>\n",
       "      <td>[100 / 0x0064] Strings: ['\\Microsoft\\Windows\\W...</td>\n",
       "      <td>[100 / 0x0064] Source Name: Microsoft-Windows-...</td>\n",
       "      <td>2</td>\n",
       "      <td>OS:E:\\C\\Windows\\system32\\winevt\\logs\\Microsoft...</td>\n",
       "      <td>0</td>\n",
       "      <td>-</td>\n",
       "      <td>winevtx</td>\n",
       "      <td>recovered: False; sha256_hash: cde410aa7b94ef1...</td>\n",
       "    </tr>\n",
       "    <tr>\n",
       "      <th>3</th>\n",
       "      <td>08/23/2018</td>\n",
       "      <td>00:01:01</td>\n",
       "      <td>UTC</td>\n",
       "      <td>M...</td>\n",
       "      <td>EVT</td>\n",
       "      <td>WinEVTX</td>\n",
       "      <td>Content Modification Time</td>\n",
       "      <td>-</td>\n",
       "      <td>-</td>\n",
       "      <td>[200 / 0x00c8] Strings: ['\\Microsoft\\Windows\\W...</td>\n",
       "      <td>[200 / 0x00c8] Source Name: Microsoft-Windows-...</td>\n",
       "      <td>2</td>\n",
       "      <td>OS:E:\\C\\Windows\\system32\\winevt\\logs\\Microsoft...</td>\n",
       "      <td>0</td>\n",
       "      <td>-</td>\n",
       "      <td>winevtx</td>\n",
       "      <td>recovered: False; sha256_hash: cde410aa7b94ef1...</td>\n",
       "    </tr>\n",
       "    <tr>\n",
       "      <th>4</th>\n",
       "      <td>08/23/2018</td>\n",
       "      <td>00:01:13</td>\n",
       "      <td>UTC</td>\n",
       "      <td>M...</td>\n",
       "      <td>EVT</td>\n",
       "      <td>WinEVTX</td>\n",
       "      <td>Content Modification Time</td>\n",
       "      <td>-</td>\n",
       "      <td>-</td>\n",
       "      <td>[140 / 0x008c] Strings: ['\\Microsoft\\Windows\\W...</td>\n",
       "      <td>[140 / 0x008c] Source Name: Microsoft-Windows-...</td>\n",
       "      <td>2</td>\n",
       "      <td>OS:E:\\C\\Windows\\system32\\winevt\\logs\\Microsoft...</td>\n",
       "      <td>0</td>\n",
       "      <td>-</td>\n",
       "      <td>winevtx</td>\n",
       "      <td>recovered: False; sha256_hash: cde410aa7b94ef1...</td>\n",
       "    </tr>\n",
       "  </tbody>\n",
       "</table>\n",
       "</div>"
      ],
      "text/plain": [
       "         date      time timezone  MACB source sourcetype  \\\n",
       "0  08/23/2018  00:01:01      UTC  M...    EVT    WinEVTX   \n",
       "1  08/23/2018  00:01:01      UTC  M...    EVT    WinEVTX   \n",
       "2  08/23/2018  00:01:01      UTC  M...    EVT    WinEVTX   \n",
       "3  08/23/2018  00:01:01      UTC  M...    EVT    WinEVTX   \n",
       "4  08/23/2018  00:01:13      UTC  M...    EVT    WinEVTX   \n",
       "\n",
       "                        type user host  \\\n",
       "0  Content Modification Time    -    -   \n",
       "1  Content Modification Time    -    -   \n",
       "2  Content Modification Time    -    -   \n",
       "3  Content Modification Time    -    -   \n",
       "4  Content Modification Time    -    -   \n",
       "\n",
       "                                               short  \\\n",
       "0  [107 / 0x006b] Strings: ['\\Microsoft\\Windows\\W...   \n",
       "1  [129 / 0x0081] Strings: ['\\Microsoft\\Windows\\W...   \n",
       "2  [100 / 0x0064] Strings: ['\\Microsoft\\Windows\\W...   \n",
       "3  [200 / 0x00c8] Strings: ['\\Microsoft\\Windows\\W...   \n",
       "4  [140 / 0x008c] Strings: ['\\Microsoft\\Windows\\W...   \n",
       "\n",
       "                                                desc  version  \\\n",
       "0  [107 / 0x006b] Source Name: Microsoft-Windows-...        2   \n",
       "1  [129 / 0x0081] Source Name: Microsoft-Windows-...        2   \n",
       "2  [100 / 0x0064] Source Name: Microsoft-Windows-...        2   \n",
       "3  [200 / 0x00c8] Source Name: Microsoft-Windows-...        2   \n",
       "4  [140 / 0x008c] Source Name: Microsoft-Windows-...        2   \n",
       "\n",
       "                                            filename  inode notes   format  \\\n",
       "0  OS:E:\\C\\Windows\\system32\\winevt\\logs\\Microsoft...      0     -  winevtx   \n",
       "1  OS:E:\\C\\Windows\\system32\\winevt\\logs\\Microsoft...      0     -  winevtx   \n",
       "2  OS:E:\\C\\Windows\\system32\\winevt\\logs\\Microsoft...      0     -  winevtx   \n",
       "3  OS:E:\\C\\Windows\\system32\\winevt\\logs\\Microsoft...      0     -  winevtx   \n",
       "4  OS:E:\\C\\Windows\\system32\\winevt\\logs\\Microsoft...      0     -  winevtx   \n",
       "\n",
       "                                               extra  \n",
       "0  recovered: False; sha256_hash: cde410aa7b94ef1...  \n",
       "1  recovered: False; sha256_hash: cde410aa7b94ef1...  \n",
       "2  recovered: False; sha256_hash: cde410aa7b94ef1...  \n",
       "3  recovered: False; sha256_hash: cde410aa7b94ef1...  \n",
       "4  recovered: False; sha256_hash: cde410aa7b94ef1...  "
      ]
     },
     "execution_count": 4,
     "metadata": {},
     "output_type": "execute_result"
    }
   ],
   "source": [
    "df.head()"
   ]
  },
  {
   "cell_type": "markdown",
   "id": "extraordinary-blood",
   "metadata": {},
   "source": [
    "check the last few values"
   ]
  },
  {
   "cell_type": "code",
   "execution_count": 5,
   "id": "powerful-calculation",
   "metadata": {
    "scrolled": true
   },
   "outputs": [
    {
     "data": {
      "text/html": [
       "<div>\n",
       "<style scoped>\n",
       "    .dataframe tbody tr th:only-of-type {\n",
       "        vertical-align: middle;\n",
       "    }\n",
       "\n",
       "    .dataframe tbody tr th {\n",
       "        vertical-align: top;\n",
       "    }\n",
       "\n",
       "    .dataframe thead th {\n",
       "        text-align: right;\n",
       "    }\n",
       "</style>\n",
       "<table border=\"1\" class=\"dataframe\">\n",
       "  <thead>\n",
       "    <tr style=\"text-align: right;\">\n",
       "      <th></th>\n",
       "      <th>date</th>\n",
       "      <th>time</th>\n",
       "      <th>timezone</th>\n",
       "      <th>MACB</th>\n",
       "      <th>source</th>\n",
       "      <th>sourcetype</th>\n",
       "      <th>type</th>\n",
       "      <th>user</th>\n",
       "      <th>host</th>\n",
       "      <th>short</th>\n",
       "      <th>desc</th>\n",
       "      <th>version</th>\n",
       "      <th>filename</th>\n",
       "      <th>inode</th>\n",
       "      <th>notes</th>\n",
       "      <th>format</th>\n",
       "      <th>extra</th>\n",
       "    </tr>\n",
       "  </thead>\n",
       "  <tbody>\n",
       "    <tr>\n",
       "      <th>185161</th>\n",
       "      <td>09/06/2018</td>\n",
       "      <td>23:58:34</td>\n",
       "      <td>UTC</td>\n",
       "      <td>M...</td>\n",
       "      <td>EVT</td>\n",
       "      <td>WinEVTX</td>\n",
       "      <td>Content Modification Time</td>\n",
       "      <td>-</td>\n",
       "      <td>-</td>\n",
       "      <td>[1223 / 0x04c7] Strings: ['BND'  '3'  'CON\\QOS...</td>\n",
       "      <td>[1223 / 0x04c7] Source Name: Microsoft-Windows...</td>\n",
       "      <td>2</td>\n",
       "      <td>OS:E:\\C\\Windows\\system32\\winevt\\logs\\Microsoft...</td>\n",
       "      <td>0</td>\n",
       "      <td>-</td>\n",
       "      <td>winevtx</td>\n",
       "      <td>recovered: False; sha256_hash: a677ac5be58f722...</td>\n",
       "    </tr>\n",
       "    <tr>\n",
       "      <th>185162</th>\n",
       "      <td>09/06/2018</td>\n",
       "      <td>23:58:34</td>\n",
       "      <td>UTC</td>\n",
       "      <td>M...</td>\n",
       "      <td>EVT</td>\n",
       "      <td>WinEVTX</td>\n",
       "      <td>Content Modification Time</td>\n",
       "      <td>-</td>\n",
       "      <td>-</td>\n",
       "      <td>[1267 / 0x04f3] Strings: ['BND'  '3'  'CON\\QOS...</td>\n",
       "      <td>[1267 / 0x04f3] Source Name: Microsoft-Windows...</td>\n",
       "      <td>2</td>\n",
       "      <td>OS:E:\\C\\Windows\\system32\\winevt\\logs\\Microsoft...</td>\n",
       "      <td>0</td>\n",
       "      <td>-</td>\n",
       "      <td>winevtx</td>\n",
       "      <td>recovered: False; sha256_hash: a677ac5be58f722...</td>\n",
       "    </tr>\n",
       "    <tr>\n",
       "      <th>185163</th>\n",
       "      <td>09/06/2018</td>\n",
       "      <td>23:59:03</td>\n",
       "      <td>UTC</td>\n",
       "      <td>M...</td>\n",
       "      <td>EVT</td>\n",
       "      <td>WinEVTX</td>\n",
       "      <td>Content Modification Time</td>\n",
       "      <td>-</td>\n",
       "      <td>-</td>\n",
       "      <td>[145 / 0x0091] Strings: ['Enumeration'  'http:...</td>\n",
       "      <td>[145 / 0x0091] Source Name: Microsoft-Windows-...</td>\n",
       "      <td>2</td>\n",
       "      <td>OS:E:\\C\\Windows\\system32\\winevt\\logs\\Microsoft...</td>\n",
       "      <td>0</td>\n",
       "      <td>-</td>\n",
       "      <td>winevtx</td>\n",
       "      <td>recovered: False; sha256_hash: 6807dc60332085a...</td>\n",
       "    </tr>\n",
       "    <tr>\n",
       "      <th>185164</th>\n",
       "      <td>09/06/2018</td>\n",
       "      <td>23:59:03</td>\n",
       "      <td>UTC</td>\n",
       "      <td>M...</td>\n",
       "      <td>EVT</td>\n",
       "      <td>WinEVTX</td>\n",
       "      <td>Content Modification Time</td>\n",
       "      <td>-</td>\n",
       "      <td>-</td>\n",
       "      <td>[132 / 0x0084] Strings: ['Enumeration']</td>\n",
       "      <td>[132 / 0x0084] Source Name: Microsoft-Windows-...</td>\n",
       "      <td>2</td>\n",
       "      <td>OS:E:\\C\\Windows\\system32\\winevt\\logs\\Microsoft...</td>\n",
       "      <td>0</td>\n",
       "      <td>-</td>\n",
       "      <td>winevtx</td>\n",
       "      <td>recovered: False; sha256_hash: 6807dc60332085a...</td>\n",
       "    </tr>\n",
       "    <tr>\n",
       "      <th>185165</th>\n",
       "      <td>09/06/2018</td>\n",
       "      <td>23:59:15</td>\n",
       "      <td>UTC</td>\n",
       "      <td>M...</td>\n",
       "      <td>EVT</td>\n",
       "      <td>WinEVTX</td>\n",
       "      <td>Content Modification Time</td>\n",
       "      <td>-</td>\n",
       "      <td>-</td>\n",
       "      <td>[5857 / 0x16e1] Strings: ['WmiPerfInst'  '0x00...</td>\n",
       "      <td>[5857 / 0x16e1] Source Name: Microsoft-Windows...</td>\n",
       "      <td>2</td>\n",
       "      <td>OS:E:\\C\\Windows\\system32\\winevt\\logs\\Microsoft...</td>\n",
       "      <td>0</td>\n",
       "      <td>-</td>\n",
       "      <td>winevtx</td>\n",
       "      <td>recovered: False; sha256_hash: 14f3fb53ec0b7de...</td>\n",
       "    </tr>\n",
       "  </tbody>\n",
       "</table>\n",
       "</div>"
      ],
      "text/plain": [
       "              date      time timezone  MACB source sourcetype  \\\n",
       "185161  09/06/2018  23:58:34      UTC  M...    EVT    WinEVTX   \n",
       "185162  09/06/2018  23:58:34      UTC  M...    EVT    WinEVTX   \n",
       "185163  09/06/2018  23:59:03      UTC  M...    EVT    WinEVTX   \n",
       "185164  09/06/2018  23:59:03      UTC  M...    EVT    WinEVTX   \n",
       "185165  09/06/2018  23:59:15      UTC  M...    EVT    WinEVTX   \n",
       "\n",
       "                             type user host  \\\n",
       "185161  Content Modification Time    -    -   \n",
       "185162  Content Modification Time    -    -   \n",
       "185163  Content Modification Time    -    -   \n",
       "185164  Content Modification Time    -    -   \n",
       "185165  Content Modification Time    -    -   \n",
       "\n",
       "                                                    short  \\\n",
       "185161  [1223 / 0x04c7] Strings: ['BND'  '3'  'CON\\QOS...   \n",
       "185162  [1267 / 0x04f3] Strings: ['BND'  '3'  'CON\\QOS...   \n",
       "185163  [145 / 0x0091] Strings: ['Enumeration'  'http:...   \n",
       "185164            [132 / 0x0084] Strings: ['Enumeration']   \n",
       "185165  [5857 / 0x16e1] Strings: ['WmiPerfInst'  '0x00...   \n",
       "\n",
       "                                                     desc  version  \\\n",
       "185161  [1223 / 0x04c7] Source Name: Microsoft-Windows...        2   \n",
       "185162  [1267 / 0x04f3] Source Name: Microsoft-Windows...        2   \n",
       "185163  [145 / 0x0091] Source Name: Microsoft-Windows-...        2   \n",
       "185164  [132 / 0x0084] Source Name: Microsoft-Windows-...        2   \n",
       "185165  [5857 / 0x16e1] Source Name: Microsoft-Windows...        2   \n",
       "\n",
       "                                                 filename  inode notes  \\\n",
       "185161  OS:E:\\C\\Windows\\system32\\winevt\\logs\\Microsoft...      0     -   \n",
       "185162  OS:E:\\C\\Windows\\system32\\winevt\\logs\\Microsoft...      0     -   \n",
       "185163  OS:E:\\C\\Windows\\system32\\winevt\\logs\\Microsoft...      0     -   \n",
       "185164  OS:E:\\C\\Windows\\system32\\winevt\\logs\\Microsoft...      0     -   \n",
       "185165  OS:E:\\C\\Windows\\system32\\winevt\\logs\\Microsoft...      0     -   \n",
       "\n",
       "         format                                              extra  \n",
       "185161  winevtx  recovered: False; sha256_hash: a677ac5be58f722...  \n",
       "185162  winevtx  recovered: False; sha256_hash: a677ac5be58f722...  \n",
       "185163  winevtx  recovered: False; sha256_hash: 6807dc60332085a...  \n",
       "185164  winevtx  recovered: False; sha256_hash: 6807dc60332085a...  \n",
       "185165  winevtx  recovered: False; sha256_hash: 14f3fb53ec0b7de...  "
      ]
     },
     "execution_count": 5,
     "metadata": {},
     "output_type": "execute_result"
    }
   ],
   "source": [
    "df.tail()"
   ]
  },
  {
   "cell_type": "markdown",
   "id": "fatty-dancing",
   "metadata": {},
   "source": [
    "check the column names"
   ]
  },
  {
   "cell_type": "code",
   "execution_count": 6,
   "id": "universal-preview",
   "metadata": {},
   "outputs": [
    {
     "data": {
      "text/plain": [
       "Index(['date', 'time', 'timezone', 'MACB', 'source', 'sourcetype', 'type',\n",
       "       'user', 'host', 'short', 'desc', 'version', 'filename', 'inode',\n",
       "       'notes', 'format', 'extra'],\n",
       "      dtype='object')"
      ]
     },
     "execution_count": 6,
     "metadata": {},
     "output_type": "execute_result"
    }
   ],
   "source": [
    "df.columns\n",
    "\n",
    "\n"
   ]
  },
  {
   "cell_type": "code",
   "execution_count": 7,
   "id": "funded-savannah",
   "metadata": {
    "scrolled": true
   },
   "outputs": [
    {
     "data": {
      "text/plain": [
       "Index(['date', 'time', 'timezone', 'MACB', 'source', 'sourcetype', 'type',\n",
       "       'user', 'host', 'short', 'desc', 'version', 'filename', 'inode',\n",
       "       'notes', 'format', 'extra'],\n",
       "      dtype='object')"
      ]
     },
     "execution_count": 7,
     "metadata": {},
     "output_type": "execute_result"
    }
   ],
   "source": [
    "df.columns"
   ]
  },
  {
   "cell_type": "markdown",
   "id": "governmental-fundamental",
   "metadata": {},
   "source": [
    "check the unique values in each column"
   ]
  },
  {
   "cell_type": "code",
   "execution_count": 8,
   "id": "social-pennsylvania",
   "metadata": {},
   "outputs": [
    {
     "data": {
      "text/plain": [
       "array(['08/23/2018', '08/24/2018', '08/25/2018', '08/26/2018',\n",
       "       '08/27/2018', '08/28/2018', '08/29/2018', '08/30/2018',\n",
       "       '08/31/2018', '09/01/2018', '09/02/2018', '09/03/2018',\n",
       "       '09/04/2018', '09/05/2018', '09/06/2018'], dtype=object)"
      ]
     },
     "execution_count": 8,
     "metadata": {},
     "output_type": "execute_result"
    }
   ],
   "source": [
    "df['date'].unique()"
   ]
  },
  {
   "cell_type": "markdown",
   "id": "engaging-personal",
   "metadata": {},
   "source": [
    "all the dates are in August and September 2018. "
   ]
  },
  {
   "cell_type": "markdown",
   "id": "simplified-contrast",
   "metadata": {},
   "source": [
    "wide range of time values (24 hour clock and seconds recorded)"
   ]
  },
  {
   "cell_type": "code",
   "execution_count": 9,
   "id": "lovely-respect",
   "metadata": {},
   "outputs": [
    {
     "data": {
      "text/plain": [
       "15"
      ]
     },
     "execution_count": 9,
     "metadata": {},
     "output_type": "execute_result"
    }
   ],
   "source": [
    "df['date'].nunique()"
   ]
  },
  {
   "cell_type": "markdown",
   "id": "matched-broadcasting",
   "metadata": {},
   "source": [
    "There are 15 dates"
   ]
  },
  {
   "cell_type": "code",
   "execution_count": 10,
   "id": "declared-yesterday",
   "metadata": {},
   "outputs": [
    {
     "data": {
      "text/plain": [
       "array(['00:01:01', '00:01:13', '00:03:22', ..., '23:58:32', '23:59:03',\n",
       "       '23:59:15'], dtype=object)"
      ]
     },
     "execution_count": 10,
     "metadata": {},
     "output_type": "execute_result"
    }
   ],
   "source": [
    "df.time.unique()"
   ]
  },
  {
   "cell_type": "code",
   "execution_count": 11,
   "id": "adjacent-extent",
   "metadata": {},
   "outputs": [
    {
     "data": {
      "text/plain": [
       "34868"
      ]
     },
     "execution_count": 11,
     "metadata": {},
     "output_type": "execute_result"
    }
   ],
   "source": [
    "df.time.nunique()"
   ]
  },
  {
   "cell_type": "markdown",
   "id": "compound-photograph",
   "metadata": {},
   "source": [
    "loads of time intervals"
   ]
  },
  {
   "cell_type": "code",
   "execution_count": 12,
   "id": "immediate-killer",
   "metadata": {},
   "outputs": [
    {
     "data": {
      "text/plain": [
       "array(['UTC'], dtype=object)"
      ]
     },
     "execution_count": 12,
     "metadata": {},
     "output_type": "execute_result"
    }
   ],
   "source": [
    "df.timezone.unique()"
   ]
  },
  {
   "cell_type": "markdown",
   "id": "recreational-partner",
   "metadata": {},
   "source": [
    "One timezone Universal time"
   ]
  },
  {
   "cell_type": "code",
   "execution_count": 13,
   "id": "marine-promotion",
   "metadata": {},
   "outputs": [
    {
     "data": {
      "text/plain": [
       "1"
      ]
     },
     "execution_count": 13,
     "metadata": {},
     "output_type": "execute_result"
    }
   ],
   "source": [
    "df.timezone.nunique()"
   ]
  },
  {
   "cell_type": "code",
   "execution_count": 14,
   "id": "imposed-insider",
   "metadata": {},
   "outputs": [
    {
     "data": {
      "text/plain": [
       "array(['M...', '....', 'MACB', '.A..', '...B', 'MA.B', 'MAC.', '..CB',\n",
       "       '.A.B', '.ACB', '..C.', '.AC.', 'MA..', 'M.C.', 'M..B'],\n",
       "      dtype=object)"
      ]
     },
     "execution_count": 14,
     "metadata": {},
     "output_type": "execute_result"
    }
   ],
   "source": [
    "df.MACB.unique()"
   ]
  },
  {
   "cell_type": "markdown",
   "id": "fuzzy-punishment",
   "metadata": {},
   "source": [
    "The MACB notation refers to window events for files/directories. See the flyer below. It looks like the ... refers to no change and the letter M, A, C, B refers to the file being modified, accessed, create or \n",
    "Seamus's slides note the following\n",
    "\n",
    "### Timestamp metadata\n",
    "* M –Data content last modified\n",
    "* A –Data content last accessed\n",
    "* C –Metadata content changed on MFT\n",
    "* B –Metadata first created (Birth)\n",
    "\n",
    "![Picure](images/PosterSANS-1024x715.png)"
   ]
  },
  {
   "cell_type": "code",
   "execution_count": 15,
   "id": "collaborative-stylus",
   "metadata": {},
   "outputs": [
    {
     "data": {
      "text/plain": [
       "15"
      ]
     },
     "execution_count": 15,
     "metadata": {},
     "output_type": "execute_result"
    }
   ],
   "source": [
    "df.MACB.nunique()"
   ]
  },
  {
   "cell_type": "markdown",
   "id": "typical-civilian",
   "metadata": {},
   "source": [
    "There is 15 different combos"
   ]
  },
  {
   "cell_type": "code",
   "execution_count": 16,
   "id": "empty-amount",
   "metadata": {
    "scrolled": true
   },
   "outputs": [
    {
     "data": {
      "text/plain": [
       "array(['EVT', 'WEBHIST', 'LOG', 'FILE', 'REG', 'PE', 'LNK', 'OLECF',\n",
       "       'META', 'RECBIN'], dtype=object)"
      ]
     },
     "execution_count": 16,
     "metadata": {},
     "output_type": "execute_result"
    }
   ],
   "source": [
    "df.source.unique()"
   ]
  },
  {
   "cell_type": "markdown",
   "id": "amateur-freeware",
   "metadata": {},
   "source": [
    "This looks like info regarding to where the file came from, event, web history, logs, file, registry, pe?, link, olecf?, meta data, recycling bin. (looked up pe and its portable executable file, olecf is an embedded object)"
   ]
  },
  {
   "cell_type": "code",
   "execution_count": 17,
   "id": "toxic-correspondence",
   "metadata": {},
   "outputs": [
    {
     "data": {
      "text/plain": [
       "10"
      ]
     },
     "execution_count": 17,
     "metadata": {},
     "output_type": "execute_result"
    }
   ],
   "source": [
    "df.source.nunique()"
   ]
  },
  {
   "cell_type": "markdown",
   "id": "accepting-toolbox",
   "metadata": {},
   "source": [
    "10 different types of sources of data"
   ]
  },
  {
   "cell_type": "code",
   "execution_count": 18,
   "id": "sensitive-blond",
   "metadata": {},
   "outputs": [
    {
     "data": {
      "text/plain": [
       "array(['WinEVTX', 'Chrome Cookies', 'WinPrefetch', 'Mactime Bodyfile',\n",
       "       'UNKNOWN', 'AppCompatCache Registry Entry', 'Chrome Cache',\n",
       "       'PE Compilation time', 'Windows Shortcut', 'File entry shell item',\n",
       "       'Task Cache', 'System', 'Chrome History', 'UNKNOWN : BagMRU', nan,\n",
       "       'Chrome Extensions Autoupdater', 'UNKNOWN : MRUListEx',\n",
       "       'OLECF Item', 'Chrome Extension Installation',\n",
       "       'Registry Key: UserAssist', 'Open XML Metadata',\n",
       "       'UNKNOWN : Network Drive', 'UNKNOWN : Typed URLs',\n",
       "       'UNKNOWN : Run Key', 'UNKNOWN : MRU List',\n",
       "       'UNKNOWN : RDP Connection', 'Recycle Bin',\n",
       "       'System: Network Connection', 'Registry Key Shutdown Entry',\n",
       "       'UNKNOWN : Winlogon'], dtype=object)"
      ]
     },
     "execution_count": 18,
     "metadata": {},
     "output_type": "execute_result"
    }
   ],
   "source": [
    "df.sourcetype.unique()"
   ]
  },
  {
   "cell_type": "markdown",
   "id": "leading-arctic",
   "metadata": {},
   "source": [
    "This looks like a sub division of source eg. winevtx is probably windows event files and part of event data. Chrome cookies is part of web history  as is Chrome Cache and Chrome History  (I imagine). Do a quick check to see if thats true "
   ]
  },
  {
   "cell_type": "code",
   "execution_count": 19,
   "id": "romance-driver",
   "metadata": {},
   "outputs": [
    {
     "data": {
      "text/html": [
       "<div>\n",
       "<style scoped>\n",
       "    .dataframe tbody tr th:only-of-type {\n",
       "        vertical-align: middle;\n",
       "    }\n",
       "\n",
       "    .dataframe tbody tr th {\n",
       "        vertical-align: top;\n",
       "    }\n",
       "\n",
       "    .dataframe thead th {\n",
       "        text-align: right;\n",
       "    }\n",
       "</style>\n",
       "<table border=\"1\" class=\"dataframe\">\n",
       "  <thead>\n",
       "    <tr style=\"text-align: right;\">\n",
       "      <th></th>\n",
       "      <th>source</th>\n",
       "      <th>sourcetype</th>\n",
       "    </tr>\n",
       "  </thead>\n",
       "  <tbody>\n",
       "    <tr>\n",
       "      <th>17771</th>\n",
       "      <td>WEBHIST</td>\n",
       "      <td>Chrome History</td>\n",
       "    </tr>\n",
       "    <tr>\n",
       "      <th>17772</th>\n",
       "      <td>WEBHIST</td>\n",
       "      <td>Chrome History</td>\n",
       "    </tr>\n",
       "    <tr>\n",
       "      <th>17849</th>\n",
       "      <td>WEBHIST</td>\n",
       "      <td>Chrome History</td>\n",
       "    </tr>\n",
       "    <tr>\n",
       "      <th>17916</th>\n",
       "      <td>WEBHIST</td>\n",
       "      <td>Chrome History</td>\n",
       "    </tr>\n",
       "    <tr>\n",
       "      <th>17927</th>\n",
       "      <td>WEBHIST</td>\n",
       "      <td>Chrome History</td>\n",
       "    </tr>\n",
       "    <tr>\n",
       "      <th>...</th>\n",
       "      <td>...</td>\n",
       "      <td>...</td>\n",
       "    </tr>\n",
       "    <tr>\n",
       "      <th>20402</th>\n",
       "      <td>WEBHIST</td>\n",
       "      <td>Chrome History</td>\n",
       "    </tr>\n",
       "    <tr>\n",
       "      <th>20403</th>\n",
       "      <td>WEBHIST</td>\n",
       "      <td>Chrome History</td>\n",
       "    </tr>\n",
       "    <tr>\n",
       "      <th>21003</th>\n",
       "      <td>WEBHIST</td>\n",
       "      <td>Chrome History</td>\n",
       "    </tr>\n",
       "    <tr>\n",
       "      <th>21004</th>\n",
       "      <td>WEBHIST</td>\n",
       "      <td>Chrome History</td>\n",
       "    </tr>\n",
       "    <tr>\n",
       "      <th>21008</th>\n",
       "      <td>WEBHIST</td>\n",
       "      <td>Chrome History</td>\n",
       "    </tr>\n",
       "  </tbody>\n",
       "</table>\n",
       "<p>95 rows × 2 columns</p>\n",
       "</div>"
      ],
      "text/plain": [
       "        source      sourcetype\n",
       "17771  WEBHIST  Chrome History\n",
       "17772  WEBHIST  Chrome History\n",
       "17849  WEBHIST  Chrome History\n",
       "17916  WEBHIST  Chrome History\n",
       "17927  WEBHIST  Chrome History\n",
       "...        ...             ...\n",
       "20402  WEBHIST  Chrome History\n",
       "20403  WEBHIST  Chrome History\n",
       "21003  WEBHIST  Chrome History\n",
       "21004  WEBHIST  Chrome History\n",
       "21008  WEBHIST  Chrome History\n",
       "\n",
       "[95 rows x 2 columns]"
      ]
     },
     "execution_count": 19,
     "metadata": {},
     "output_type": "execute_result"
    }
   ],
   "source": [
    "df[['source', 'sourcetype']][(df['source']=='WEBHIST') & ((df['sourcetype']=='Chrome History'))]\n",
    "\n",
    "\n"
   ]
  },
  {
   "cell_type": "code",
   "execution_count": 20,
   "id": "coral-phenomenon",
   "metadata": {},
   "outputs": [
    {
     "data": {
      "text/html": [
       "<div>\n",
       "<style scoped>\n",
       "    .dataframe tbody tr th:only-of-type {\n",
       "        vertical-align: middle;\n",
       "    }\n",
       "\n",
       "    .dataframe tbody tr th {\n",
       "        vertical-align: top;\n",
       "    }\n",
       "\n",
       "    .dataframe thead th {\n",
       "        text-align: right;\n",
       "    }\n",
       "</style>\n",
       "<table border=\"1\" class=\"dataframe\">\n",
       "  <thead>\n",
       "    <tr style=\"text-align: right;\">\n",
       "      <th></th>\n",
       "      <th>source</th>\n",
       "      <th>sourcetype</th>\n",
       "    </tr>\n",
       "  </thead>\n",
       "  <tbody>\n",
       "    <tr>\n",
       "      <th>43</th>\n",
       "      <td>WEBHIST</td>\n",
       "      <td>Chrome Cookies</td>\n",
       "    </tr>\n",
       "    <tr>\n",
       "      <th>44</th>\n",
       "      <td>WEBHIST</td>\n",
       "      <td>Chrome Cookies</td>\n",
       "    </tr>\n",
       "    <tr>\n",
       "      <th>65</th>\n",
       "      <td>WEBHIST</td>\n",
       "      <td>Chrome Cookies</td>\n",
       "    </tr>\n",
       "    <tr>\n",
       "      <th>66</th>\n",
       "      <td>WEBHIST</td>\n",
       "      <td>Chrome Cookies</td>\n",
       "    </tr>\n",
       "    <tr>\n",
       "      <th>5309</th>\n",
       "      <td>WEBHIST</td>\n",
       "      <td>Chrome Cookies</td>\n",
       "    </tr>\n",
       "    <tr>\n",
       "      <th>...</th>\n",
       "      <td>...</td>\n",
       "      <td>...</td>\n",
       "    </tr>\n",
       "    <tr>\n",
       "      <th>173901</th>\n",
       "      <td>WEBHIST</td>\n",
       "      <td>Chrome Cookies</td>\n",
       "    </tr>\n",
       "    <tr>\n",
       "      <th>173902</th>\n",
       "      <td>WEBHIST</td>\n",
       "      <td>Chrome Cookies</td>\n",
       "    </tr>\n",
       "    <tr>\n",
       "      <th>173903</th>\n",
       "      <td>WEBHIST</td>\n",
       "      <td>Chrome Cookies</td>\n",
       "    </tr>\n",
       "    <tr>\n",
       "      <th>173904</th>\n",
       "      <td>WEBHIST</td>\n",
       "      <td>Chrome Cookies</td>\n",
       "    </tr>\n",
       "    <tr>\n",
       "      <th>173905</th>\n",
       "      <td>WEBHIST</td>\n",
       "      <td>Chrome Cookies</td>\n",
       "    </tr>\n",
       "  </tbody>\n",
       "</table>\n",
       "<p>976 rows × 2 columns</p>\n",
       "</div>"
      ],
      "text/plain": [
       "         source      sourcetype\n",
       "43      WEBHIST  Chrome Cookies\n",
       "44      WEBHIST  Chrome Cookies\n",
       "65      WEBHIST  Chrome Cookies\n",
       "66      WEBHIST  Chrome Cookies\n",
       "5309    WEBHIST  Chrome Cookies\n",
       "...         ...             ...\n",
       "173901  WEBHIST  Chrome Cookies\n",
       "173902  WEBHIST  Chrome Cookies\n",
       "173903  WEBHIST  Chrome Cookies\n",
       "173904  WEBHIST  Chrome Cookies\n",
       "173905  WEBHIST  Chrome Cookies\n",
       "\n",
       "[976 rows x 2 columns]"
      ]
     },
     "execution_count": 20,
     "metadata": {},
     "output_type": "execute_result"
    }
   ],
   "source": [
    "df[['source', 'sourcetype']][(df['source']=='WEBHIST') & ((df['sourcetype']=='Chrome Cookies'))]"
   ]
  },
  {
   "cell_type": "code",
   "execution_count": 21,
   "id": "enabling-reader",
   "metadata": {},
   "outputs": [
    {
     "data": {
      "text/plain": [
       "29"
      ]
     },
     "execution_count": 21,
     "metadata": {},
     "output_type": "execute_result"
    }
   ],
   "source": [
    "df.sourcetype.nunique()"
   ]
  },
  {
   "cell_type": "markdown",
   "id": "executive-lending",
   "metadata": {},
   "source": [
    "There is 29 source types. I wonder how they brake down by source?"
   ]
  },
  {
   "cell_type": "code",
   "execution_count": 22,
   "id": "sapphire-width",
   "metadata": {},
   "outputs": [
    {
     "data": {
      "text/plain": [
       "source   sourcetype                   \n",
       "EVT      WinEVTX                          152724\n",
       "FILE     Mactime Bodyfile                   8394\n",
       "         File entry shell item               375\n",
       "LNK      Windows Shortcut                    258\n",
       "LOG      WinPrefetch                         828\n",
       "         System                              225\n",
       "         Chrome Extension Installation        17\n",
       "         Chrome Extensions Autoupdater         3\n",
       "         System: Network Connection            1\n",
       "META     Open XML Metadata                     1\n",
       "OLECF    OLECF Item                           29\n",
       "PE       PE Compilation time                   7\n",
       "RECBIN   Recycle Bin                           1\n",
       "REG      UNKNOWN                           17080\n",
       "         UNKNOWN : BagMRU                    194\n",
       "         Task Cache                          158\n",
       "         UNKNOWN : MRUListEx                  40\n",
       "         AppCompatCache Registry Entry        36\n",
       "         Registry Key: UserAssist             34\n",
       "         UNKNOWN : MRU List                   10\n",
       "         UNKNOWN : RDP Connection              7\n",
       "         UNKNOWN : Run Key                     3\n",
       "         UNKNOWN : Winlogon                    3\n",
       "         UNKNOWN : Typed URLs                  2\n",
       "         Registry Key Shutdown Entry           1\n",
       "         UNKNOWN : Network Drive               1\n",
       "WEBHIST  Chrome Cache                       3538\n",
       "         Chrome Cookies                      976\n",
       "         Chrome History                       95\n",
       "Name: sourcetype, dtype: int64"
      ]
     },
     "execution_count": 22,
     "metadata": {},
     "output_type": "execute_result"
    }
   ],
   "source": [
    "df.groupby(['source'])['sourcetype'].value_counts()"
   ]
  },
  {
   "cell_type": "markdown",
   "id": "welcome-liechtenstein",
   "metadata": {},
   "source": [
    "all evt are windows eventx artifacts"
   ]
  },
  {
   "cell_type": "code",
   "execution_count": 23,
   "id": "contrary-carrier",
   "metadata": {},
   "outputs": [
    {
     "data": {
      "text/plain": [
       "array(['Content Modification Time', 'Expiration Time',\n",
       "       'Previous Last Time Executed',\n",
       "       'Content Modification Time; Creation Time; Last Access Time; Metadata Modification Time',\n",
       "       'File Last Modification Time', 'Last Visited Time',\n",
       "       'Creation Time',\n",
       "       'Content Modification Time; Creation Time; Last Access Time',\n",
       "       'Content Modification Time; Last Access Time; Metadata Modification Time',\n",
       "       'Creation Time; Metadata Modification Time',\n",
       "       'Creation Time; Last Access Time',\n",
       "       'Creation Time; Last Access Time; Metadata Modification Time',\n",
       "       'Metadata Modification Time',\n",
       "       'Last Access Time; Metadata Modification Time',\n",
       "       'Content Modification Time; Last Access Time',\n",
       "       'Content Modification Time; Metadata Modification Time',\n",
       "       'Last registered time', 'Last Access Time',\n",
       "       'Content Modification Time; Creation Time', 'Last Time Executed',\n",
       "       'File Downloaded', 'Unknown Time', 'Launch time',\n",
       "       'Content Deletion Time', 'Last Connection Time',\n",
       "       'Last Shutdown Time'], dtype=object)"
      ]
     },
     "execution_count": 23,
     "metadata": {},
     "output_type": "execute_result"
    }
   ],
   "source": [
    "df.type.unique()"
   ]
  },
  {
   "cell_type": "markdown",
   "id": "mighty-correction",
   "metadata": {},
   "source": [
    "Type appears to be the readable form of MACB. "
   ]
  },
  {
   "cell_type": "code",
   "execution_count": 24,
   "id": "coupled-russian",
   "metadata": {},
   "outputs": [
    {
     "data": {
      "text/plain": [
       "26"
      ]
     },
     "execution_count": 24,
     "metadata": {},
     "output_type": "execute_result"
    }
   ],
   "source": [
    "df.type.nunique()"
   ]
  },
  {
   "cell_type": "markdown",
   "id": "narrow-tribute",
   "metadata": {},
   "source": [
    "however there are not the same number of unique MACB's as types"
   ]
  },
  {
   "cell_type": "code",
   "execution_count": 25,
   "id": "initial-fusion",
   "metadata": {},
   "outputs": [
    {
     "data": {
      "text/plain": [
       "11"
      ]
     },
     "execution_count": 25,
     "metadata": {},
     "output_type": "execute_result"
    }
   ],
   "source": [
    "df.type.nunique()-df.MACB.nunique()"
   ]
  },
  {
   "cell_type": "code",
   "execution_count": 26,
   "id": "stuck-venture",
   "metadata": {},
   "outputs": [
    {
     "data": {
      "text/plain": [
       "source   MACB  type                                                                                  \n",
       "EVT      M...  Content Modification Time                                                                 152724\n",
       "FILE     ...B  Creation Time                                                                                214\n",
       "         ..C.  Metadata Modification Time                                                                  5511\n",
       "         ..CB  Creation Time; Metadata Modification Time                                                      2\n",
       "         .A..  Last Access Time                                                                              80\n",
       "         .A.B  Creation Time; Last Access Time                                                              583\n",
       "         .AC.  Last Access Time; Metadata Modification Time                                                  14\n",
       "         .ACB  Creation Time; Last Access Time; Metadata Modification Time                                   47\n",
       "         M...  Content Modification Time                                                                    277\n",
       "         M..B  Content Modification Time; Creation Time                                                      20\n",
       "         M.C.  Content Modification Time; Metadata Modification Time                                        635\n",
       "         MA..  Content Modification Time; Last Access Time                                                  230\n",
       "         MA.B  Content Modification Time; Creation Time; Last Access Time                                   215\n",
       "         MAC.  Content Modification Time; Last Access Time; Metadata Modification Time                      287\n",
       "         MACB  Content Modification Time; Creation Time; Last Access Time; Metadata Modification Time       654\n",
       "LNK      ...B  Creation Time                                                                                 80\n",
       "         .A..  Last Access Time                                                                              32\n",
       "         .A.B  Creation Time; Last Access Time                                                               22\n",
       "         M...  Content Modification Time                                                                     51\n",
       "         MA..  Content Modification Time; Last Access Time                                                   65\n",
       "         MA.B  Content Modification Time; Creation Time; Last Access Time                                     8\n",
       "LOG      ....  Previous Last Time Executed                                                                  663\n",
       "         ...B  Creation Time                                                                                245\n",
       "         .A..  Last Time Executed                                                                           165\n",
       "               Last Connection Time                                                                           1\n",
       "         M...  Content Modification Time                                                                    125\n",
       "META     M...  Content Modification Time                                                                      1\n",
       "OLECF    M...  Content Modification Time                                                                     29\n",
       "PE       ...B  Creation Time                                                                                  7\n",
       "RECBIN   M...  Content Deletion Time                                                                          1\n",
       "REG      ....  Launch time                                                                                   76\n",
       "               Unknown Time                                                                                  75\n",
       "               File Last Modification Time                                                                   36\n",
       "               Last registered time                                                                           7\n",
       "         .A..  Last Time Executed                                                                            34\n",
       "               Last Shutdown Time                                                                             1\n",
       "         M...  Content Modification Time                                                                  17340\n",
       "WEBHIST  ....  Expiration Time                                                                              141\n",
       "         ...B  Creation Time                                                                                140\n",
       "               File Downloaded                                                                               50\n",
       "         .A..  Last Visited Time                                                                           3583\n",
       "               Last Access Time                                                                             576\n",
       "         .A.B  Creation Time; Last Access Time                                                              119\n",
       "Name: type, dtype: int64"
      ]
     },
     "execution_count": 26,
     "metadata": {},
     "output_type": "execute_result"
    }
   ],
   "source": [
    "df.groupby([ 'source','MACB'])['type'].value_counts()"
   ]
  },
  {
   "cell_type": "markdown",
   "id": "bottom-warrior",
   "metadata": {},
   "source": [
    "note that M... means a few things depending on where it is (source)"
   ]
  },
  {
   "cell_type": "markdown",
   "id": "vulnerable-lingerie",
   "metadata": {},
   "source": [
    "Events is the most frequent type of artifact here by a long shot. I'd be interested in looking at the File Download, and Reg Launch Time and File Creation Time and PE creation time and RECBIN Content deletion time. TODO.  "
   ]
  },
  {
   "cell_type": "code",
   "execution_count": 27,
   "id": "promising-moscow",
   "metadata": {},
   "outputs": [
    {
     "data": {
      "text/plain": [
       "array(['-'], dtype=object)"
      ]
     },
     "execution_count": 27,
     "metadata": {},
     "output_type": "execute_result"
    }
   ],
   "source": [
    "df.user.unique()"
   ]
  },
  {
   "cell_type": "code",
   "execution_count": 28,
   "id": "fatty-bathroom",
   "metadata": {},
   "outputs": [
    {
     "data": {
      "text/plain": [
       "1"
      ]
     },
     "execution_count": 28,
     "metadata": {},
     "output_type": "execute_result"
    }
   ],
   "source": [
    "df.user.nunique()"
   ]
  },
  {
   "cell_type": "markdown",
   "id": "smart-marker",
   "metadata": {},
   "source": [
    "Nothing of interest with user"
   ]
  },
  {
   "cell_type": "code",
   "execution_count": 29,
   "id": "temporal-native",
   "metadata": {},
   "outputs": [
    {
     "data": {
      "text/plain": [
       "array(['-', 'base-rd-01'], dtype=object)"
      ]
     },
     "execution_count": 29,
     "metadata": {},
     "output_type": "execute_result"
    }
   ],
   "source": [
    "df.host.unique()"
   ]
  },
  {
   "cell_type": "code",
   "execution_count": 30,
   "id": "maritime-bloom",
   "metadata": {},
   "outputs": [
    {
     "data": {
      "text/plain": [
       "2"
      ]
     },
     "execution_count": 30,
     "metadata": {},
     "output_type": "execute_result"
    }
   ],
   "source": [
    "df.host.nunique()"
   ]
  },
  {
   "cell_type": "markdown",
   "id": "departmental-picture",
   "metadata": {},
   "source": [
    "nothing of interest with host - its the csv file name. It would be useful if there was many hosts loaded but there is only one here. "
   ]
  },
  {
   "cell_type": "code",
   "execution_count": 31,
   "id": "compliant-humidity",
   "metadata": {},
   "outputs": [
    {
     "data": {
      "text/plain": [
       "array([\"[107 / 0x006b] Strings: ['\\\\Microsoft\\\\Windows\\\\Windows Error Reporting\\\\QueueRep...\",\n",
       "       \"[129 / 0x0081] Strings: ['\\\\Microsoft\\\\Windows\\\\Windows Error Reporting\\\\QueueRep...\",\n",
       "       \"[100 / 0x0064] Strings: ['\\\\Microsoft\\\\Windows\\\\Windows Error Reporting\\\\QueueRep...\",\n",
       "       ...,\n",
       "       \"[8012 / 0x1f4c] Strings: ['0x00000240800fe190'  '7632'  'Key:NegotiatingUnlea...\",\n",
       "       \"[8012 / 0x1f4c] Strings: ['0x00000240800fe190'  '7632'  'Key:Valid'  'Key:Inv...\",\n",
       "       \"[1223 / 0x04c7] Strings: ['CNT'  '1'  'CON'  '260'  '436F6E746578743A20656139...\"],\n",
       "      dtype=object)"
      ]
     },
     "execution_count": 31,
     "metadata": {},
     "output_type": "execute_result"
    }
   ],
   "source": [
    "df.short.unique()"
   ]
  },
  {
   "cell_type": "markdown",
   "id": "selected-tennis",
   "metadata": {},
   "source": [
    "This is an array with strings that have info - interesting. TODO"
   ]
  },
  {
   "cell_type": "code",
   "execution_count": 32,
   "id": "egyptian-burden",
   "metadata": {},
   "outputs": [
    {
     "data": {
      "text/plain": [
       "29243"
      ]
     },
     "execution_count": 32,
     "metadata": {},
     "output_type": "execute_result"
    }
   ],
   "source": [
    "df.short.nunique()"
   ]
  },
  {
   "cell_type": "code",
   "execution_count": 33,
   "id": "listed-breeding",
   "metadata": {},
   "outputs": [
    {
     "data": {
      "text/plain": [
       "array([\"[107 / 0x006b] Source Name: Microsoft-Windows-TaskScheduler Strings: ['\\\\Microsoft\\\\Windows\\\\Windows Error Reporting\\\\QueueReporting'  '{6C43A72F-4B21-4071-B619-CE26EF192DC1}'] Computer Name: base-rd-01.shieldbase.lan Record Number: 187435 Event Level: 4\",\n",
       "       \"[129 / 0x0081] Source Name: Microsoft-Windows-TaskScheduler Strings: ['\\\\Microsoft\\\\Windows\\\\Windows Error Reporting\\\\QueueReporting'  '%windir%\\\\system32\\\\wermgr.exe'  '6788'  '16384'] Computer Name: base-rd-01.shieldbase.lan Record Number: 187436 Event Level: 4\",\n",
       "       \"[100 / 0x0064] Source Name: Microsoft-Windows-TaskScheduler Strings: ['\\\\Microsoft\\\\Windows\\\\Windows Error Reporting\\\\QueueReporting'  'NT AUTHORITY\\\\SYSTEM'  '{6C43A72F-4B21-4071-B619-CE26EF192DC1}'] Computer Name: base-rd-01.shieldbase.lan Record Number: 187437 Event Level: 4\",\n",
       "       ...,\n",
       "       \"[145 / 0x0091] Source Name: Microsoft-Windows-WinRM Strings: ['Enumeration'  'http://schemas.microsoft.com/wbem/wsman/1/SubscriptionManager/Subscription'] Computer Name: base-rd-01.shieldbase.lan Record Number: 287144 Event Level: 4\",\n",
       "       \"[132 / 0x0084] Source Name: Microsoft-Windows-WinRM Strings: ['Enumeration'] Computer Name: base-rd-01.shieldbase.lan Record Number: 287145 Event Level: 4\",\n",
       "       \"[5857 / 0x16e1] Source Name: Microsoft-Windows-WMI-Activity Strings: ['WmiPerfInst'  '0x00000000'  'wmiprvse.exe'  '5052'  'C:\\\\Windows\\\\System32\\\\wbem\\\\WmiPerfInst.dll'] Computer Name: base-rd-01.shieldbase.lan Record Number: 18017 Event Level: 0\"],\n",
       "      dtype=object)"
      ]
     },
     "execution_count": 33,
     "metadata": {},
     "output_type": "execute_result"
    }
   ],
   "source": [
    "df.desc.unique()"
   ]
  },
  {
   "cell_type": "markdown",
   "id": "structured-mission",
   "metadata": {},
   "source": [
    "This looks to be the same as short but in a different format"
   ]
  },
  {
   "cell_type": "code",
   "execution_count": 34,
   "id": "present-perception",
   "metadata": {},
   "outputs": [
    {
     "data": {
      "text/plain": [
       "179683"
      ]
     },
     "execution_count": 34,
     "metadata": {},
     "output_type": "execute_result"
    }
   ],
   "source": [
    "df.desc.nunique()"
   ]
  },
  {
   "cell_type": "code",
   "execution_count": 35,
   "id": "tribal-secret",
   "metadata": {},
   "outputs": [
    {
     "data": {
      "text/plain": [
       "150440"
      ]
     },
     "execution_count": 35,
     "metadata": {},
     "output_type": "execute_result"
    }
   ],
   "source": [
    "df.desc.nunique()-df.short.nunique()"
   ]
  },
  {
   "cell_type": "markdown",
   "id": "analyzed-feeding",
   "metadata": {},
   "source": [
    "Not remotely the same size though"
   ]
  },
  {
   "cell_type": "code",
   "execution_count": 36,
   "id": "medieval-paraguay",
   "metadata": {},
   "outputs": [
    {
     "data": {
      "text/html": [
       "<div>\n",
       "<style scoped>\n",
       "    .dataframe tbody tr th:only-of-type {\n",
       "        vertical-align: middle;\n",
       "    }\n",
       "\n",
       "    .dataframe tbody tr th {\n",
       "        vertical-align: top;\n",
       "    }\n",
       "\n",
       "    .dataframe thead th {\n",
       "        text-align: right;\n",
       "    }\n",
       "</style>\n",
       "<table border=\"1\" class=\"dataframe\">\n",
       "  <thead>\n",
       "    <tr style=\"text-align: right;\">\n",
       "      <th></th>\n",
       "      <th>short</th>\n",
       "      <th>desc</th>\n",
       "    </tr>\n",
       "  </thead>\n",
       "  <tbody>\n",
       "    <tr>\n",
       "      <th>0</th>\n",
       "      <td>[107 / 0x006b] Strings: ['\\Microsoft\\Windows\\W...</td>\n",
       "      <td>[107 / 0x006b] Source Name: Microsoft-Windows-...</td>\n",
       "    </tr>\n",
       "    <tr>\n",
       "      <th>1</th>\n",
       "      <td>[129 / 0x0081] Strings: ['\\Microsoft\\Windows\\W...</td>\n",
       "      <td>[129 / 0x0081] Source Name: Microsoft-Windows-...</td>\n",
       "    </tr>\n",
       "    <tr>\n",
       "      <th>2</th>\n",
       "      <td>[100 / 0x0064] Strings: ['\\Microsoft\\Windows\\W...</td>\n",
       "      <td>[100 / 0x0064] Source Name: Microsoft-Windows-...</td>\n",
       "    </tr>\n",
       "    <tr>\n",
       "      <th>3</th>\n",
       "      <td>[200 / 0x00c8] Strings: ['\\Microsoft\\Windows\\W...</td>\n",
       "      <td>[200 / 0x00c8] Source Name: Microsoft-Windows-...</td>\n",
       "    </tr>\n",
       "    <tr>\n",
       "      <th>4</th>\n",
       "      <td>[140 / 0x008c] Strings: ['\\Microsoft\\Windows\\W...</td>\n",
       "      <td>[140 / 0x008c] Source Name: Microsoft-Windows-...</td>\n",
       "    </tr>\n",
       "    <tr>\n",
       "      <th>...</th>\n",
       "      <td>...</td>\n",
       "      <td>...</td>\n",
       "    </tr>\n",
       "    <tr>\n",
       "      <th>185161</th>\n",
       "      <td>[1223 / 0x04c7] Strings: ['BND'  '3'  'CON\\QOS...</td>\n",
       "      <td>[1223 / 0x04c7] Source Name: Microsoft-Windows...</td>\n",
       "    </tr>\n",
       "    <tr>\n",
       "      <th>185162</th>\n",
       "      <td>[1267 / 0x04f3] Strings: ['BND'  '3'  'CON\\QOS...</td>\n",
       "      <td>[1267 / 0x04f3] Source Name: Microsoft-Windows...</td>\n",
       "    </tr>\n",
       "    <tr>\n",
       "      <th>185163</th>\n",
       "      <td>[145 / 0x0091] Strings: ['Enumeration'  'http:...</td>\n",
       "      <td>[145 / 0x0091] Source Name: Microsoft-Windows-...</td>\n",
       "    </tr>\n",
       "    <tr>\n",
       "      <th>185164</th>\n",
       "      <td>[132 / 0x0084] Strings: ['Enumeration']</td>\n",
       "      <td>[132 / 0x0084] Source Name: Microsoft-Windows-...</td>\n",
       "    </tr>\n",
       "    <tr>\n",
       "      <th>185165</th>\n",
       "      <td>[5857 / 0x16e1] Strings: ['WmiPerfInst'  '0x00...</td>\n",
       "      <td>[5857 / 0x16e1] Source Name: Microsoft-Windows...</td>\n",
       "    </tr>\n",
       "  </tbody>\n",
       "</table>\n",
       "<p>185166 rows × 2 columns</p>\n",
       "</div>"
      ],
      "text/plain": [
       "                                                    short  \\\n",
       "0       [107 / 0x006b] Strings: ['\\Microsoft\\Windows\\W...   \n",
       "1       [129 / 0x0081] Strings: ['\\Microsoft\\Windows\\W...   \n",
       "2       [100 / 0x0064] Strings: ['\\Microsoft\\Windows\\W...   \n",
       "3       [200 / 0x00c8] Strings: ['\\Microsoft\\Windows\\W...   \n",
       "4       [140 / 0x008c] Strings: ['\\Microsoft\\Windows\\W...   \n",
       "...                                                   ...   \n",
       "185161  [1223 / 0x04c7] Strings: ['BND'  '3'  'CON\\QOS...   \n",
       "185162  [1267 / 0x04f3] Strings: ['BND'  '3'  'CON\\QOS...   \n",
       "185163  [145 / 0x0091] Strings: ['Enumeration'  'http:...   \n",
       "185164            [132 / 0x0084] Strings: ['Enumeration']   \n",
       "185165  [5857 / 0x16e1] Strings: ['WmiPerfInst'  '0x00...   \n",
       "\n",
       "                                                     desc  \n",
       "0       [107 / 0x006b] Source Name: Microsoft-Windows-...  \n",
       "1       [129 / 0x0081] Source Name: Microsoft-Windows-...  \n",
       "2       [100 / 0x0064] Source Name: Microsoft-Windows-...  \n",
       "3       [200 / 0x00c8] Source Name: Microsoft-Windows-...  \n",
       "4       [140 / 0x008c] Source Name: Microsoft-Windows-...  \n",
       "...                                                   ...  \n",
       "185161  [1223 / 0x04c7] Source Name: Microsoft-Windows...  \n",
       "185162  [1267 / 0x04f3] Source Name: Microsoft-Windows...  \n",
       "185163  [145 / 0x0091] Source Name: Microsoft-Windows-...  \n",
       "185164  [132 / 0x0084] Source Name: Microsoft-Windows-...  \n",
       "185165  [5857 / 0x16e1] Source Name: Microsoft-Windows...  \n",
       "\n",
       "[185166 rows x 2 columns]"
      ]
     },
     "execution_count": 36,
     "metadata": {},
     "output_type": "execute_result"
    }
   ],
   "source": [
    "df[['short', 'desc']]"
   ]
  },
  {
   "cell_type": "markdown",
   "id": "sought-proof",
   "metadata": {},
   "source": [
    "there is extra info in the desc regarding the string e.g. Source Name: Microsoft-Windows-PushNotification-PlatformStrings: desc is more verbose"
   ]
  },
  {
   "cell_type": "code",
   "execution_count": 37,
   "id": "furnished-organ",
   "metadata": {},
   "outputs": [
    {
     "data": {
      "text/plain": [
       "array([2], dtype=int64)"
      ]
     },
     "execution_count": 37,
     "metadata": {},
     "output_type": "execute_result"
    }
   ],
   "source": [
    "df.version.unique()"
   ]
  },
  {
   "cell_type": "code",
   "execution_count": 38,
   "id": "round-ceremony",
   "metadata": {},
   "outputs": [
    {
     "data": {
      "text/plain": [
       "1"
      ]
     },
     "execution_count": 38,
     "metadata": {},
     "output_type": "execute_result"
    }
   ],
   "source": [
    "df.version.nunique()"
   ]
  },
  {
   "cell_type": "markdown",
   "id": "adequate-ancient",
   "metadata": {},
   "source": [
    "not much info to go on bar the name so its just version 2 i suppose."
   ]
  },
  {
   "cell_type": "code",
   "execution_count": 39,
   "id": "respiratory-borough",
   "metadata": {},
   "outputs": [
    {
     "data": {
      "text/plain": [
       "array(['OS:E:\\\\C\\\\Windows\\\\system32\\\\winevt\\\\logs\\\\Microsoft-Windows-TaskScheduler%4Operational.evtx',\n",
       "       'OS:E:\\\\C\\\\Windows\\\\system32\\\\winevt\\\\logs\\\\Microsoft-Windows-SMBServer%4Audit.evtx',\n",
       "       'OS:E:\\\\C\\\\Windows\\\\system32\\\\winevt\\\\logs\\\\Security.evtx',\n",
       "       'OS:E:\\\\C\\\\Windows\\\\system32\\\\winevt\\\\logs\\\\Microsoft-Windows-Known Folders API Service.evtx',\n",
       "       'OS:E:\\\\C\\\\Windows\\\\system32\\\\winevt\\\\logs\\\\Microsoft-Windows-Security-Audit-Configuration-Client%4Operational.evtx',\n",
       "       'OS:E:\\\\C\\\\Windows\\\\system32\\\\winevt\\\\logs\\\\System.evtx',\n",
       "       'OS:E:\\\\C\\\\Users\\\\tdungan\\\\AppData\\\\Local\\\\Google\\\\Chrome\\\\User Data\\\\Default\\\\Cookies',\n",
       "       'OS:E:\\\\C\\\\Windows\\\\system32\\\\winevt\\\\logs\\\\Microsoft-Windows-Storage-Storport%4Operational.evtx',\n",
       "       'OS:E:\\\\C\\\\Windows\\\\system32\\\\winevt\\\\logs\\\\Microsoft-Windows-Ntfs%4Operational.evtx',\n",
       "       'OS:E:\\\\C\\\\Windows\\\\system32\\\\winevt\\\\logs\\\\Microsoft-Windows-StateRepository%4Operational.evtx',\n",
       "       'OS:E:\\\\C\\\\Windows\\\\system32\\\\winevt\\\\logs\\\\Microsoft-Windows-Application-Experience%4Program-Telemetry.evtx',\n",
       "       'OS:E:\\\\C\\\\Windows\\\\system32\\\\winevt\\\\logs\\\\Microsoft-Windows-WMI-Activity%4Operational.evtx',\n",
       "       'OS:E:\\\\C\\\\Windows\\\\system32\\\\winevt\\\\logs\\\\Microsoft-Windows-Time-Service%4Operational.evtx',\n",
       "       'OS:E:\\\\C\\\\Windows\\\\system32\\\\winevt\\\\logs\\\\Microsoft-Windows-TaskScheduler%4Maintenance.evtx',\n",
       "       'OS:E:\\\\C\\\\Windows\\\\system32\\\\winevt\\\\logs\\\\Microsoft-Windows-Diagnosis-Scripted%4Operational.evtx',\n",
       "       'OS:E:\\\\C\\\\Windows\\\\system32\\\\winevt\\\\logs\\\\Microsoft-Windows-SettingSync%4Debug.evtx',\n",
       "       'OS:E:\\\\C\\\\Windows\\\\system32\\\\winevt\\\\logs\\\\Microsoft-Windows-Diagnosis-Scripted%4Admin.evtx',\n",
       "       'OS:E:\\\\C\\\\Windows\\\\prefetch\\\\SDIAGNHOST.EXE-8D72177C.pf',\n",
       "       'OS:E:\\\\C\\\\Windows\\\\system32\\\\winevt\\\\logs\\\\Microsoft-Windows-LanguagePackSetup%4Operational.evtx',\n",
       "       'OS:E:\\\\C\\\\Windows\\\\system32\\\\winevt\\\\logs\\\\Microsoft-Windows-PowerShell%4Operational.evtx',\n",
       "       'OS:E:\\\\C\\\\Windows\\\\system32\\\\winevt\\\\logs\\\\Microsoft-Windows-AppxPackaging%4Operational.evtx',\n",
       "       'OS:E:\\\\C\\\\Windows\\\\prefetch\\\\SVCHOST.EXE-7D248B6A.pf',\n",
       "       'OS:E:\\\\C\\\\Windows\\\\system32\\\\winevt\\\\logs\\\\Microsoft-Windows-TZSync%4Operational.evtx',\n",
       "       'OS:g:\\\\timeline\\\\YYYYMMDDHHMMSS_MFTECmd_Output.body',\n",
       "       'OS:E:\\\\C\\\\Windows\\\\system32\\\\winevt\\\\logs\\\\Microsoft-Windows-ReadyBoost%4Operational.evtx',\n",
       "       'OS:E:\\\\C\\\\Windows\\\\system32\\\\winevt\\\\logs\\\\Microsoft-Windows-AppXDeploymentServer%4Operational.evtx',\n",
       "       'OS:E:\\\\C\\\\Windows\\\\system32\\\\winevt\\\\logs\\\\Microsoft-Windows-CloudStore%4Operational.evtx',\n",
       "       'OS:E:\\\\C\\\\Windows\\\\prefetch\\\\WERMGR.EXE-0F2AC88C.pf',\n",
       "       'OS:E:\\\\C\\\\Windows\\\\system32\\\\winevt\\\\logs\\\\Microsoft-Windows-WindowsUpdateClient%4Operational.evtx',\n",
       "       'OS:E:\\\\C\\\\Windows\\\\system32\\\\config\\\\SOFTWARE',\n",
       "       'OS:E:\\\\C\\\\Windows\\\\system32\\\\config\\\\SYSTEM',\n",
       "       'OS:E:\\\\C\\\\Windows\\\\system32\\\\winevt\\\\logs\\\\Microsoft-Windows-AppModel-Runtime%4Admin.evtx',\n",
       "       'OS:E:\\\\C\\\\Users\\\\tdungan\\\\AppData\\\\Local\\\\Microsoft\\\\Windows\\\\UsrClass.dat',\n",
       "       'OS:E:\\\\C\\\\Windows\\\\system32\\\\winevt\\\\logs\\\\Microsoft-Windows-Windows Firewall With Advanced Security%4Firewall.evtx',\n",
       "       'OS:E:\\\\C\\\\Users\\\\tdungan\\\\ntuser.dat',\n",
       "       'OS:E:\\\\C\\\\Windows\\\\system32\\\\winevt\\\\logs\\\\Microsoft-Windows-Security-LessPrivilegedAppContainer%4Operational.evtx',\n",
       "       'OS:E:\\\\C\\\\Windows\\\\system32\\\\winevt\\\\logs\\\\Microsoft-Windows-Security-Mitigations%4KernelMode.evtx',\n",
       "       'OS:E:\\\\C\\\\Windows\\\\system32\\\\winevt\\\\logs\\\\Microsoft-Windows-PriResources-Deployment%4Operational.evtx',\n",
       "       'OS:E:\\\\C\\\\Users\\\\tdungan\\\\AppData\\\\Local\\\\Google\\\\Chrome\\\\User Data\\\\Default\\\\Cache\\\\index',\n",
       "       'OS:E:\\\\C\\\\Windows\\\\system32\\\\winevt\\\\logs\\\\Microsoft-Windows-Storage-ClassPnP%4Operational.evtx',\n",
       "       'OS:E:\\\\C\\\\Windows\\\\system32\\\\winevt\\\\logs\\\\Microsoft-Windows-UniversalTelemetryClient%4Operational.evtx',\n",
       "       'OS:E:\\\\C\\\\Windows\\\\system32\\\\winevt\\\\logs\\\\Microsoft-Windows-Shell-Core%4Operational.evtx',\n",
       "       'OS:E:\\\\C\\\\Windows\\\\system32\\\\iesetup.dll',\n",
       "       'OS:E:\\\\C\\\\Windows\\\\system32\\\\winevt\\\\logs\\\\Microsoft-Windows-BackgroundTaskInfrastructure%4Operational.evtx',\n",
       "       'OS:E:\\\\C\\\\Windows\\\\prefetch\\\\DEFRAG.EXE-588F90AD.pf',\n",
       "       'OS:E:\\\\C\\\\Windows\\\\system32\\\\winevt\\\\logs\\\\Microsoft-Windows-HelloForBusiness%4Operational.evtx',\n",
       "       'OS:E:\\\\C\\\\Windows\\\\prefetch\\\\RUNDLL32.EXE-B216811E.pf',\n",
       "       'OS:E:\\\\C\\\\Windows\\\\system32\\\\winevt\\\\logs\\\\Microsoft-Windows-SMBServer%4Security.evtx',\n",
       "       'OS:E:\\\\C\\\\Users\\\\spsql\\\\AppData\\\\Roaming\\\\Microsoft\\\\Windows\\\\Recent\\\\AutomaticDestinations\\\\f01b4d95cf55d32a.automaticDestinations-ms',\n",
       "       'OS:E:\\\\C\\\\Users\\\\spsql\\\\AppData\\\\Roaming\\\\Microsoft\\\\Windows\\\\Recent\\\\CustomDestinations\\\\590aee7bdd69b59b.customDestinations-ms',\n",
       "       'OS:E:\\\\C\\\\Windows\\\\system32\\\\winevt\\\\logs\\\\Microsoft-Windows-User Profile Service%4Operational.evtx',\n",
       "       'OS:E:\\\\C\\\\Users\\\\spsql\\\\ntuser.dat',\n",
       "       'OS:E:\\\\C\\\\Users\\\\spsql\\\\AppData\\\\Roaming\\\\Microsoft\\\\Windows\\\\Recent\\\\AutomaticDestinations\\\\5f7b5f1e01b83767.automaticDestinations-ms',\n",
       "       'OS:E:\\\\C\\\\Users\\\\spsql\\\\AppData\\\\Roaming\\\\Microsoft\\\\Windows\\\\Recent\\\\AutomaticDestinations\\\\9d1f905ce5044aee.automaticDestinations-ms',\n",
       "       'OS:E:\\\\C\\\\Users\\\\spsql\\\\AppData\\\\Roaming\\\\Microsoft\\\\Office\\\\Recent\\\\A_review_on_application_of_carbonaceous_materials_clean_ADS_041109.LNK',\n",
       "       'OS:E:\\\\C\\\\Users\\\\spsql\\\\AppData\\\\Roaming\\\\Microsoft\\\\Windows\\\\Recent\\\\A_review_on_application_of_carbonaceous_materials_clean_ADS_041109.lnk',\n",
       "       'OS:E:\\\\C\\\\Users\\\\spsql\\\\AppData\\\\Roaming\\\\Microsoft\\\\Office\\\\Recent\\\\CONFIDENTIAL - Project Mayhem [Autosaved].LNK',\n",
       "       'OS:E:\\\\C\\\\Users\\\\spsql\\\\AppData\\\\Roaming\\\\Microsoft\\\\Windows\\\\Recent\\\\CONFIDENTIAL - Project Mayhem [Autosaved].lnk',\n",
       "       'OS:E:\\\\C\\\\Users\\\\spsql\\\\AppData\\\\Roaming\\\\Microsoft\\\\Office\\\\Recent\\\\CONFIDENTIAL - Project Mayhem.LNK',\n",
       "       'OS:E:\\\\C\\\\Users\\\\spsql\\\\AppData\\\\Roaming\\\\Microsoft\\\\Windows\\\\Recent\\\\CONFIDENTIAL - Project Mayhem.lnk',\n",
       "       'OS:E:\\\\C\\\\Users\\\\spsql\\\\AppData\\\\Roaming\\\\Microsoft\\\\Windows\\\\Recent\\\\Carbon Materials Embedded with Metal Nonparticles.lnk',\n",
       "       'OS:E:\\\\C\\\\Users\\\\spsql\\\\AppData\\\\Roaming\\\\Microsoft\\\\Office\\\\Recent\\\\Carbon Nanotubes and Related Devices-Andrew Turner.LNK',\n",
       "       'OS:E:\\\\C\\\\Users\\\\spsql\\\\AppData\\\\Roaming\\\\Microsoft\\\\Windows\\\\Recent\\\\Carbon Nanotubes and Related Devices-Andrew Turner.lnk',\n",
       "       'OS:E:\\\\C\\\\Users\\\\spsql\\\\AppData\\\\Roaming\\\\Microsoft\\\\Windows\\\\Recent\\\\Carbon-Steel-Handbook.lnk',\n",
       "       'OS:E:\\\\C\\\\Users\\\\spsql\\\\AppData\\\\Local\\\\Microsoft\\\\Windows\\\\UsrClass.dat',\n",
       "       'OS:E:\\\\C\\\\Users\\\\spsql\\\\AppData\\\\Roaming\\\\Microsoft\\\\Windows\\\\Recent\\\\OneDrive - Stark Research Labs.lnk',\n",
       "       'OS:E:\\\\C\\\\Users\\\\spsql\\\\AppData\\\\Roaming\\\\Microsoft\\\\Windows\\\\Recent\\\\Research.lnk',\n",
       "       'OS:E:\\\\C\\\\Users\\\\spsql\\\\AppData\\\\Roaming\\\\Microsoft\\\\Office\\\\Recent\\\\carbonadium-info.LNK',\n",
       "       'OS:E:\\\\C\\\\Users\\\\spsql\\\\AppData\\\\Roaming\\\\Microsoft\\\\Windows\\\\Recent\\\\carbonadium-info.lnk',\n",
       "       'OS:E:\\\\C\\\\Users\\\\spsql\\\\AppData\\\\Roaming\\\\Microsoft\\\\Windows\\\\Recent\\\\AutomaticDestinations\\\\d00655d2aa12ff6d.automaticDestinations-ms',\n",
       "       'OS:E:\\\\C\\\\Users\\\\spsql\\\\AppData\\\\Roaming\\\\Microsoft\\\\Windows\\\\Recent\\\\AutomaticDestinations\\\\fb3b0dbfee58fac8.automaticDestinations-ms',\n",
       "       'OS:E:\\\\C\\\\Windows\\\\system32\\\\winevt\\\\logs\\\\Windows PowerShell.evtx',\n",
       "       'OS:E:\\\\C\\\\Windows\\\\prefetch\\\\MCDATREP.EXE-81084416.pf',\n",
       "       'OS:E:\\\\C\\\\Windows\\\\prefetch\\\\WUAPIHOST.EXE-8C63377C.pf',\n",
       "       'OS:E:\\\\C\\\\Windows\\\\system32\\\\config\\\\SAM',\n",
       "       'OS:E:\\\\C\\\\Users\\\\tdungan\\\\AppData\\\\Roaming\\\\Microsoft\\\\Windows\\\\Recent\\\\AutomaticDestinations\\\\d00655d2aa12ff6d.automaticDestinations-ms',\n",
       "       'OS:E:\\\\C\\\\Users\\\\tdungan\\\\AppData\\\\Roaming\\\\Microsoft\\\\Windows\\\\Recent\\\\AutomaticDestinations\\\\fb3b0dbfee58fac8.automaticDestinations-ms',\n",
       "       'OS:E:\\\\C\\\\Users\\\\tdungan\\\\AppData\\\\Roaming\\\\Microsoft\\\\Windows\\\\Recent\\\\CustomDestinations\\\\6d2bac8f1edf6668.customDestinations-ms',\n",
       "       'OS:E:\\\\C\\\\Windows\\\\system32\\\\winevt\\\\logs\\\\Microsoft-Windows-Bits-Client%4Operational.evtx',\n",
       "       'OS:E:\\\\C\\\\Windows\\\\prefetch\\\\SMARTSCREEN.EXE-9B5E4173.pf',\n",
       "       'OS:E:\\\\C\\\\Users\\\\tdungan\\\\AppData\\\\Roaming\\\\Microsoft\\\\Windows\\\\Recent\\\\AutomaticDestinations\\\\f01b4d95cf55d32a.automaticDestinations-ms',\n",
       "       'OS:E:\\\\C\\\\Users\\\\tdungan\\\\AppData\\\\Roaming\\\\Microsoft\\\\Windows\\\\Recent\\\\New Alloy Research.lnk',\n",
       "       'OS:E:\\\\C\\\\Users\\\\tdungan\\\\AppData\\\\Roaming\\\\Microsoft\\\\Windows\\\\Recent\\\\AutomaticDestinations\\\\5d696d521de238c3.automaticDestinations-ms',\n",
       "       'OS:E:\\\\C\\\\Users\\\\tdungan\\\\AppData\\\\Roaming\\\\Microsoft\\\\Windows\\\\Recent\\\\AutomaticDestinations\\\\5f7b5f1e01b83767.automaticDestinations-ms',\n",
       "       'OS:E:\\\\C\\\\Users\\\\tdungan\\\\AppData\\\\Roaming\\\\Microsoft\\\\Windows\\\\Recent\\\\Superalloys_2010_13_50.lnk',\n",
       "       'OS:E:\\\\C\\\\Users\\\\tdungan\\\\AppData\\\\Roaming\\\\Microsoft\\\\Windows\\\\Recent\\\\19730011861.lnk',\n",
       "       'OS:E:\\\\C\\\\Users\\\\tdungan\\\\AppData\\\\Roaming\\\\Microsoft\\\\Windows\\\\Recent\\\\Bogomolov_2016_IOP_Conf._Ser.%3A_Mater._Sci._Eng._142_012076.lnk',\n",
       "       'OS:E:\\\\C\\\\Users\\\\tdungan\\\\AppData\\\\Roaming\\\\Microsoft\\\\Windows\\\\Recent\\\\Carbon (2).lnk',\n",
       "       'OS:E:\\\\C\\\\Users\\\\tdungan\\\\AppData\\\\Roaming\\\\Microsoft\\\\Windows\\\\Recent\\\\Carbon (3).lnk',\n",
       "       'OS:E:\\\\C\\\\Users\\\\tdungan\\\\AppData\\\\Roaming\\\\Microsoft\\\\Windows\\\\Recent\\\\Carbon.lnk',\n",
       "       'OS:E:\\\\C\\\\Users\\\\tdungan\\\\AppData\\\\Roaming\\\\Microsoft\\\\Windows\\\\Recent\\\\AutomaticDestinations\\\\de48a32edcbe79e4.automaticDestinations-ms',\n",
       "       'OS:E:\\\\C\\\\Users\\\\tdungan\\\\AppData\\\\Roaming\\\\Microsoft\\\\Windows\\\\Recent\\\\rr094a.lnk',\n",
       "       'OS:E:\\\\C\\\\Users\\\\tdungan\\\\AppData\\\\Roaming\\\\Microsoft\\\\Windows\\\\Recent\\\\DOC.lnk',\n",
       "       'OS:E:\\\\C\\\\Users\\\\tdungan\\\\AppData\\\\Roaming\\\\Microsoft\\\\Windows\\\\Recent\\\\PDFs.lnk',\n",
       "       'OS:E:\\\\C\\\\Users\\\\tdungan\\\\AppData\\\\Roaming\\\\Microsoft\\\\Windows\\\\Recent\\\\PPT.lnk',\n",
       "       'OS:E:\\\\C\\\\Users\\\\tdungan\\\\AppData\\\\Roaming\\\\Microsoft\\\\Windows\\\\Recent\\\\evaluation-of-mechanical-properties-of-medium-carbon-low-alloy-forged-steels-quenched-in-water-oil-and-polymer-2169-0022-1000320.lnk',\n",
       "       'OS:E:\\\\C\\\\Users\\\\tdungan\\\\AppData\\\\Roaming\\\\Microsoft\\\\Windows\\\\Recent\\\\Carbon_nanotube_reinforced_metal_matrix_composites.lnk',\n",
       "       'OS:E:\\\\C\\\\Users\\\\tdungan\\\\AppData\\\\Roaming\\\\Microsoft\\\\Windows\\\\Recent\\\\catalysts-08-00198.lnk',\n",
       "       'OS:E:\\\\C\\\\Users\\\\tdungan\\\\AppData\\\\Roaming\\\\Microsoft\\\\Windows\\\\Recent\\\\1.lnk',\n",
       "       'OS:E:\\\\C\\\\Users\\\\tdungan\\\\AppData\\\\Roaming\\\\Microsoft\\\\Windows\\\\Recent\\\\214.lnk',\n",
       "       'OS:E:\\\\C\\\\Users\\\\tdungan\\\\AppData\\\\Roaming\\\\Microsoft\\\\Windows\\\\Recent\\\\26001_CSIRO_Postdoctoral_Fellowship_PD.lnk',\n",
       "       'OS:E:\\\\C\\\\Users\\\\tdungan\\\\AppData\\\\Roaming\\\\Microsoft\\\\Windows\\\\Recent\\\\Diana_JMRT_final (1).lnk',\n",
       "       'OS:E:\\\\C\\\\Users\\\\tdungan\\\\AppData\\\\Roaming\\\\Microsoft\\\\Windows\\\\Recent\\\\Nilam Patil.lnk',\n",
       "       'OS:E:\\\\C\\\\Users\\\\tdungan\\\\AppData\\\\Roaming\\\\Microsoft\\\\Windows\\\\Recent\\\\jatin datta (1).lnk',\n",
       "       'OS:E:\\\\C\\\\Users\\\\tdungan\\\\AppData\\\\Roaming\\\\Microsoft\\\\Windows\\\\Recent\\\\jatin datta.lnk',\n",
       "       'OS:E:\\\\C\\\\Users\\\\tdungan\\\\AppData\\\\Roaming\\\\Microsoft\\\\Windows\\\\Recent\\\\2-what_workers_need_to_know.lnk',\n",
       "       'OS:E:\\\\C\\\\Users\\\\tdungan\\\\AppData\\\\Roaming\\\\Microsoft\\\\Windows\\\\Recent\\\\021711-um (1).lnk',\n",
       "       'OS:E:\\\\C\\\\Users\\\\tdungan\\\\AppData\\\\Roaming\\\\Microsoft\\\\Windows\\\\Recent\\\\ChrisPresentation.lnk',\n",
       "       'OS:E:\\\\C\\\\Users\\\\tdungan\\\\AppData\\\\Roaming\\\\Microsoft\\\\Windows\\\\Recent\\\\CustomDestinations\\\\28c8b86deab549a1.customDestinations-ms',\n",
       "       'OS:E:\\\\C\\\\Windows\\\\prefetch\\\\DLLHOST.EXE-88F23425.pf',\n",
       "       'OS:E:\\\\C\\\\Windows\\\\prefetch\\\\CHROME.EXE-D999B1C2.pf',\n",
       "       'OS:E:\\\\C\\\\Users\\\\tdungan\\\\AppData\\\\Local\\\\Google\\\\Chrome\\\\User Data\\\\Default\\\\History',\n",
       "       'OS:E:\\\\C\\\\Windows\\\\system32\\\\winevt\\\\logs\\\\Microsoft-Windows-Crypto-DPAPI%4Operational.evtx',\n",
       "       'OS:E:\\\\C\\\\Windows\\\\system32\\\\winevt\\\\logs\\\\Microsoft-Windows-Winlogon%4Operational.evtx',\n",
       "       'OS:E:\\\\C\\\\Windows\\\\prefetch\\\\DLLHOST.EXE-47C6CEFA.pf',\n",
       "       'OS:E:\\\\C\\\\Users\\\\tdungan\\\\AppData\\\\Local\\\\Google\\\\Chrome\\\\User Data\\\\Default\\\\Media Cache\\\\index',\n",
       "       'OS:E:\\\\C\\\\Windows\\\\system32\\\\winevt\\\\logs\\\\OSession.evtx',\n",
       "       'OS:E:\\\\C\\\\Users\\\\tdungan\\\\AppData\\\\Roaming\\\\Microsoft\\\\Windows\\\\Recent\\\\Alloy_Steel_-_Properties_and_Use.lnk',\n",
       "       'OS:E:\\\\C\\\\Users\\\\tdungan\\\\AppData\\\\Roaming\\\\Microsoft\\\\Windows\\\\Recent\\\\IEOR4004-notes1.lnk',\n",
       "       'OS:E:\\\\C\\\\Users\\\\tdungan\\\\AppData\\\\Roaming\\\\Microsoft\\\\Windows\\\\Recent\\\\Research (2).lnk',\n",
       "       'OS:E:\\\\C\\\\Users\\\\tdungan\\\\AppData\\\\Roaming\\\\Microsoft\\\\Windows\\\\Recent\\\\Research (3).lnk',\n",
       "       'OS:E:\\\\C\\\\Users\\\\tdungan\\\\AppData\\\\Local\\\\Google\\\\Chrome\\\\User Data\\\\Default\\\\Preferences',\n",
       "       'OS:E:\\\\C\\\\Windows\\\\prefetch\\\\VMWARERESOLUTIONSET.EXE-79C811DD.pf',\n",
       "       'OS:E:\\\\C\\\\Users\\\\tdungan\\\\AppData\\\\Roaming\\\\Microsoft\\\\Windows\\\\Recent\\\\Downloads.lnk',\n",
       "       'OS:E:\\\\C\\\\Windows\\\\prefetch\\\\WINWORD.EXE-A29E96D8.pf',\n",
       "       'OS:E:\\\\C\\\\Windows\\\\system32\\\\winevt\\\\logs\\\\OAlerts.evtx',\n",
       "       'OS:E:\\\\C\\\\Windows\\\\prefetch\\\\POWERPNT.EXE-59511DC9.pf',\n",
       "       'OS:E:\\\\C\\\\$Recycle.Bin\\\\S-1-5-21-3445421715-2530590580-3149308974-1193\\\\$RW2YF61\\\\06-11\\\\Research\\\\Carbon\\\\DOC\\\\214.docx',\n",
       "       'OS:E:\\\\C\\\\Windows\\\\system32\\\\winevt\\\\logs\\\\Microsoft-Windows-ApplicationResourceManagementSystem%4Operational.evtx',\n",
       "       'OS:E:\\\\C\\\\Windows\\\\prefetch\\\\WWAHOST.EXE-FC43D5B3.pf',\n",
       "       'OS:E:\\\\C\\\\Windows\\\\prefetch\\\\WERFAULT.EXE-37549B7E.pf',\n",
       "       'OS:E:\\\\C\\\\Windows\\\\AppCompat\\\\Programs\\\\Amcache.hve',\n",
       "       'OS:E:\\\\C\\\\Windows\\\\system32\\\\winevt\\\\logs\\\\Microsoft-Windows-Fault-Tolerant-Heap%4Operational.evtx',\n",
       "       'OS:E:\\\\C\\\\Windows\\\\prefetch\\\\SYSTEMSETTINGS.EXE-2F464A5B.pf',\n",
       "       'OS:E:\\\\C\\\\Windows\\\\prefetch\\\\SVCHOST.EXE-17E125E3.pf',\n",
       "       'OS:E:\\\\C\\\\Windows\\\\system32\\\\winevt\\\\logs\\\\Microsoft-Windows-Biometrics%4Operational.evtx',\n",
       "       'OS:E:\\\\C\\\\Users\\\\administrator.shieldbase\\\\ntuser.dat',\n",
       "       'OS:E:\\\\C\\\\Windows\\\\system32\\\\winevt\\\\logs\\\\Microsoft-Windows-SmbClient%4Security.evtx',\n",
       "       'OS:E:\\\\C\\\\Windows\\\\system32\\\\winevt\\\\logs\\\\Microsoft-Windows-RemoteDesktopServices-RdpCoreTS%4Operational.evtx',\n",
       "       'OS:E:\\\\C\\\\Windows\\\\system32\\\\winevt\\\\logs\\\\Microsoft-Windows-TerminalServices-RemoteConnectionManager%4Operational.evtx',\n",
       "       'OS:E:\\\\C\\\\Windows\\\\system32\\\\winevt\\\\logs\\\\Microsoft-Windows-TerminalServices-RemoteConnectionManager%4Admin.evtx',\n",
       "       'OS:E:\\\\C\\\\Windows\\\\system32\\\\winevt\\\\logs\\\\Microsoft-Windows-DeviceSetupManager%4Admin.evtx',\n",
       "       'OS:E:\\\\C\\\\Windows\\\\system32\\\\winevt\\\\logs\\\\Microsoft-Windows-Kernel-PnP%4Configuration.evtx',\n",
       "       'OS:E:\\\\C\\\\Windows\\\\system32\\\\winevt\\\\logs\\\\Microsoft-Windows-Win32k%4Operational.evtx',\n",
       "       'OS:E:\\\\C\\\\Windows\\\\system32\\\\winevt\\\\logs\\\\Microsoft-Windows-DeviceSetupManager%4Operational.evtx',\n",
       "       'OS:E:\\\\C\\\\Windows\\\\system32\\\\winevt\\\\logs\\\\Microsoft-Windows-Wcmsvc%4Operational.evtx',\n",
       "       'OS:E:\\\\C\\\\Windows\\\\system32\\\\winevt\\\\logs\\\\Microsoft-Windows-TerminalServices-PnPDevices%4Admin.evtx',\n",
       "       'OS:E:\\\\C\\\\Windows\\\\system32\\\\winevt\\\\logs\\\\Microsoft-Windows-TerminalServices-ServerUSBDevices%4Admin.evtx',\n",
       "       'OS:E:\\\\C\\\\Windows\\\\system32\\\\winevt\\\\logs\\\\Microsoft-Windows-TerminalServices-LocalSessionManager%4Operational.evtx',\n",
       "       'OS:E:\\\\C\\\\Windows\\\\system32\\\\winevt\\\\logs\\\\Microsoft-Windows-Diagnosis-DPS%4Operational.evtx',\n",
       "       'OS:E:\\\\C\\\\Windows\\\\system32\\\\winevt\\\\logs\\\\Microsoft-Windows-Shell-Core%4AppDefaults.evtx',\n",
       "       'OS:E:\\\\C\\\\Windows\\\\system32\\\\winevt\\\\logs\\\\Microsoft-Windows-AppReadiness%4Admin.evtx',\n",
       "       'OS:E:\\\\C\\\\Windows\\\\system32\\\\winevt\\\\logs\\\\Microsoft-Windows-AppReadiness%4Operational.evtx',\n",
       "       'OS:E:\\\\C\\\\Windows\\\\prefetch\\\\DLLHOST.EXE-0AD6AC16.pf',\n",
       "       'OS:E:\\\\C\\\\Windows\\\\system32\\\\winevt\\\\logs\\\\Microsoft-Windows-User Device Registration%4Admin.evtx',\n",
       "       'OS:E:\\\\C\\\\Windows\\\\prefetch\\\\SHELLEXPERIENCEHOST.EXE-46FDBB1F.pf',\n",
       "       'OS:E:\\\\C\\\\Windows\\\\prefetch\\\\SEARCHUI.EXE-87624C1B.pf',\n",
       "       'OS:E:\\\\C\\\\Windows\\\\system32\\\\winevt\\\\logs\\\\Microsoft-Windows-SettingSync%4Operational.evtx',\n",
       "       'OS:E:\\\\C\\\\Windows\\\\prefetch\\\\UPDATERUI.EXE-DE600CE3.pf',\n",
       "       'OS:E:\\\\C\\\\Windows\\\\prefetch\\\\SHSTAT.EXE-5AA70198.pf',\n",
       "       'OS:E:\\\\C\\\\Windows\\\\system32\\\\winevt\\\\logs\\\\Microsoft-Windows-Audio%4PlaybackManager.evtx',\n",
       "       'OS:E:\\\\C\\\\Windows\\\\prefetch\\\\CONSENT.EXE-531BD9EA.pf',\n",
       "       'OS:E:\\\\C\\\\Windows\\\\system32\\\\winevt\\\\logs\\\\Microsoft-Windows-AAD%4Operational.evtx',\n",
       "       'OS:E:\\\\C\\\\Windows\\\\prefetch\\\\APPLICATIONFRAMEHOST.EXE-CCEEF759.pf',\n",
       "       'OS:E:\\\\C\\\\Windows\\\\prefetch\\\\MICROSOFTEDGE.EXE-C8670053.pf',\n",
       "       'OS:E:\\\\C\\\\Users\\\\spsql\\\\AppData\\\\Local\\\\Packages\\\\Microsoft.MicrosoftEdge_8wekyb3d8bbwe\\\\Settings\\\\settings.dat',\n",
       "       'OS:E:\\\\C\\\\Windows\\\\prefetch\\\\MICROSOFTEDGECP.EXE-FA0D159D.pf',\n",
       "       'OS:E:\\\\C\\\\Windows\\\\prefetch\\\\BROWSER_BROKER.EXE-E6357BB0.pf',\n",
       "       'OS:E:\\\\C\\\\Windows\\\\prefetch\\\\MICROSOFTPDFREADER.EXE-FE3EBC35.pf',\n",
       "       'OS:E:\\\\C\\\\Windows\\\\system32\\\\winevt\\\\logs\\\\Microsoft-Windows-TWinUI%4Operational.evtx',\n",
       "       'OS:E:\\\\C\\\\Windows\\\\prefetch\\\\SVCHOST.EXE-24568AC4.pf',\n",
       "       'OS:E:\\\\C\\\\Windows\\\\prefetch\\\\CREDENTIALUIBROKER.EXE-2FE21806.pf',\n",
       "       'OS:E:\\\\C\\\\Windows\\\\system32\\\\winevt\\\\logs\\\\Microsoft-Windows-SmbClient%4Connectivity.evtx',\n",
       "       'OS:E:\\\\C\\\\Windows\\\\system32\\\\winevt\\\\logs\\\\Microsoft-Windows-Provisioning-Diagnostics-Provider%4Admin.evtx',\n",
       "       'OS:E:\\\\C\\\\Windows\\\\system32\\\\winevt\\\\logs\\\\Microsoft-Windows-WinRM%4Operational.evtx',\n",
       "       'OS:E:\\\\C\\\\Windows\\\\system32\\\\winevt\\\\logs\\\\Microsoft-Client-Licensing-Platform%4Admin.evtx',\n",
       "       'OS:E:\\\\C\\\\Windows\\\\prefetch\\\\CLEANMGR.EXE-E3C5E89D.pf',\n",
       "       'OS:E:\\\\C\\\\Windows\\\\system32\\\\winevt\\\\logs\\\\Microsoft-Windows-Resource-Exhaustion-Detector%4Operational.evtx',\n",
       "       'OS:E:\\\\C\\\\Windows\\\\system32\\\\winevt\\\\logs\\\\Microsoft-Windows-Resource-Exhaustion-Resolver%4Operational.evtx',\n",
       "       'OS:E:\\\\C\\\\Windows\\\\prefetch\\\\OUTLOOK.EXE-F1C71227.pf',\n",
       "       'OS:E:\\\\C\\\\Windows\\\\prefetch\\\\IEXPLORE.EXE-908C99F8.pf',\n",
       "       'OS:E:\\\\C\\\\Windows\\\\prefetch\\\\IEXPLORE.EXE-4B6C9215.pf',\n",
       "       'OS:E:\\\\C\\\\Windows\\\\system32\\\\winevt\\\\logs\\\\Microsoft-Windows-Forwarding%4Operational.evtx',\n",
       "       'OS:E:\\\\C\\\\Users\\\\rsydow-a\\\\ntuser.dat',\n",
       "       'OS:E:\\\\C\\\\Windows\\\\prefetch\\\\COMPATTELRUNNER.EXE-DB97728F.pf',\n",
       "       'OS:E:\\\\C\\\\Windows\\\\prefetch\\\\BACKGROUNDTASKHOST.EXE-52C87A14.pf',\n",
       "       'OS:E:\\\\C\\\\Windows\\\\system32\\\\winevt\\\\logs\\\\Microsoft-Windows-WebAuthN%4Operational.evtx',\n",
       "       'OS:E:\\\\C\\\\Users\\\\spsql\\\\AppData\\\\Roaming\\\\Microsoft\\\\Windows\\\\Recent\\\\AutomaticDestinations\\\\1bc392b8e104a00e.automaticDestinations-ms',\n",
       "       'OS:E:\\\\C\\\\Windows\\\\system32\\\\winevt\\\\logs\\\\Microsoft-Windows-Kernel-Boot%4Operational.evtx',\n",
       "       'OS:E:\\\\C\\\\Windows\\\\system32\\\\winevt\\\\logs\\\\Microsoft-Windows-Kernel-ShimEngine%4Operational.evtx',\n",
       "       'OS:E:\\\\C\\\\Windows\\\\system32\\\\winevt\\\\logs\\\\Microsoft-Windows-Ntfs%4WHC.evtx',\n",
       "       'OS:E:\\\\C\\\\Windows\\\\system32\\\\winevt\\\\logs\\\\Microsoft-Windows-Partition%4Diagnostic.evtx',\n",
       "       'OS:E:\\\\C\\\\Windows\\\\system32\\\\winevt\\\\logs\\\\Microsoft-Windows-VolumeSnapshot-Driver%4Operational.evtx',\n",
       "       'OS:E:\\\\C\\\\Windows\\\\system32\\\\winevt\\\\logs\\\\Microsoft-Windows-CodeIntegrity%4Operational.evtx',\n",
       "       'OS:E:\\\\C\\\\Windows\\\\system32\\\\winevt\\\\logs\\\\Microsoft-Windows-Kernel-WHEA%4Operational.evtx',\n",
       "       'OS:E:\\\\C\\\\Windows\\\\system32\\\\winevt\\\\logs\\\\Microsoft-Windows-Containers-Wcifs%4Operational.evtx',\n",
       "       'OS:E:\\\\C\\\\Windows\\\\system32\\\\winevt\\\\logs\\\\Microsoft-Windows-NetworkProfile%4Operational.evtx',\n",
       "       'OS:E:\\\\C\\\\Windows\\\\system32\\\\winevt\\\\logs\\\\Microsoft-Windows-SMBServer%4Operational.evtx',\n",
       "       'OS:E:\\\\C\\\\Windows\\\\system32\\\\winevt\\\\logs\\\\Microsoft-Windows-NCSI%4Operational.evtx',\n",
       "       'OS:E:\\\\C\\\\Windows\\\\system32\\\\winevt\\\\logs\\\\Microsoft-Windows-SmartCard-DeviceEnum%4Operational.evtx',\n",
       "       'OS:E:\\\\C\\\\Windows\\\\prefetch\\\\SCHTASKS.EXE-AD598958.pf',\n",
       "       'OS:E:\\\\C\\\\Windows\\\\prefetch\\\\SEARCHINDEXER.EXE-4A6353B9.pf',\n",
       "       'OS:E:\\\\C\\\\Windows\\\\prefetch\\\\ONEDRIVE.EXE-8A435BA2.pf',\n",
       "       'OS:E:\\\\C\\\\Windows\\\\prefetch\\\\WEVTUTIL.EXE-400D93E8.pf',\n",
       "       'OS:E:\\\\C\\\\Windows\\\\prefetch\\\\WEVTUTIL.EXE-EF5861C4.pf',\n",
       "       'OS:E:\\\\C\\\\Windows\\\\prefetch\\\\MSIEXEC.EXE-A2D55CB6.pf',\n",
       "       'OS:E:\\\\C\\\\Windows\\\\prefetch\\\\MSIEXEC.EXE-E09A077A.pf',\n",
       "       'OS:E:\\\\C\\\\Windows\\\\prefetch\\\\RUNTIMEBROKER.EXE-D9AFC2C4.pf',\n",
       "       'OS:E:\\\\C\\\\Windows\\\\system32\\\\winevt\\\\logs\\\\Microsoft-Windows-Diagnostics-Performance%4Operational.evtx',\n",
       "       'OS:E:\\\\C\\\\Windows\\\\prefetch\\\\RUNDLL32.EXE-23EA2E5B.pf',\n",
       "       'OS:E:\\\\C\\\\Windows\\\\prefetch\\\\SVCHOST.EXE-8D87DCC8.pf',\n",
       "       'OS:E:\\\\C\\\\Windows\\\\prefetch\\\\NGEN.EXE-AE594A6B.pf',\n",
       "       'OS:E:\\\\C\\\\Windows\\\\prefetch\\\\NGEN.EXE-EC3F9239.pf',\n",
       "       'OS:E:\\\\C\\\\Windows\\\\prefetch\\\\POWERSHELL.EXE-920BBA2A.pf',\n",
       "       'OS:E:\\\\C\\\\Windows\\\\prefetch\\\\SEARCHPROTOCOLHOST.EXE-42E1CDC2.pf',\n",
       "       'OS:E:\\\\C\\\\Windows\\\\prefetch\\\\RUNDLL32.EXE-1BD8A3F1.pf',\n",
       "       'OS:E:\\\\C\\\\Windows\\\\prefetch\\\\WMIPRVSE.EXE-6768A320.pf',\n",
       "       'OS:E:\\\\C\\\\Windows\\\\prefetch\\\\RUNTIMEBROKER.EXE-D741D2F7.pf',\n",
       "       'OS:E:\\\\C\\\\Windows\\\\prefetch\\\\MCUPDATE.EXE-3E7ED03C.pf',\n",
       "       'OS:E:\\\\C\\\\Windows\\\\system32\\\\pa.exe',\n",
       "       'OS:E:\\\\C\\\\Windows\\\\prefetch\\\\RUNDLL32.EXE-AFB98035.pf',\n",
       "       'OS:E:\\\\C\\\\Windows\\\\prefetch\\\\PB.EXE-4C1C0FBD.pf',\n",
       "       'OS:E:\\\\C\\\\Windows\\\\prefetch\\\\FONDUE.EXE-142C2D15.pf',\n",
       "       'OS:E:\\\\C\\\\Windows\\\\prefetch\\\\CSRSS.EXE-7898BE61.pf',\n",
       "       'OS:E:\\\\C\\\\Windows\\\\prefetch\\\\CMD.EXE-AC113AA8.pf',\n",
       "       'OS:E:\\\\C\\\\Windows\\\\prefetch\\\\P.EXE-1209D82B.pf',\n",
       "       'OS:E:\\\\C\\\\Windows\\\\prefetch\\\\NETSH.EXE-CD959116.pf',\n",
       "       'OS:E:\\\\C\\\\Windows\\\\prefetch\\\\WMIC.EXE-40C98607.pf',\n",
       "       'OS:E:\\\\C\\\\Windows\\\\prefetch\\\\POWERSHELL.EXE-767FB1AE.pf',\n",
       "       'OS:E:\\\\C\\\\Windows\\\\prefetch\\\\RUNTIMEBROKER.EXE-AF970433.pf',\n",
       "       'OS:E:\\\\C\\\\Windows\\\\prefetch\\\\WMIC.EXE-A7D06383.pf',\n",
       "       'OS:E:\\\\C\\\\Windows\\\\prefetch\\\\PING.EXE-7E94E73E.pf',\n",
       "       'OS:E:\\\\C\\\\Windows\\\\prefetch\\\\RUNTIMEBROKER.EXE-56CF2D27.pf',\n",
       "       'OS:E:\\\\C\\\\Windows\\\\system32\\\\Family.Authentication.dll',\n",
       "       'OS:E:\\\\C\\\\Windows\\\\prefetch\\\\SVCHOST.EXE-1CCEF527.pf',\n",
       "       'OS:E:\\\\C\\\\Windows\\\\prefetch\\\\SETTINGSYNCHOST.EXE-2521C7ED.pf',\n",
       "       'OS:E:\\\\C\\\\Windows\\\\prefetch\\\\RUNTIMEBROKER.EXE-9A78ED9F.pf',\n",
       "       'OS:E:\\\\C\\\\Windows\\\\prefetch\\\\SKYPEHOST.EXE-BB182013.pf',\n",
       "       'OS:E:\\\\C\\\\Windows\\\\prefetch\\\\RUNTIMEBROKER.EXE-3E0F2269.pf',\n",
       "       'OS:E:\\\\C\\\\Windows\\\\prefetch\\\\ONEDRIVE.EXE-A7AE3D8C.pf',\n",
       "       'OS:E:\\\\C\\\\Windows\\\\prefetch\\\\RUNONCE.EXE-0E293DD6.pf',\n",
       "       'OS:E:\\\\C\\\\Windows\\\\prefetch\\\\GROOVEMONITOR.EXE-F50973DC.pf',\n",
       "       'OS:E:\\\\C\\\\Windows\\\\prefetch\\\\DLLHOST.EXE-5A984E5F.pf',\n",
       "       'OS:E:\\\\C\\\\Windows\\\\prefetch\\\\MSTSC.EXE-76A46E8A.pf',\n",
       "       'OS:E:\\\\C\\\\Windows\\\\prefetch\\\\BACKGROUNDTRANSFERHOST.EXE-02A81B49.pf',\n",
       "       'OS:E:\\\\C\\\\Windows\\\\system32\\\\winevt\\\\logs\\\\Microsoft-Windows-TerminalServices-RDPClient%4Operational.evtx',\n",
       "       'OS:E:\\\\C\\\\Windows\\\\prefetch\\\\BACKGROUNDTASKHOST.EXE-47A701FF.pf',\n",
       "       'OS:E:\\\\C\\\\Windows\\\\prefetch\\\\SIHOST.EXE-2C4C53BA.pf',\n",
       "       'OS:E:\\\\C\\\\Windows\\\\prefetch\\\\SVCHOST.EXE-D6693F60.pf',\n",
       "       'OS:E:\\\\C\\\\Windows\\\\prefetch\\\\USERINIT.EXE-2257A3E7.pf',\n",
       "       'OS:E:\\\\C\\\\Windows\\\\prefetch\\\\MSASCUIL.EXE-B411EDE3.pf',\n",
       "       'OS:E:\\\\C\\\\Windows\\\\prefetch\\\\VMTOOLSD.EXE-CD82EC13.pf',\n",
       "       'OS:E:\\\\C\\\\Windows\\\\prefetch\\\\MSCORSVW.EXE-C3C515BD.pf',\n",
       "       'OS:E:\\\\C\\\\Windows\\\\prefetch\\\\MSCORSVW.EXE-57D17DAF.pf',\n",
       "       'OS:E:\\\\C\\\\Users\\\\rsydow-a\\\\AppData\\\\Local\\\\Microsoft\\\\Windows\\\\UsrClass.dat',\n",
       "       'OS:E:\\\\C\\\\Windows\\\\prefetch\\\\SVCHOST.EXE-2E2328C8.pf',\n",
       "       'OS:E:\\\\C\\\\Windows\\\\prefetch\\\\RDPCLIP.EXE-9067FA0E.pf',\n",
       "       'OS:E:\\\\C\\\\Windows\\\\prefetch\\\\EXPLORER.EXE-A80E4F97.pf',\n",
       "       'OS:E:\\\\C\\\\Windows\\\\prefetch\\\\SMSS.EXE-E9C28FC6.pf',\n",
       "       'OS:E:\\\\C\\\\Windows\\\\prefetch\\\\CSRSS.EXE-3FE41F7E.pf',\n",
       "       'OS:E:\\\\C\\\\Windows\\\\prefetch\\\\WINLOGON.EXE-B020DC41.pf',\n",
       "       'OS:E:\\\\C\\\\Windows\\\\prefetch\\\\DWM.EXE-6FFD3DA8.pf',\n",
       "       'OS:E:\\\\C\\\\Windows\\\\prefetch\\\\FONTDRVHOST.EXE-31E45F6D.pf',\n",
       "       'OS:E:\\\\C\\\\Windows\\\\prefetch\\\\ATBROKER.EXE-2E15A492.pf',\n",
       "       'OS:E:\\\\C\\\\Windows\\\\prefetch\\\\DLLHOST.EXE-2E884D3E.pf',\n",
       "       'OS:E:\\\\C\\\\Windows\\\\prefetch\\\\RUNTIMEBROKER.EXE-72C0C855.pf',\n",
       "       'OS:E:\\\\C\\\\Windows\\\\prefetch\\\\WMIPRVSE.EXE-1628051C.pf',\n",
       "       'OS:E:\\\\C\\\\Windows\\\\prefetch\\\\AUDIODG.EXE-BDFD3029.pf',\n",
       "       'OS:E:\\\\C\\\\Windows\\\\system32\\\\winevt\\\\logs\\\\Microsoft-Windows-AppXDeployment%4Operational.evtx',\n",
       "       'OS:E:\\\\C\\\\Windows\\\\prefetch\\\\RUNTIMEBROKER.EXE-97225BFA.pf',\n",
       "       'OS:E:\\\\C\\\\Windows\\\\prefetch\\\\TIWORKER.EXE-2704BC5E.pf',\n",
       "       'OS:E:\\\\C\\\\Windows\\\\system32\\\\winevt\\\\logs\\\\Microsoft-Windows-GroupPolicy%4Operational.evtx',\n",
       "       'OS:E:\\\\C\\\\Windows\\\\prefetch\\\\RUNTIMEBROKER.EXE-ED4E2CAE.pf',\n",
       "       'OS:E:\\\\C\\\\Windows\\\\system32\\\\dxilconv.dll',\n",
       "       'OS:E:\\\\C\\\\Windows\\\\system32\\\\winevt\\\\logs\\\\Microsoft-Windows-Store%4Operational.evtx',\n",
       "       'OS:E:\\\\C\\\\Windows\\\\prefetch\\\\RUNTIMEBROKER.EXE-0502E535.pf',\n",
       "       'OS:E:\\\\C\\\\Windows\\\\system32\\\\winevt\\\\logs\\\\Application.evtx',\n",
       "       'OS:E:\\\\C\\\\Windows\\\\prefetch\\\\MCSCRIPT_INUSE.EXE-38589374.pf',\n",
       "       'OS:E:\\\\C\\\\Windows\\\\prefetch\\\\WSMPROVHOST.EXE-EF06207C.pf',\n",
       "       'OS:E:\\\\C\\\\Windows\\\\prefetch\\\\NGENTASK.EXE-4F8BD802.pf',\n",
       "       'OS:E:\\\\C\\\\Windows\\\\prefetch\\\\NGENTASK.EXE-BB7F7010.pf',\n",
       "       'OS:E:\\\\C\\\\Windows\\\\Temp\\\\CR_2D03E.tmp\\\\setup.exe',\n",
       "       'OS:E:\\\\C\\\\Windows\\\\system32\\\\drivers\\\\tcpipreg.sys',\n",
       "       'OS:E:\\\\C\\\\Users\\\\Public\\\\Desktop\\\\Google Chrome.lnk',\n",
       "       'OS:E:\\\\C\\\\Windows\\\\system32\\\\winevt\\\\logs\\\\Microsoft-Windows-LiveId%4Operational.evtx',\n",
       "       'OS:E:\\\\C\\\\Windows\\\\prefetch\\\\VSSVC.EXE-B8AFC319.pf',\n",
       "       'OS:E:\\\\C\\\\Windows\\\\prefetch\\\\SVCHOST.EXE-5E731DE3.pf',\n",
       "       'OS:E:\\\\C\\\\Windows\\\\prefetch\\\\69.0.3497.81_68.0.3440.106_CH-C147A6D4.pf',\n",
       "       'OS:E:\\\\C\\\\Windows\\\\prefetch\\\\SETUP.EXE-5789F219.pf',\n",
       "       'OS:E:\\\\C\\\\Windows\\\\prefetch\\\\SETUP.EXE-5789F220.pf',\n",
       "       'OS:E:\\\\C\\\\Windows\\\\prefetch\\\\SETUP.EXE-17F36A69.pf',\n",
       "       'OS:E:\\\\C\\\\Users\\\\spsql\\\\AppData\\\\Roaming\\\\Microsoft\\\\Windows\\\\Recent\\\\6.11.lnk',\n",
       "       'OS:E:\\\\C\\\\Users\\\\spsql\\\\AppData\\\\Roaming\\\\Microsoft\\\\Windows\\\\Recent\\\\Logs.lnk',\n",
       "       'OS:E:\\\\C\\\\Users\\\\spsql\\\\AppData\\\\Roaming\\\\Microsoft\\\\Windows\\\\Recent\\\\WindowsServerBackup.lnk',\n",
       "       'OS:E:\\\\C\\\\Users\\\\spsql\\\\AppData\\\\Roaming\\\\Microsoft\\\\Windows\\\\Recent\\\\6.14.lnk',\n",
       "       'OS:E:\\\\C\\\\Users\\\\spsql\\\\AppData\\\\Roaming\\\\Microsoft\\\\Windows\\\\Recent\\\\6.12.lnk',\n",
       "       'OS:E:\\\\C\\\\Users\\\\spsql\\\\AppData\\\\Roaming\\\\Microsoft\\\\Windows\\\\Recent\\\\7.15.lnk',\n",
       "       'OS:E:\\\\C\\\\Users\\\\spsql\\\\AppData\\\\Roaming\\\\Microsoft\\\\Windows\\\\Recent\\\\7.11.lnk',\n",
       "       'OS:E:\\\\C\\\\Users\\\\spsql\\\\AppData\\\\Roaming\\\\Microsoft\\\\Windows\\\\Recent\\\\7.13.lnk',\n",
       "       'OS:E:\\\\C\\\\Users\\\\spsql\\\\AppData\\\\Roaming\\\\Microsoft\\\\Windows\\\\Recent\\\\4.04.lnk',\n",
       "       'OS:E:\\\\C\\\\Windows\\\\prefetch\\\\MOBSYNC.EXE-C5E2284F.pf',\n",
       "       'OS:E:\\\\C\\\\Windows\\\\prefetch\\\\IPCONFIG.EXE-912F3D5B.pf',\n",
       "       'OS:E:\\\\C\\\\Windows\\\\prefetch\\\\CTFMON.EXE-9450846B.pf',\n",
       "       'OS:E:\\\\C\\\\Windows\\\\prefetch\\\\RUNDLL32.EXE-7A6E3FA9.pf',\n",
       "       'OS:E:\\\\C\\\\Windows\\\\prefetch\\\\TSTHEME.EXE-14AC78EA.pf',\n",
       "       'OS:E:\\\\C\\\\Windows\\\\prefetch\\\\CMD.EXE-4A81B364.pf',\n",
       "       'OS:E:\\\\C\\\\Windows\\\\prefetch\\\\SVCHOST.EXE-8BCDF905.pf',\n",
       "       'OS:E:\\\\C\\\\Windows\\\\prefetch\\\\RUNDLL32.EXE-467448AC.pf',\n",
       "       'OS:E:\\\\C\\\\Windows\\\\prefetch\\\\OFFICECLICKTORUN.EXE-9BB5F0C3.pf',\n",
       "       'OS:E:\\\\C\\\\Windows\\\\prefetch\\\\SVCHOST.EXE-724DE651.pf',\n",
       "       'OS:E:\\\\C\\\\Windows\\\\prefetch\\\\LOGONUI.EXE-09140401.pf',\n",
       "       'OS:E:\\\\C\\\\Windows\\\\prefetch\\\\DLLHOST.EXE-9C376A75.pf',\n",
       "       'OS:E:\\\\C\\\\Windows\\\\prefetch\\\\RUNDLL32.EXE-8FCB4341.pf',\n",
       "       'OS:E:\\\\C\\\\$Recycle.Bin\\\\S-1-5-21-3445421715-2530590580-3149308974-1193\\\\$IW2YF61',\n",
       "       'OS:E:\\\\C\\\\Windows\\\\prefetch\\\\TRUSTEDINSTALLER.EXE-3CC531E5.pf',\n",
       "       'OS:E:\\\\C\\\\Windows\\\\system32\\\\dimsroam.dll',\n",
       "       'OS:E:\\\\C\\\\Windows\\\\prefetch\\\\SVCHOST.EXE-C4EC3D8C.pf',\n",
       "       'OS:E:\\\\C\\\\Windows\\\\prefetch\\\\WINDOWS.WARP.JITSERVICE.EXE-CC70B00D.pf',\n",
       "       'OS:E:\\\\C\\\\Windows\\\\prefetch\\\\RUNTIMEBROKER.EXE-AB8179FF.pf',\n",
       "       'OS:E:\\\\C\\\\Windows\\\\prefetch\\\\RUNTIMEBROKER.EXE-04B5A152.pf',\n",
       "       'OS:E:\\\\C\\\\Windows\\\\prefetch\\\\DATAEXCHANGEHOST.EXE-BE987727.pf',\n",
       "       'OS:E:\\\\C\\\\Users\\\\spsql\\\\AppData\\\\Local\\\\Packages\\\\Microsoft.MicrosoftEdge_8wekyb3d8bbwe\\\\AC\\\\MicrosoftEdge\\\\User\\\\Default\\\\Recovery\\\\Active\\\\{AEE7BD2A-E43E-4284-9C6E-EFCA3AF3E67F}.dat',\n",
       "       'OS:E:\\\\C\\\\Windows\\\\prefetch\\\\CHROME.EXE-D999B1C1.pf',\n",
       "       'OS:E:\\\\C\\\\Windows\\\\prefetch\\\\CHROME.EXE-D999B1C0.pf',\n",
       "       'OS:E:\\\\C\\\\Windows\\\\prefetch\\\\CHROME.EXE-D999B1BC.pf',\n",
       "       'OS:E:\\\\C\\\\Users\\\\spsql\\\\AppData\\\\Local\\\\Google\\\\Chrome\\\\User Data\\\\Default\\\\Preferences',\n",
       "       'OS:E:\\\\C\\\\Windows\\\\prefetch\\\\CHROME.EXE-D999B1BB.pf',\n",
       "       'OS:E:\\\\C\\\\Users\\\\spsql\\\\AppData\\\\Local\\\\Google\\\\Chrome\\\\User Data\\\\Default\\\\Cache\\\\index',\n",
       "       'OS:E:\\\\C\\\\Users\\\\spsql\\\\AppData\\\\Local\\\\Google\\\\Chrome\\\\User Data\\\\Default\\\\Cookies',\n",
       "       'OS:E:\\\\C\\\\Windows\\\\prefetch\\\\CHRMSTP.EXE-0D10D0EC.pf',\n",
       "       'OS:E:\\\\C\\\\Windows\\\\prefetch\\\\CHRMSTP.EXE-0D10D0F3.pf',\n",
       "       'OS:E:\\\\C\\\\Users\\\\spsql\\\\AppData\\\\Local\\\\Packages\\\\Microsoft.MicrosoftEdge_8wekyb3d8bbwe\\\\AC\\\\MicrosoftEdge\\\\User\\\\Default\\\\Recovery\\\\Active\\\\RecoveryStore.{13211393-B27B-413B-976E-8EB50F9D1547}.dat',\n",
       "       'OS:E:\\\\C\\\\Windows\\\\system32\\\\winevt\\\\logs\\\\Microsoft-Windows-ShellCommon-StartLayoutPopulation%4Operational.evtx',\n",
       "       'OS:E:\\\\C\\\\Windows\\\\prefetch\\\\GOOGLEUPDATE.EXE-B95715F5.pf',\n",
       "       'OS:E:\\\\C\\\\Windows\\\\prefetch\\\\SCHTASKS.EXE-5CA45734.pf',\n",
       "       'OS:E:\\\\C\\\\Windows\\\\prefetch\\\\SPPSVC.EXE-B0F8131B.pf',\n",
       "       'OS:E:\\\\C\\\\Windows\\\\prefetch\\\\DLLHOST.EXE-A853C612.pf',\n",
       "       'OS:E:\\\\C\\\\Windows\\\\prefetch\\\\RUNDLL32.EXE-63F2C164.pf',\n",
       "       'OS:E:\\\\C\\\\Windows\\\\prefetch\\\\WINSAT.EXE-DE36CB46.pf',\n",
       "       'OS:E:\\\\C\\\\Windows\\\\system32\\\\winevt\\\\logs\\\\Microsoft-Windows-WindowsSystemAssessmentTool%4Operational.evtx',\n",
       "       'OS:E:\\\\C\\\\Windows\\\\prefetch\\\\BACKGROUNDTASKHOST.EXE-BD5D5DB4.pf',\n",
       "       'OS:E:\\\\C\\\\Windows\\\\prefetch\\\\RUNTIMEBROKER.EXE-102F4954.pf',\n",
       "       'OS:E:\\\\C\\\\Windows\\\\prefetch\\\\BACKGROUNDTASKHOST.EXE-5CC51893.pf',\n",
       "       'OS:E:\\\\C\\\\Windows\\\\prefetch\\\\NETSH.EXE-F1B6DA12.pf',\n",
       "       'OS:E:\\\\C\\\\Windows\\\\prefetch\\\\GPUPDATE.EXE-4FFD5DFA.pf',\n",
       "       'OS:E:\\\\C\\\\Windows\\\\system32\\\\winevt\\\\logs\\\\Microsoft-Windows-SMBServer%4Connectivity.evtx',\n",
       "       'OS:E:\\\\C\\\\Windows\\\\prefetch\\\\SUBJECT_SRV.EXE-3C028E74.pf',\n",
       "       'OS:E:\\\\C\\\\Windows\\\\prefetch\\\\DLLHOST.EXE-9037274D.pf',\n",
       "       'OS:E:\\\\C\\\\Windows\\\\prefetch\\\\BYTECODEGENERATOR.EXE-292CE66A.pf',\n",
       "       'OS:E:\\\\C\\\\Windows\\\\prefetch\\\\BYTECODEGENERATOR.EXE-C1E9BCE6.pf',\n",
       "       'OS:E:\\\\C\\\\Windows\\\\prefetch\\\\ENTVUTIL.EXE-B0B13044.pf',\n",
       "       'OS:E:\\\\C\\\\Users\\\\tdungan\\\\AppData\\\\Local\\\\Microsoft\\\\Internet Explorer\\\\Recovery\\\\AutomationManager\\\\Active\\\\{47E622EC-AC5C-11E8-A902-A2C6C7001600}.dat',\n",
       "       'OS:E:\\\\C\\\\Users\\\\tdungan\\\\AppData\\\\Local\\\\Microsoft\\\\Internet Explorer\\\\Recovery\\\\AutomationManager\\\\Active\\\\RecoveryStore.{47E622E9-AC5C-11E8-A902-A2C6C7001600}.dat',\n",
       "       'OS:E:\\\\C\\\\Users\\\\tdungan\\\\AppData\\\\Local\\\\Microsoft\\\\Internet Explorer\\\\Recovery\\\\AutomationManager\\\\Active\\\\{47E622EE-AC5C-11E8-A902-A2C6C7001600}.dat',\n",
       "       'OS:E:\\\\C\\\\Windows\\\\system32\\\\config\\\\SECURITY',\n",
       "       'OS:E:\\\\C\\\\Windows\\\\prefetch\\\\HELPER.EXE-A579FEB1.pf',\n",
       "       'OS:E:\\\\C\\\\Windows\\\\prefetch\\\\SVCHOST.EXE-EEB47B6C.pf',\n",
       "       'OS:E:\\\\C\\\\Windows\\\\prefetch\\\\SVCHOST.EXE-FE99AE69.pf',\n",
       "       'OS:E:\\\\C\\\\Windows\\\\prefetch\\\\SVCHOST.EXE-70DABB16.pf',\n",
       "       'OS:E:\\\\C\\\\Windows\\\\prefetch\\\\MPCMDRUN.EXE-F401FBB4.pf',\n",
       "       'OS:E:\\\\C\\\\Windows\\\\prefetch\\\\WMIADAP.EXE-F8DFDFA2.pf',\n",
       "       'OS:E:\\\\C\\\\Windows\\\\prefetch\\\\RUNTIMEBROKER.EXE-AFF373D3.pf',\n",
       "       'OS:E:\\\\C\\\\Windows\\\\prefetch\\\\TASKKILL.EXE-E0105477.pf',\n",
       "       'OS:E:\\\\C\\\\Users\\\\tdungan\\\\AppData\\\\Local\\\\Microsoft\\\\Internet Explorer\\\\Recovery\\\\AutomationManager\\\\Active\\\\{7BA248C9-B214-11E8-A903-A2C6C7001600}.dat',\n",
       "       'OS:E:\\\\C\\\\Users\\\\tdungan\\\\AppData\\\\Local\\\\Microsoft\\\\Internet Explorer\\\\Recovery\\\\AutomationManager\\\\Active\\\\RecoveryStore.{7BA248C6-B214-11E8-A903-A2C6C7001600}.dat',\n",
       "       'OS:E:\\\\C\\\\Users\\\\tdungan\\\\AppData\\\\Local\\\\Microsoft\\\\Internet Explorer\\\\Recovery\\\\AutomationManager\\\\Active\\\\{7BA248CB-B214-11E8-A903-A2C6C7001600}.dat',\n",
       "       'OS:E:\\\\C\\\\Windows\\\\prefetch\\\\WERFAULT.EXE-E69F695A.pf',\n",
       "       'OS:E:\\\\C\\\\Windows\\\\prefetch\\\\TASKHOSTW.EXE-3E0B74C8.pf',\n",
       "       'OS:E:\\\\C\\\\Windows\\\\prefetch\\\\WINSTORE.APP.EXE-41AD0522.pf',\n",
       "       'OS:E:\\\\C\\\\Windows\\\\prefetch\\\\COREDPUSSVR.EXE-20A1061F.pf',\n",
       "       'OS:E:\\\\C\\\\Windows\\\\prefetch\\\\WSCAVEXE.EXE-C9D53C8B.pf',\n",
       "       'OS:E:\\\\C\\\\Windows\\\\prefetch\\\\SPEECHRUNTIME.EXE-22A4873B.pf',\n",
       "       'OS:E:\\\\C\\\\Windows\\\\system32\\\\winevt\\\\logs\\\\Microsoft-Windows-PushNotification-Platform%4Operational.evtx',\n",
       "       'OS:E:\\\\C\\\\Windows\\\\prefetch\\\\CONHOST.EXE-1F3E9D7E.pf',\n",
       "       'OS:E:\\\\C\\\\Users\\\\tdungan\\\\AppData\\\\Local\\\\Packages\\\\Microsoft.MicrosoftEdge_8wekyb3d8bbwe\\\\AC\\\\MicrosoftEdge\\\\User\\\\Default\\\\Recovery\\\\Active\\\\RecoveryStore.{F8FC4444-EFD8-4273-9426-3ADC85FF640A}.dat',\n",
       "       'OS:E:\\\\C\\\\Users\\\\tdungan\\\\AppData\\\\Local\\\\Packages\\\\Microsoft.MicrosoftEdge_8wekyb3d8bbwe\\\\AC\\\\MicrosoftEdge\\\\User\\\\Default\\\\Recovery\\\\Active\\\\{3E63704A-2084-4EAE-A91E-248C2A357C6D}.dat',\n",
       "       'OS:E:\\\\C\\\\Users\\\\tdungan\\\\AppData\\\\Local\\\\Packages\\\\Microsoft.MicrosoftEdge_8wekyb3d8bbwe\\\\AC\\\\MicrosoftEdge\\\\User\\\\Default\\\\Recovery\\\\Active\\\\{4E82763A-C7C0-411E-A7A8-B74EEE5C84A6}.dat',\n",
       "       'OS:E:\\\\C\\\\Users\\\\tdungan\\\\AppData\\\\Local\\\\Packages\\\\Microsoft.MicrosoftEdge_8wekyb3d8bbwe\\\\AC\\\\MicrosoftEdge\\\\User\\\\Default\\\\Recovery\\\\Active\\\\{CBA4C346-5100-4E0D-B86C-B6F67008F8B9}.dat',\n",
       "       'OS:E:\\\\C\\\\Users\\\\tdungan\\\\AppData\\\\Local\\\\Packages\\\\Microsoft.MicrosoftEdge_8wekyb3d8bbwe\\\\AC\\\\MicrosoftEdge\\\\User\\\\Default\\\\Recovery\\\\Active\\\\{21716193-0C14-4997-82BB-1756482CDCAC}.dat',\n",
       "       'OS:E:\\\\C\\\\Users\\\\tdungan\\\\AppData\\\\Local\\\\Packages\\\\Microsoft.MicrosoftEdge_8wekyb3d8bbwe\\\\AC\\\\MicrosoftEdge\\\\User\\\\Default\\\\Recovery\\\\Active\\\\{69AE2428-4E75-4572-B803-ABA5AEBA6018}.dat',\n",
       "       'OS:E:\\\\C\\\\Users\\\\tdungan\\\\AppData\\\\Local\\\\Packages\\\\Microsoft.MicrosoftEdge_8wekyb3d8bbwe\\\\AC\\\\MicrosoftEdge\\\\User\\\\Default\\\\Recovery\\\\Active\\\\{2D34AE11-682C-4D0E-8B6A-58185B5713FD}.dat',\n",
       "       'OS:E:\\\\C\\\\Users\\\\tdungan\\\\AppData\\\\Local\\\\Packages\\\\Microsoft.MicrosoftEdge_8wekyb3d8bbwe\\\\AC\\\\MicrosoftEdge\\\\User\\\\Default\\\\Recovery\\\\Active\\\\{BF509301-BF55-4F20-B503-82038EF1D5AA}.dat',\n",
       "       'OS:E:\\\\C\\\\Users\\\\tdungan\\\\AppData\\\\Local\\\\Packages\\\\Microsoft.MicrosoftEdge_8wekyb3d8bbwe\\\\AC\\\\MicrosoftEdge\\\\User\\\\Default\\\\Recovery\\\\Active\\\\{D3CE4FAF-FC51-42FF-AA8D-1E6604BBC46B}.dat',\n",
       "       'OS:E:\\\\C\\\\Windows\\\\prefetch\\\\SEARCHPROTOCOLHOST.EXE-0CB8CADE.pf',\n",
       "       'OS:E:\\\\C\\\\Windows\\\\prefetch\\\\SEARCHFILTERHOST.EXE-77482212.pf',\n",
       "       'OS:E:\\\\C\\\\Windows\\\\prefetch\\\\SCAN64.EXE-F279AE0E.pf',\n",
       "       'OS:E:\\\\C\\\\Windows\\\\prefetch\\\\SVCHOST.EXE-BDAD81B1.pf'],\n",
       "      dtype=object)"
      ]
     },
     "execution_count": 39,
     "metadata": {},
     "output_type": "execute_result"
    }
   ],
   "source": [
    "df.filename.unique()"
   ]
  },
  {
   "cell_type": "markdown",
   "id": "boolean-niagara",
   "metadata": {},
   "source": [
    "Another array with lots of info included. Interesting. TODO. "
   ]
  },
  {
   "cell_type": "code",
   "execution_count": 40,
   "id": "tender-procurement",
   "metadata": {},
   "outputs": [
    {
     "data": {
      "text/plain": [
       "387"
      ]
     },
     "execution_count": 40,
     "metadata": {},
     "output_type": "execute_result"
    }
   ],
   "source": [
    "df.filename.nunique()"
   ]
  },
  {
   "cell_type": "code",
   "execution_count": 41,
   "id": "severe-actor",
   "metadata": {},
   "outputs": [
    {
     "data": {
      "text/plain": [
       "array([     0,  59617,  13553, ..., 199470,  39302,  21832], dtype=int64)"
      ]
     },
     "execution_count": 41,
     "metadata": {},
     "output_type": "execute_result"
    }
   ],
   "source": [
    "df.inode.unique()"
   ]
  },
  {
   "cell_type": "code",
   "execution_count": 42,
   "id": "friendly-keeping",
   "metadata": {},
   "outputs": [
    {
     "data": {
      "text/plain": [
       "7069"
      ]
     },
     "execution_count": 42,
     "metadata": {},
     "output_type": "execute_result"
    }
   ],
   "source": [
    "df.inode.nunique()"
   ]
  },
  {
   "cell_type": "markdown",
   "id": "crazy-necklace",
   "metadata": {},
   "source": [
    "not sure what to do with that. "
   ]
  },
  {
   "cell_type": "code",
   "execution_count": 43,
   "id": "impressed-slide",
   "metadata": {},
   "outputs": [
    {
     "data": {
      "text/plain": [
       "array(['-'], dtype=object)"
      ]
     },
     "execution_count": 43,
     "metadata": {},
     "output_type": "execute_result"
    }
   ],
   "source": [
    "df.notes.unique()"
   ]
  },
  {
   "cell_type": "code",
   "execution_count": 44,
   "id": "polyphonic-islam",
   "metadata": {},
   "outputs": [
    {
     "data": {
      "text/plain": [
       "1"
      ]
     },
     "execution_count": 44,
     "metadata": {},
     "output_type": "execute_result"
    }
   ],
   "source": [
    "df.notes.nunique()"
   ]
  },
  {
   "cell_type": "markdown",
   "id": "endangered-remove",
   "metadata": {},
   "source": [
    "nothing of interest there"
   ]
  },
  {
   "cell_type": "code",
   "execution_count": 45,
   "id": "suffering-cleaners",
   "metadata": {},
   "outputs": [
    {
     "data": {
      "text/plain": [
       "array(['winevtx', 'sqlite/chrome_cookies', 'prefetch', 'mactime',\n",
       "       'winreg/winreg_default', 'winreg/appcompatcache', 'chrome_cache',\n",
       "       'pe', 'olecf/olecf_automatic_destinations/lnk',\n",
       "       'custom_destinations/lnk', 'custom_destinations/lnk/shell_items',\n",
       "       'olecf/olecf_automatic_destinations/lnk/shell_items',\n",
       "       'lnk/shell_items', 'winreg/bagmru/shell_items', 'winreg/msie_zone',\n",
       "       'winreg/windows_task_cache', 'olecf/olecf_automatic_destinations',\n",
       "       'lnk', 'sqlite/chrome_27_history', 'winreg/bagmru',\n",
       "       'winreg/mrulistex_shell_item_list/shell_items',\n",
       "       'chrome_preferences', 'winreg/mrulistex_shell_item_list',\n",
       "       'olecf/olecf_default', 'winreg/mrulistex_string_and_shell_item',\n",
       "       'winreg/mrulistex_string', 'winreg/userassist', 'openxml',\n",
       "       'winreg/mrulistex_string_and_shell_item_list',\n",
       "       'winreg/network_drives', 'winreg/explorer_mountpoints2',\n",
       "       'winreg/explorer_programscache', 'winreg/windows_typed_urls',\n",
       "       'winreg/windows_run', 'winreg/mrulist_string',\n",
       "       'winreg/windows_services', 'winreg/mstsc_rdp',\n",
       "       'winreg/mstsc_rdp_mru', 'recycle_bin', 'winreg/networks',\n",
       "       'winreg/windows_shutdown', 'winreg/windows_boot_execute',\n",
       "       'winreg/windows_version', 'winreg/winlogon'], dtype=object)"
      ]
     },
     "execution_count": 45,
     "metadata": {},
     "output_type": "execute_result"
    }
   ],
   "source": [
    "df.format.unique()"
   ]
  },
  {
   "cell_type": "markdown",
   "id": "honest-officer",
   "metadata": {},
   "source": [
    "an array - looks similar to source"
   ]
  },
  {
   "cell_type": "code",
   "execution_count": 46,
   "id": "funded-brook",
   "metadata": {},
   "outputs": [
    {
     "data": {
      "text/plain": [
       "44"
      ]
     },
     "execution_count": 46,
     "metadata": {},
     "output_type": "execute_result"
    }
   ],
   "source": [
    "df.format.nunique()"
   ]
  },
  {
   "cell_type": "code",
   "execution_count": 47,
   "id": "forty-quebec",
   "metadata": {},
   "outputs": [
    {
     "data": {
      "text/plain": [
       "source   format                                            \n",
       "EVT      winevtx                                               152724\n",
       "FILE     mactime                                                 8394\n",
       "         lnk/shell_items                                          133\n",
       "         winreg/bagmru/shell_items                                131\n",
       "         olecf/olecf_automatic_destinations/lnk/shell_items        83\n",
       "         custom_destinations/lnk/shell_items                       18\n",
       "         winreg/mrulistex_shell_item_list/shell_items              10\n",
       "LNK      olecf/olecf_automatic_destinations/lnk                   183\n",
       "         lnk                                                       64\n",
       "         custom_destinations/lnk                                   11\n",
       "LOG      prefetch                                                 828\n",
       "         olecf/olecf_automatic_destinations                       214\n",
       "         olecf/olecf_automatic_destinations/lnk                    97\n",
       "         lnk                                                       37\n",
       "         chrome_preferences                                        20\n",
       "         custom_destinations/lnk                                    2\n",
       "         winreg/networks                                            1\n",
       "META     openxml                                                    1\n",
       "OLECF    olecf/olecf_default                                       29\n",
       "PE       pe                                                         7\n",
       "RECBIN   recycle_bin                                                1\n",
       "REG      winreg/winreg_default                                  16994\n",
       "         winreg/bagmru                                            194\n",
       "         winreg/windows_task_cache                                158\n",
       "         winreg/windows_services                                   65\n",
       "         winreg/appcompatcache                                     36\n",
       "         winreg/userassist                                         34\n",
       "         winreg/mrulistex_string                                   18\n",
       "         winreg/mrulistex_string_and_shell_item                    17\n",
       "         winreg/msie_zone                                          12\n",
       "         winreg/mrulist_string                                     10\n",
       "         winreg/mstsc_rdp                                           6\n",
       "         winreg/explorer_mountpoints2                               4\n",
       "         winreg/mrulistex_shell_item_list                           4\n",
       "         winreg/windows_run                                         3\n",
       "         winreg/winlogon                                            3\n",
       "         winreg/windows_boot_execute                                2\n",
       "         winreg/windows_typed_urls                                  2\n",
       "         winreg/windows_version                                     2\n",
       "         winreg/explorer_programscache                              1\n",
       "         winreg/mrulistex_string_and_shell_item_list                1\n",
       "         winreg/mstsc_rdp_mru                                       1\n",
       "         winreg/network_drives                                      1\n",
       "         winreg/windows_shutdown                                    1\n",
       "WEBHIST  chrome_cache                                            3538\n",
       "         sqlite/chrome_cookies                                    976\n",
       "         sqlite/chrome_27_history                                  95\n",
       "Name: format, dtype: int64"
      ]
     },
     "execution_count": 47,
     "metadata": {},
     "output_type": "execute_result"
    }
   ],
   "source": [
    "df.groupby(['source'])['format'].value_counts()"
   ]
  },
  {
   "cell_type": "code",
   "execution_count": 48,
   "id": "acting-tribute",
   "metadata": {},
   "outputs": [
    {
     "data": {
      "text/plain": [
       "array(['recovered: False; sha256_hash: cde410aa7b94ef1002200c891682572d7cdc5edc6fd6e6182708447e8c3c1950; strings_parsed: {}; user_sid: S-1-5-18; xml_string: <Event xmlns=\"http://schemas.microsoft.com/win/2004/08/events/event\">-  <System>-    <Provider Name=\"Microsoft-Windows-TaskScheduler\" Guid=\"{DE7B24EA-73C8-4A09-985D-5BDADCFA9017}\"/>-    <EventID>107</EventID>-    <Version>0</Version>-    <Level>4</Level>-    <Task>107</Task>-    <Opcode>0</Opcode>-    <Keywords>0x8000000000000000</Keywords>-    <TimeCreated SystemTime=\"2018-08-23T00:01:01.046364200Z\"/>-    <EventRecordID>187435</EventRecordID>-    <Correlation ActivityID=\"{6C43A72F-4B21-4071-B619-CE26EF192DC1}\"/>-    <Execution ProcessID=\"1484\" ThreadID=\"1816\"/>-    <Channel>Microsoft-Windows-TaskScheduler/Operational</Channel>-    <Computer>base-rd-01.shieldbase.lan</Computer>-    <Security UserID=\"S-1-5-18\"/>-  </System>-  <EventData Name=\"TimeTriggerEvent\">-    <Data Name=\"TaskName\">\\\\Microsoft\\\\Windows\\\\Windows Error Reporting\\\\QueueReporting</Data>-    <Data Name=\"InstanceId\">{6C43A72F-4B21-4071-B619-CE26EF192DC1}</Data>-  </EventData>-</Event>-',\n",
       "       'recovered: False; sha256_hash: cde410aa7b94ef1002200c891682572d7cdc5edc6fd6e6182708447e8c3c1950; strings_parsed: {}; user_sid: S-1-5-18; xml_string: <Event xmlns=\"http://schemas.microsoft.com/win/2004/08/events/event\">-  <System>-    <Provider Name=\"Microsoft-Windows-TaskScheduler\" Guid=\"{DE7B24EA-73C8-4A09-985D-5BDADCFA9017}\"/>-    <EventID>129</EventID>-    <Version>0</Version>-    <Level>4</Level>-    <Task>129</Task>-    <Opcode>0</Opcode>-    <Keywords>0x8000000000000000</Keywords>-    <TimeCreated SystemTime=\"2018-08-23T00:01:01.055034500Z\"/>-    <EventRecordID>187436</EventRecordID>-    <Correlation/>-    <Execution ProcessID=\"1484\" ThreadID=\"1816\"/>-    <Channel>Microsoft-Windows-TaskScheduler/Operational</Channel>-    <Computer>base-rd-01.shieldbase.lan</Computer>-    <Security UserID=\"S-1-5-18\"/>-  </System>-  <EventData Name=\"CreatedTaskProcess\">-    <Data Name=\"TaskName\">\\\\Microsoft\\\\Windows\\\\Windows Error Reporting\\\\QueueReporting</Data>-    <Data Name=\"Path\">%windir%\\\\system32\\\\wermgr.exe</Data>-    <Data Name=\"ProcessID\">6788</Data>-    <Data Name=\"Priority\">16384</Data>-  </EventData>-</Event>-',\n",
       "       'recovered: False; sha256_hash: cde410aa7b94ef1002200c891682572d7cdc5edc6fd6e6182708447e8c3c1950; strings_parsed: {}; user_sid: S-1-5-18; xml_string: <Event xmlns=\"http://schemas.microsoft.com/win/2004/08/events/event\">-  <System>-    <Provider Name=\"Microsoft-Windows-TaskScheduler\" Guid=\"{DE7B24EA-73C8-4A09-985D-5BDADCFA9017}\"/>-    <EventID>100</EventID>-    <Version>0</Version>-    <Level>4</Level>-    <Task>100</Task>-    <Opcode>1</Opcode>-    <Keywords>0x8000000000000001</Keywords>-    <TimeCreated SystemTime=\"2018-08-23T00:01:01.055554600Z\"/>-    <EventRecordID>187437</EventRecordID>-    <Correlation ActivityID=\"{6C43A72F-4B21-4071-B619-CE26EF192DC1}\"/>-    <Execution ProcessID=\"1484\" ThreadID=\"1816\"/>-    <Channel>Microsoft-Windows-TaskScheduler/Operational</Channel>-    <Computer>base-rd-01.shieldbase.lan</Computer>-    <Security UserID=\"S-1-5-18\"/>-  </System>-  <EventData Name=\"TaskStartEvent\">-    <Data Name=\"TaskName\">\\\\Microsoft\\\\Windows\\\\Windows Error Reporting\\\\QueueReporting</Data>-    <Data Name=\"UserContext\">NT AUTHORITY\\\\SYSTEM</Data>-    <Data Name=\"InstanceId\">{6C43A72F-4B21-4071-B619-CE26EF192DC1}</Data>-  </EventData>-</Event>-',\n",
       "       ...,\n",
       "       'recovered: False; sha256_hash: 6807dc60332085a5d639cd2794805bec0cd6ba124086906e35a47db76d8c9d80; strings_parsed: {}; user_sid: S-1-5-20; xml_string: <Event xmlns=\"http://schemas.microsoft.com/win/2004/08/events/event\">-  <System>-    <Provider Name=\"Microsoft-Windows-WinRM\" Guid=\"{A7975C8F-AC13-49F1-87DA-5A984A4AB417}\"/>-    <EventID>145</EventID>-    <Version>0</Version>-    <Level>4</Level>-    <Task>5</Task>-    <Opcode>1</Opcode>-    <Keywords>0x4000000000000002</Keywords>-    <TimeCreated SystemTime=\"2018-09-06T23:59:03.725707300Z\"/>-    <EventRecordID>287144</EventRecordID>-    <Correlation ActivityID=\"{C5DB660D-461F-0000-7D67-DBC51F46D401}\"/>-    <Execution ProcessID=\"1200\" ThreadID=\"1664\"/>-    <Channel>Microsoft-Windows-WinRM/Operational</Channel>-    <Computer>base-rd-01.shieldbase.lan</Computer>-    <Security UserID=\"S-1-5-20\"/>-  </System>-  <EventData>-    <Data Name=\"operationName\">Enumeration</Data>-    <Data Name=\"resourceUri\">http://schemas.microsoft.com/wbem/wsman/1/SubscriptionManager/Subscription</Data>-  </EventData>-</Event>-',\n",
       "       'recovered: False; sha256_hash: 6807dc60332085a5d639cd2794805bec0cd6ba124086906e35a47db76d8c9d80; strings_parsed: {}; user_sid: S-1-5-20; xml_string: <Event xmlns=\"http://schemas.microsoft.com/win/2004/08/events/event\">-  <System>-    <Provider Name=\"Microsoft-Windows-WinRM\" Guid=\"{A7975C8F-AC13-49F1-87DA-5A984A4AB417}\"/>-    <EventID>132</EventID>-    <Version>0</Version>-    <Level>4</Level>-    <Task>10</Task>-    <Opcode>2</Opcode>-    <Keywords>0x4000000000000002</Keywords>-    <TimeCreated SystemTime=\"2018-09-06T23:59:03.738785300Z\"/>-    <EventRecordID>287145</EventRecordID>-    <Correlation ActivityID=\"{C5DB660D-461F-0000-7D67-DBC51F46D401}\"/>-    <Execution ProcessID=\"1200\" ThreadID=\"1712\"/>-    <Channel>Microsoft-Windows-WinRM/Operational</Channel>-    <Computer>base-rd-01.shieldbase.lan</Computer>-    <Security UserID=\"S-1-5-20\"/>-  </System>-  <EventData>-    <Data Name=\"operationName\">Enumeration</Data>-  </EventData>-</Event>-',\n",
       "       'recovered: False; sha256_hash: 14f3fb53ec0b7dedfc94a127fef6da8961ae199f966d13d507237672f2338693; strings_parsed: {}; user_sid: S-1-5-19; xml_string: <Event xmlns=\"http://schemas.microsoft.com/win/2004/08/events/event\">-  <System>-    <Provider Name=\"Microsoft-Windows-WMI-Activity\" Guid=\"{1418EF04-B0B4-4623-BF7E-D74AB47BBDAA}\"/>-    <EventID>5857</EventID>-    <Version>0</Version>-    <Level>0</Level>-    <Task>0</Task>-    <Opcode>0</Opcode>-    <Keywords>0x4000000000000000</Keywords>-    <TimeCreated SystemTime=\"2018-09-06T23:59:15.419443800Z\"/>-    <EventRecordID>18017</EventRecordID>-    <Correlation/>-    <Execution ProcessID=\"5052\" ThreadID=\"3592\"/>-    <Channel>Microsoft-Windows-WMI-Activity/Operational</Channel>-    <Computer>base-rd-01.shieldbase.lan</Computer>-    <Security UserID=\"S-1-5-19\"/>-  </System>-  <UserData>-    <Operation_StartedOperational xmlns=\"http://manifests.microsoft.com/win/2006/windows/WMI\">-      <ProviderName>WmiPerfInst</ProviderName>-      <Code>0x00000000</Code>-      <HostProcess>wmiprvse.exe</HostProcess>-      <ProcessID>5052</ProcessID>-      <ProviderPath>C:\\\\Windows\\\\System32\\\\wbem\\\\WmiPerfInst.dll</ProviderPath>-    </Operation_StartedOperational>-  </UserData>-</Event>-'],\n",
       "      dtype=object)"
      ]
     },
     "execution_count": 48,
     "metadata": {},
     "output_type": "execute_result"
    }
   ],
   "source": [
    "df.extra.unique()"
   ]
  },
  {
   "cell_type": "code",
   "execution_count": 49,
   "id": "sacred-junior",
   "metadata": {},
   "outputs": [
    {
     "data": {
      "text/plain": [
       "157205"
      ]
     },
     "execution_count": 49,
     "metadata": {},
     "output_type": "execute_result"
    }
   ],
   "source": [
    "df.extra.nunique()"
   ]
  },
  {
   "cell_type": "markdown",
   "id": "patient-church",
   "metadata": {},
   "source": [
    "Maybe this is recovered files or volume shadow copies? "
   ]
  },
  {
   "cell_type": "code",
   "execution_count": 51,
   "id": "developmental-pressure",
   "metadata": {},
   "outputs": [
    {
     "data": {
      "text/plain": [
       "0         recovered: False; sha256_hash: cde410aa7b94ef1...\n",
       "1         recovered: False; sha256_hash: cde410aa7b94ef1...\n",
       "2         recovered: False; sha256_hash: cde410aa7b94ef1...\n",
       "3         recovered: False; sha256_hash: cde410aa7b94ef1...\n",
       "4         recovered: False; sha256_hash: cde410aa7b94ef1...\n",
       "                                ...                        \n",
       "185161    recovered: False; sha256_hash: a677ac5be58f722...\n",
       "185162    recovered: False; sha256_hash: a677ac5be58f722...\n",
       "185163    recovered: False; sha256_hash: 6807dc60332085a...\n",
       "185164    recovered: False; sha256_hash: 6807dc60332085a...\n",
       "185165    recovered: False; sha256_hash: 14f3fb53ec0b7de...\n",
       "Name: extra, Length: 185166, dtype: object"
      ]
     },
     "execution_count": 51,
     "metadata": {},
     "output_type": "execute_result"
    }
   ],
   "source": [
    "df.extra"
   ]
  },
  {
   "cell_type": "code",
   "execution_count": null,
   "id": "under-headquarters",
   "metadata": {},
   "outputs": [],
   "source": [
    "stop here how can i access the keys in his array?"
   ]
  },
  {
   "cell_type": "code",
   "execution_count": null,
   "id": "international-prairie",
   "metadata": {},
   "outputs": [],
   "source": [
    "list(extra_dict.keys())"
   ]
  },
  {
   "cell_type": "code",
   "execution_count": null,
   "id": "prostate-merit",
   "metadata": {},
   "outputs": [],
   "source": []
  },
  {
   "cell_type": "code",
   "execution_count": null,
   "id": "fundamental-thought",
   "metadata": {},
   "outputs": [],
   "source": [
    "df.describe()"
   ]
  },
  {
   "cell_type": "code",
   "execution_count": null,
   "id": "northern-payroll",
   "metadata": {},
   "outputs": [],
   "source": [
    "type(df)"
   ]
  },
  {
   "cell_type": "code",
   "execution_count": null,
   "id": "nutritional-tamil",
   "metadata": {},
   "outputs": [],
   "source": [
    "df.shape"
   ]
  },
  {
   "cell_type": "code",
   "execution_count": null,
   "id": "accessory-decrease",
   "metadata": {},
   "outputs": [],
   "source": [
    "df['date'].min()"
   ]
  },
  {
   "cell_type": "code",
   "execution_count": null,
   "id": "unknown-cleaning",
   "metadata": {},
   "outputs": [],
   "source": [
    "df['date'].max()"
   ]
  },
  {
   "cell_type": "code",
   "execution_count": null,
   "id": "matched-integration",
   "metadata": {},
   "outputs": [],
   "source": [
    "# format date and get date fields\n",
    "df['date'] = pd.to_datetime(df['date'])\n",
    "df['year'] = df['date'].dt.year\n",
    "df['month'] = df['date'].dt.month\n",
    "df['day'] = df['date'].dt.day\n"
   ]
  },
  {
   "cell_type": "code",
   "execution_count": null,
   "id": "hollow-ferry",
   "metadata": {},
   "outputs": [],
   "source": [
    "df['date'].max() - df['date'].min()"
   ]
  },
  {
   "cell_type": "code",
   "execution_count": null,
   "id": "absent-australian",
   "metadata": {},
   "outputs": [],
   "source": [
    "# inputs for keyword searches\n",
    "analyse_year =2018 \n",
    "analyse_month =8\n",
    "analyse_day = 25\n",
    "analyse_item = \"exe\" # for example\n"
   ]
  },
  {
   "cell_type": "code",
   "execution_count": null,
   "id": "waiting-tissue",
   "metadata": {},
   "outputs": [],
   "source": [
    "# https://sansorg.egnyte.com/dl/ZkAyckjFTI\n",
    "# list of suspicious items\n",
    "\n",
    "evil_things = [\"$C\", \"Admin$\", \"psexec.exe\", \"PsExec\", \"psexesvc\", \"at.exe\", \"schtasks.exe\", \"sc.exe\", \"wmic.exe\", \"wmiprvse.exe\"\n",
    "       \"scrcons.exe\", \"mofcomp.exe\", \"powershell.exe\",\"PowerShell\" \"wsmprovhost.exe\",\"Quarantine\" ]"
   ]
  },
  {
   "cell_type": "code",
   "execution_count": null,
   "id": "sunset-yacht",
   "metadata": {},
   "outputs": [],
   "source": [
    "type(df)"
   ]
  },
  {
   "cell_type": "code",
   "execution_count": null,
   "id": "cooked-alias",
   "metadata": {},
   "outputs": [],
   "source": [
    "df.dtypes"
   ]
  },
  {
   "cell_type": "code",
   "execution_count": null,
   "id": "shared-nothing",
   "metadata": {},
   "outputs": [],
   "source": []
  },
  {
   "cell_type": "code",
   "execution_count": null,
   "id": "neural-edition",
   "metadata": {},
   "outputs": [],
   "source": [
    "# loop over relevant cols and see if suspicious content mentioned\n",
    "found_evil=[]\n",
    "for column in df[['MACB', 'source', 'sourcetype', 'type', 'user', 'host', 'short', 'desc', 'filename', 'extra']]: \n",
    "    for evil_thing in evil_things:\n",
    "        if df[df[column].str.contains(evil_thing, na=False)].empty:\n",
    "            print(\"No evil found for \", evil_thing, df[df[column].str.contains(evil_thing, na=False)]) \n",
    "        else:\n",
    "            print(\"Evil found for \", evil_thing, df[df[column].str.contains(evil_thing, na=False)]) \n",
    "            found_evil.append(df[df[column].str.contains(evil_thing, na=False)])"
   ]
  },
  {
   "cell_type": "code",
   "execution_count": null,
   "id": "occasional-vancouver",
   "metadata": {},
   "outputs": [],
   "source": [
    "for evil_thing in evil_things:\n",
    "    if df[df['filename'].str.contains(evil_thing)].empty:\n",
    "        print(\"No evil found for \", evil_thing, df[df['filename'].str.contains(evil_thing)]) \n",
    "    else:\n",
    "        print(\"Evil found for \", evil_thing, df[df['filename'].str.contains(evil_thing)]) "
   ]
  },
  {
   "cell_type": "code",
   "execution_count": null,
   "id": "resident-citizen",
   "metadata": {},
   "outputs": [],
   "source": [
    "found_evil"
   ]
  },
  {
   "cell_type": "code",
   "execution_count": null,
   "id": "hungry-worse",
   "metadata": {},
   "outputs": [],
   "source": [
    "type(found_evil)\n",
    "len(found_evil)\n",
    "found_evil[-1]"
   ]
  },
  {
   "cell_type": "code",
   "execution_count": null,
   "id": "korean-receiver",
   "metadata": {},
   "outputs": [],
   "source": [
    "df.loc[df['year'] == analyse_year]\n",
    "df.loc[df['month'] == analyse_month]\n",
    "df.loc[df['day'] == analyse_day]\n",
    "df[df['filename'].str.contains(analyse_item)] #some regex stuff\n",
    "# hours minutes seconds?\n"
   ]
  },
  {
   "cell_type": "code",
   "execution_count": null,
   "id": "incident-customer",
   "metadata": {},
   "outputs": [],
   "source": [
    "df.type.unique()\n",
    "df.MACB.unique()"
   ]
  },
  {
   "cell_type": "code",
   "execution_count": null,
   "id": "affected-hours",
   "metadata": {},
   "outputs": [],
   "source": [
    "# created files\n",
    "\n",
    "created_files = df[df['MACB'].str.contains('MACB')]\n",
    "\n",
    "created_files.head()"
   ]
  },
  {
   "cell_type": "code",
   "execution_count": null,
   "id": "secret-portland",
   "metadata": {},
   "outputs": [],
   "source": [
    "created_files.count().sum()\n"
   ]
  },
  {
   "cell_type": "code",
   "execution_count": null,
   "id": "contrary-basin",
   "metadata": {},
   "outputs": [],
   "source": [
    "created_files.columns\n",
    "created_files[[\"date\", \"MACB\", \"type\"]]"
   ]
  },
  {
   "cell_type": "code",
   "execution_count": null,
   "id": "neural-session",
   "metadata": {},
   "outputs": [],
   "source": [
    "from collections import Counter\n",
    "\n",
    "dates = Counter(created_files.date.apply(lambda x: x.strftime('%d-%m-%Y')) )\n",
    "print(dates)\n",
    "counts = dates\n",
    "index = []\n",
    "data = []\n",
    "\n",
    "for k,v in counts.items():\n",
    "    index.append(k)\n",
    "    data.append(v)\n",
    "ts = pd.Series(data, index)\n",
    "figsize=(15, 10)\n",
    "ts.plot(kind=\"barh\", title=\"Bar chart of created files per date\")\n",
    "plt.xlabel('Number of created files')\n",
    "plt.ylabel('date')\n",
    "\n",
    "\n",
    "\n",
    "\n"
   ]
  },
  {
   "cell_type": "code",
   "execution_count": null,
   "id": "suspected-passion",
   "metadata": {},
   "outputs": [],
   "source": [
    "# lots of activity on the 28th\n",
    "df[['date']]\n",
    "\n",
    "check_date = \"2018-08-28\"\n",
    "created_files[created_files['date']==check_date]\n"
   ]
  },
  {
   "cell_type": "code",
   "execution_count": null,
   "id": "innocent-throw",
   "metadata": {},
   "outputs": [],
   "source": [
    "created_files[['date']]"
   ]
  },
  {
   "cell_type": "code",
   "execution_count": null,
   "id": "headed-piece",
   "metadata": {},
   "outputs": [],
   "source": [
    "df[['date','MACB', 'type']]"
   ]
  },
  {
   "cell_type": "code",
   "execution_count": null,
   "id": "fifteen-heart",
   "metadata": {},
   "outputs": [],
   "source": [
    "df[['date','MACB', 'type']].groupby('MACB').count().sort_values(\"type\", ascending=False)"
   ]
  },
  {
   "cell_type": "code",
   "execution_count": null,
   "id": "grave-emission",
   "metadata": {
    "scrolled": true
   },
   "outputs": [],
   "source": [
    "df[['date','MACB', 'type']].groupby('type').count().sort_values(\"MACB\", ascending=False)"
   ]
  },
  {
   "cell_type": "code",
   "execution_count": null,
   "id": "statistical-montana",
   "metadata": {},
   "outputs": [],
   "source": [
    "pd.set_option('display.max_colwidth',1000)# remove elipses to see filename"
   ]
  },
  {
   "cell_type": "code",
   "execution_count": null,
   "id": "choice-tongue",
   "metadata": {},
   "outputs": [],
   "source": [
    "df.filename[df.type=='File Downloaded']"
   ]
  },
  {
   "cell_type": "code",
   "execution_count": null,
   "id": "dirty-tennis",
   "metadata": {},
   "outputs": [],
   "source": [
    "df.filename[df.type=='Launch time']"
   ]
  },
  {
   "cell_type": "code",
   "execution_count": null,
   "id": "rising-dream",
   "metadata": {},
   "outputs": [],
   "source": []
  },
  {
   "cell_type": "code",
   "execution_count": null,
   "id": "graphic-invite",
   "metadata": {},
   "outputs": [],
   "source": []
  },
  {
   "cell_type": "code",
   "execution_count": null,
   "id": "stuffed-delta",
   "metadata": {},
   "outputs": [],
   "source": []
  },
  {
   "cell_type": "code",
   "execution_count": null,
   "id": "primary-relay",
   "metadata": {},
   "outputs": [],
   "source": []
  },
  {
   "cell_type": "code",
   "execution_count": null,
   "id": "republican-sunrise",
   "metadata": {},
   "outputs": [],
   "source": [
    "df.dtypes"
   ]
  },
  {
   "cell_type": "code",
   "execution_count": null,
   "id": "peripheral-aaron",
   "metadata": {},
   "outputs": [],
   "source": [
    "'''\n",
    "From Seamus's slides\n",
    "Timelining –Metadata, $MFT\n",
    "Metadata details from Master File Table\n",
    "• Timestamps associated with all files and directories, current and deleted\n",
    "• All Files System types, NTFS, FAT, EXT, others\n",
    "Timestamp metadata\n",
    "M –Data content last modified\n",
    "A –Data content last accessed\n",
    "C –Metadata content changed on MFT\n",
    "B –Metadata first created (Birth)\n",
    "'''\n",
    "\n"
   ]
  },
  {
   "cell_type": "code",
   "execution_count": null,
   "id": "hazardous-madness",
   "metadata": {},
   "outputs": [],
   "source": [
    "df.groupby(df['type']).count()\n",
    "\n",
    "\n",
    "\n"
   ]
  },
  {
   "cell_type": "code",
   "execution_count": null,
   "id": "specific-honor",
   "metadata": {},
   "outputs": [],
   "source": [
    "# plot \n",
    "ax = sns.countplot(x=\"MACB\", data=df)"
   ]
  },
  {
   "cell_type": "code",
   "execution_count": null,
   "id": "controversial-execution",
   "metadata": {},
   "outputs": [],
   "source": [
    "# plot \n",
    "ax = sns.countplot(x=\"MACB\", data=df)\n"
   ]
  },
  {
   "cell_type": "code",
   "execution_count": null,
   "id": "downtown-catholic",
   "metadata": {},
   "outputs": [],
   "source": [
    "# most are M...? check this out with nulls?"
   ]
  },
  {
   "cell_type": "code",
   "execution_count": null,
   "id": "sexual-boutique",
   "metadata": {},
   "outputs": [],
   "source": [
    "# drop M... to see what the others look look like\n",
    "sns.countplot(data=df.loc[df['MACB']!=\"M...\"], x='MACB')"
   ]
  },
  {
   "cell_type": "code",
   "execution_count": null,
   "id": "accompanied-venice",
   "metadata": {},
   "outputs": [],
   "source": [
    "# drop M... to see what the others look look like\n",
    "sns.countplot(data=df, x='type')\n",
    "plt.xticks(rotation=90)"
   ]
  },
  {
   "cell_type": "code",
   "execution_count": null,
   "id": "excess-router",
   "metadata": {},
   "outputs": [],
   "source": [
    "# drop M... to see what the others look look like\n",
    "sns.countplot(data=df.loc[df['type']!=\"Content Modification Time\"], x='type')\n",
    "plt.xticks(rotation=90)\n"
   ]
  },
  {
   "cell_type": "code",
   "execution_count": null,
   "id": "quiet-farming",
   "metadata": {},
   "outputs": [],
   "source": [
    "\n",
    "pd.set_option('display.max_row',1000)\n",
    "df[df['type']=='Launch time']['short']"
   ]
  },
  {
   "cell_type": "code",
   "execution_count": null,
   "id": "necessary-table",
   "metadata": {},
   "outputs": [],
   "source": []
  },
  {
   "cell_type": "code",
   "execution_count": null,
   "id": "continuous-genius",
   "metadata": {},
   "outputs": [],
   "source": [
    "# plot \n",
    "fig, ax = plt.subplots(figsize=(15,7))\n",
    "df.groupby(['date']).count()['type'].plot(ax=ax)\n",
    "plt.show\n"
   ]
  },
  {
   "cell_type": "code",
   "execution_count": null,
   "id": "exempt-lying",
   "metadata": {},
   "outputs": [],
   "source": [
    "fig, axs = plt.subplots(figsize=(12, 4))\n",
    "\n",
    "df.groupby(df[\"date\"].apply(lambda x: x.strftime('%d-%m-%Y')))[\"type\"].count().plot(kind='bar', rot=0, ax=axs, legend=True)\n",
    "plt.xlabel(\"date\");  # custom x label using matplotlib\n",
    "plt.ylabel(\"Count of Type\");\n",
    "plt.xticks(rotation=90)\n"
   ]
  },
  {
   "cell_type": "code",
   "execution_count": null,
   "id": "executed-transcript",
   "metadata": {},
   "outputs": [],
   "source": [
    "df.columns"
   ]
  },
  {
   "cell_type": "code",
   "execution_count": null,
   "id": "accurate-hebrew",
   "metadata": {},
   "outputs": [],
   "source": [
    "df.MACB.value_counts()"
   ]
  },
  {
   "cell_type": "code",
   "execution_count": null,
   "id": "earlier-bumper",
   "metadata": {},
   "outputs": [],
   "source": [
    "df.source.value_counts()"
   ]
  },
  {
   "cell_type": "code",
   "execution_count": null,
   "id": "iraqi-andorra",
   "metadata": {},
   "outputs": [],
   "source": [
    "df.sourcetype.value_counts()"
   ]
  },
  {
   "cell_type": "code",
   "execution_count": null,
   "id": "identical-sleeping",
   "metadata": {},
   "outputs": [],
   "source": [
    "df.user.value_counts()"
   ]
  },
  {
   "cell_type": "code",
   "execution_count": null,
   "id": "individual-granny",
   "metadata": {},
   "outputs": [],
   "source": [
    "for column in df:\n",
    "    print(column, \"\\n\", df[column].value_counts(), \"\\n\")"
   ]
  },
  {
   "cell_type": "code",
   "execution_count": null,
   "id": "functioning-optics",
   "metadata": {},
   "outputs": [],
   "source": [
    "df.date.value_counts()"
   ]
  },
  {
   "cell_type": "code",
   "execution_count": null,
   "id": "advanced-liver",
   "metadata": {},
   "outputs": [],
   "source": [
    "df.type.value_counts()"
   ]
  },
  {
   "cell_type": "code",
   "execution_count": null,
   "id": "adjacent-sleeve",
   "metadata": {},
   "outputs": [],
   "source": [
    "for column in df:\n",
    "    print(column, \"\\n\", df[column].nunique(), \"\\n\")"
   ]
  },
  {
   "cell_type": "code",
   "execution_count": null,
   "id": "sufficient-jimmy",
   "metadata": {},
   "outputs": [],
   "source": [
    "for column in df:\n",
    "    print(column, \"\\n\", df[column].unique(), \"\\n\")"
   ]
  },
  {
   "cell_type": "code",
   "execution_count": null,
   "id": "pretty-bowling",
   "metadata": {},
   "outputs": [],
   "source": [
    "df.source.hist(bins=10)"
   ]
  },
  {
   "cell_type": "code",
   "execution_count": null,
   "id": "obvious-education",
   "metadata": {},
   "outputs": [],
   "source": [
    "df.columns"
   ]
  },
  {
   "cell_type": "code",
   "execution_count": null,
   "id": "dirty-mobile",
   "metadata": {},
   "outputs": [],
   "source": [
    "df.nunique() #"
   ]
  },
  {
   "cell_type": "code",
   "execution_count": null,
   "id": "foreign-calibration",
   "metadata": {},
   "outputs": [],
   "source": [
    "for column in df[['date', 'MACB', 'source', 'sourcetype', 'type', 'format']]:\n",
    "    print(column)\n",
    "    df[column].hist(bins=10)\n",
    "    plt.xticks(rotation=90)\n",
    "    plt.show()"
   ]
  },
  {
   "cell_type": "code",
   "execution_count": null,
   "id": "preceding-dryer",
   "metadata": {},
   "outputs": [],
   "source": []
  },
  {
   "cell_type": "code",
   "execution_count": null,
   "id": "tutorial-elements",
   "metadata": {},
   "outputs": [],
   "source": []
  },
  {
   "cell_type": "code",
   "execution_count": null,
   "id": "literary-feature",
   "metadata": {},
   "outputs": [],
   "source": []
  },
  {
   "cell_type": "code",
   "execution_count": null,
   "id": "constitutional-mileage",
   "metadata": {},
   "outputs": [],
   "source": []
  },
  {
   "cell_type": "code",
   "execution_count": null,
   "id": "fewer-custom",
   "metadata": {},
   "outputs": [],
   "source": []
  },
  {
   "cell_type": "code",
   "execution_count": null,
   "id": "established-feature",
   "metadata": {},
   "outputs": [],
   "source": []
  },
  {
   "cell_type": "code",
   "execution_count": null,
   "id": "federal-comment",
   "metadata": {},
   "outputs": [],
   "source": [
    "df.sort_values(by='date')"
   ]
  },
  {
   "cell_type": "code",
   "execution_count": null,
   "id": "addressed-hampton",
   "metadata": {},
   "outputs": [],
   "source": []
  },
  {
   "cell_type": "markdown",
   "id": "treated-tradition",
   "metadata": {},
   "source": [
    "![Picure](images/PosterSANS-1024x715.png)\n"
   ]
  }
 ],
 "metadata": {
  "kernelspec": {
   "display_name": "Python 3",
   "language": "python",
   "name": "python3"
  },
  "language_info": {
   "codemirror_mode": {
    "name": "ipython",
    "version": 3
   },
   "file_extension": ".py",
   "mimetype": "text/x-python",
   "name": "python",
   "nbconvert_exporter": "python",
   "pygments_lexer": "ipython3",
   "version": "3.7.9"
  }
 },
 "nbformat": 4,
 "nbformat_minor": 5
}
